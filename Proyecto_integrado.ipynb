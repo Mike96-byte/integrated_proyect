{
 "cells": [
  {
   "cell_type": "markdown",
   "metadata": {
    "tags": [
     "e5c1f0c2-db9f-43a0-99b9-4875c52427e8"
    ]
   },
   "source": [
    "# <center>Analisis de datos para el Dataset Games</center>"
   ]
  },
  {
   "cell_type": "markdown",
   "metadata": {},
   "source": [
    "# Introducción\n",
    "\n",
    "En este proyecto pondremos a prueba los conocimientos adquiridos hasta este punto, veremos la importación de datos, la limpieza, el analisis, prueba de hipotesis y conclusiones de todo el proyecto. \n",
    "\n",
    "A lo largo del cuadernos podremos observar las diferentes secciones, donde se incluye el codigo y comentarios para saber como se fueron interpretando los datos, que decisión se tomo una vez visto errores, o cualquier inconsistencia. \n",
    "\n",
    "Al final del proyecto podremos observar cuales son las plataformas que más se venden, las regiones que más se venden y los generos que atraen más a las personas. Todo esto con ayuda de los graficos y nuestras propias conclusiones. \n",
    "\n",
    "Así que vamos alla y veamos que nos dicen los datos en este proyecto."
   ]
  },
  {
   "cell_type": "markdown",
   "metadata": {},
   "source": [
    "# Objetivo: \n",
    "\n",
    "El objetivo del proyecto es lograr hacer una predicción de ventas para el año 2017 con los datos disponibles"
   ]
  },
  {
   "cell_type": "markdown",
   "metadata": {},
   "source": [
    "# Importación"
   ]
  },
  {
   "cell_type": "markdown",
   "metadata": {},
   "source": [
    "## Importación de datos"
   ]
  },
  {
   "cell_type": "code",
   "execution_count": 9,
   "metadata": {},
   "outputs": [],
   "source": [
    "import pandas as pd\n",
    "import numpy as np\n",
    "import matplotlib.pyplot as plt\n",
    "import seaborn as sns\n",
    "from scipy import stats as st"
   ]
  },
  {
   "cell_type": "code",
   "execution_count": 10,
   "metadata": {},
   "outputs": [
    {
     "name": "stdout",
     "output_type": "stream",
     "text": [
      "<class 'pandas.core.frame.DataFrame'>\n",
      "RangeIndex: 16715 entries, 0 to 16714\n",
      "Data columns (total 11 columns):\n",
      " #   Column           Non-Null Count  Dtype  \n",
      "---  ------           --------------  -----  \n",
      " 0   Name             16713 non-null  object \n",
      " 1   Platform         16715 non-null  object \n",
      " 2   Year_of_Release  16446 non-null  float64\n",
      " 3   Genre            16713 non-null  object \n",
      " 4   NA_sales         16715 non-null  float64\n",
      " 5   EU_sales         16715 non-null  float64\n",
      " 6   JP_sales         16715 non-null  float64\n",
      " 7   Other_sales      16715 non-null  float64\n",
      " 8   Critic_Score     8137 non-null   float64\n",
      " 9   User_Score       10014 non-null  object \n",
      " 10  Rating           9949 non-null   object \n",
      "dtypes: float64(6), object(5)\n",
      "memory usage: 1.4+ MB\n"
     ]
    }
   ],
   "source": [
    "#Importamos el archivo y vemos la información de sus columnas\n",
    "df_game=pd.read_csv(\"games.csv\")\n",
    "df_game.info()"
   ]
  },
  {
   "cell_type": "markdown",
   "metadata": {},
   "source": [
    "Lo primero que vemos es que los nombres tienen algunas letras en mayusculas, vamos a crear un ciclo para poner todos los nombres de las columnas en minisculas"
   ]
  },
  {
   "cell_type": "markdown",
   "metadata": {},
   "source": [
    "# Limpieza de datos"
   ]
  },
  {
   "cell_type": "markdown",
   "metadata": {},
   "source": [
    "## Cambio de nombre"
   ]
  },
  {
   "cell_type": "code",
   "execution_count": 11,
   "metadata": {},
   "outputs": [
    {
     "name": "stdout",
     "output_type": "stream",
     "text": [
      "Index(['name', 'platform', 'year_of_release', 'genre', 'na_sales', 'eu_sales',\n",
      "       'jp_sales', 'other_sales', 'critic_score', 'user_score', 'rating'],\n",
      "      dtype='object')\n"
     ]
    }
   ],
   "source": [
    "#Declaramos una lista para agregar los nuevos nombres\n",
    "new_name_columns = []\n",
    "\n",
    "#Ciclo para poder agregar los nombres nuevos\n",
    "for name in df_game.columns:\n",
    "    name_stripe=name.strip()\n",
    "    column_name=name_stripe.lower()\n",
    "    new_name_columns.append(column_name)\n",
    "\n",
    "#Sustituimos los valores para que estén en minusculas\n",
    "df_game.columns = new_name_columns\n",
    "\n",
    "\n",
    "print(df_game.columns)"
   ]
  },
  {
   "cell_type": "markdown",
   "metadata": {},
   "source": [
    "Vamos a comprobar si existen registros duplicados y cuantas filas en blanco existen en cada columna"
   ]
  },
  {
   "cell_type": "markdown",
   "metadata": {},
   "source": [
    "## Duplicados y ausentes"
   ]
  },
  {
   "cell_type": "code",
   "execution_count": 12,
   "metadata": {},
   "outputs": [
    {
     "name": "stdout",
     "output_type": "stream",
     "text": [
      "name                  2\n",
      "platform              0\n",
      "year_of_release     269\n",
      "genre                 2\n",
      "na_sales              0\n",
      "eu_sales              0\n",
      "jp_sales              0\n",
      "other_sales           0\n",
      "critic_score       8578\n",
      "user_score         6701\n",
      "rating             6766\n",
      "dtype: int64\n",
      "\n",
      "0\n",
      "\n"
     ]
    }
   ],
   "source": [
    "#Imprimimos información para saber cuantas filas hay vacias en cada columna\n",
    "\n",
    "print(df_game.isna().sum())\n",
    "print()\n",
    "print(df_game.duplicated().sum())\n",
    "print()"
   ]
  },
  {
   "cell_type": "markdown",
   "metadata": {},
   "source": [
    "Revisando, vemos que hay 2 filas en blanco en genero, lo mejor será quitarlas ya que no afectarán en nada al proyecto yt no hay duplicados, entonces no debemos preocuparnos por ellos.\n",
    "También vemos que hay valores en \"years_of_release\" hay valores en blanco, en este caso los vamos a eliminar directamente, ya que no tenemos una forma de rellenarlos ni de saber a que año pertenecen. Y si los dejamos o ponemos cualquier año el analisis puede ser alterado, por lo tanto, vamos a eliminar esas filas también."
   ]
  },
  {
   "cell_type": "code",
   "execution_count": 13,
   "metadata": {},
   "outputs": [
    {
     "name": "stdout",
     "output_type": "stream",
     "text": [
      "name                  2\n",
      "platform              0\n",
      "year_of_release       0\n",
      "genre                 2\n",
      "na_sales              0\n",
      "eu_sales              0\n",
      "jp_sales              0\n",
      "other_sales           0\n",
      "critic_score       8578\n",
      "user_score         6701\n",
      "rating             6766\n",
      "dtype: int64\n"
     ]
    }
   ],
   "source": [
    "#Filtramos los valores que no estén en blanco, para obtener la moda de acuerdo a la plataforma y al genero\n",
    "\n",
    "vacios_year=df_game[~df_game[\"year_of_release\"].isna()]\n",
    "\n",
    "#Definimos una función para que nos ayude a obtener la moda para cada plataforma,genero.\n",
    "\n",
    "def moda_year(grupo):\n",
    "    \"\"\"Nos ayudará a encontrar la moda del año de acuerdo a la plataforma y genero\"\"\"\n",
    "    return grupo.mode().iloc[0]\n",
    "\n",
    "#agrupamos y obtenemos la moda para cada index.\n",
    "\n",
    "agrup_year=vacios_year.groupby([\"platform\",\"genre\"])[\"year_of_release\"].apply(moda_year).reset_index()\n",
    "\n",
    "\n",
    "#Convertimos la agrupación en un diccionario para acceder de forma más fácil a el y poder rellenar los valores ausentes\n",
    "\n",
    "dict_year=agrup_year.set_index([\"platform\",\"genre\"])[\"year_of_release\"].to_dict()\n",
    "\n",
    "#definimos la función que nos ayudará a llenar los valores ausentes, el cual ocupara el diccionario que creamos\n",
    "\n",
    "def year(valor):\n",
    "    \"\"\"Nos ayudará a rellenar los valores ausentes para año, dependiendo su moda de la plataforma y del genero\"\"\"\n",
    "    if pd.isna(valor[\"year_of_release\"]):\n",
    "        return dict_year.get((valor[\"platform\"],valor[\"genre\"]),valor[\"year_of_release\"])\n",
    "    else:\n",
    "        return valor[\"year_of_release\"]\n",
    "    \n",
    "#aplicamos el diccionario en el dataframe en la columna de \"year_of_release\" por medio de filas (axis=1)\n",
    "df_game[\"year_of_release\"]=df_game.apply(year,axis=1)\n",
    "\n",
    "#Comprobamos resultados\n",
    "print(df_game.isna().sum())"
   ]
  },
  {
   "cell_type": "code",
   "execution_count": 14,
   "metadata": {},
   "outputs": [
    {
     "name": "stdout",
     "output_type": "stream",
     "text": [
      "name                  0\n",
      "platform              0\n",
      "year_of_release       0\n",
      "genre                 0\n",
      "na_sales              0\n",
      "eu_sales              0\n",
      "jp_sales              0\n",
      "other_sales           0\n",
      "critic_score       8576\n",
      "user_score         6699\n",
      "rating             6764\n",
      "dtype: int64\n"
     ]
    }
   ],
   "source": [
    "#eliminamos las filas vacias de las columnas \"genre\" y \"year_of_release\"\n",
    "\n",
    "df_game=df_game.dropna(axis=0,subset=[\"genre\",\"name\"])\n",
    "print(df_game.isna().sum())"
   ]
  },
  {
   "cell_type": "markdown",
   "metadata": {},
   "source": [
    "Vamos a seguir trabajando con los valores en blanco, para estos no podemos eliminarlos directamente, porque son muchisimos datos, lo cual no sería una opción viable el eliminarlos. Vamos a ver que nos dicen los datos y como podemos trabajarlos.\n",
    "\n",
    "Lo primero es que leyendo los archivos vemos que la columna \"user_score\" tiene la leyende \"tbd\" lo cual dice que esta por determinar la calificación y luego hay espacios en blanco.\n",
    "\n",
    "Al tener estos datos, no tenemos la suficiente información para poder llenar los datos, por lo cual, vamos a dejar los valores en \"NaN\", porque si llenamos los datos con información como la mediana o la media, vamos a sesgar un poco los datos. y como son muchos datos, no deberían de eliminarse"
   ]
  },
  {
   "cell_type": "code",
   "execution_count": 15,
   "metadata": {},
   "outputs": [
    {
     "name": "stdout",
     "output_type": "stream",
     "text": [
      "genre\n",
      "Action          7.05\n",
      "Adventure       7.13\n",
      "Fighting        7.30\n",
      "Misc            6.82\n",
      "Platform        7.30\n",
      "Puzzle          7.18\n",
      "Racing          7.04\n",
      "Role-Playing    7.62\n",
      "Shooter         7.04\n",
      "Simulation      7.13\n",
      "Sports          6.96\n",
      "Strategy        7.30\n",
      "Name: user_score, dtype: float64\n",
      "genre\n",
      "Action          7.4\n",
      "Adventure       7.6\n",
      "Fighting        7.6\n",
      "Misc            7.1\n",
      "Platform        7.7\n",
      "Puzzle          7.5\n",
      "Racing          7.4\n",
      "Role-Playing    7.8\n",
      "Shooter         7.4\n",
      "Simulation      7.5\n",
      "Sports          7.4\n",
      "Strategy        7.8\n",
      "Name: user_score, dtype: float64\n",
      "name                  0\n",
      "platform              0\n",
      "year_of_release       0\n",
      "genre                 0\n",
      "na_sales              0\n",
      "eu_sales              0\n",
      "jp_sales              0\n",
      "other_sales           0\n",
      "critic_score       8576\n",
      "user_score         9123\n",
      "rating             6764\n",
      "dtype: int64\n"
     ]
    }
   ],
   "source": [
    "#transformamos la columna de \"user_score\" en números y los valores de \"tbt\" se transforman en valores ausentes\n",
    "\n",
    "df_game[\"user_score\"]=pd.to_numeric(df_game[\"user_score\"],errors=\"coerce\")\n",
    "\n",
    "#Redondeamos los valores a dos digitos\n",
    "df_game_mean=df_game.groupby(\"genre\")[\"user_score\"].mean().round(2)\n",
    "df_game_median=df_game.groupby(\"genre\")[\"user_score\"].median()\n",
    "\n",
    "print(df_game_mean)\n",
    "print(df_game_median)\n",
    "print(df_game.isna().sum())"
   ]
  },
  {
   "cell_type": "code",
   "execution_count": 16,
   "metadata": {},
   "outputs": [
    {
     "name": "stdout",
     "output_type": "stream",
     "text": [
      "genre\n",
      "Action          66.63\n",
      "Adventure       65.33\n",
      "Fighting        69.22\n",
      "Misc            66.62\n",
      "Platform        68.06\n",
      "Puzzle          67.42\n",
      "Racing          67.96\n",
      "Role-Playing    72.65\n",
      "Shooter         70.18\n",
      "Simulation      68.62\n",
      "Sports          71.97\n",
      "Strategy        72.09\n",
      "Name: critic_score, dtype: float64\n",
      "genre\n",
      "Action          68.0\n",
      "Adventure       66.0\n",
      "Fighting        72.0\n",
      "Misc            69.0\n",
      "Platform        69.0\n",
      "Puzzle          70.0\n",
      "Racing          69.0\n",
      "Role-Playing    74.0\n",
      "Shooter         73.0\n",
      "Simulation      70.0\n",
      "Sports          75.0\n",
      "Strategy        73.0\n",
      "Name: critic_score, dtype: float64\n"
     ]
    }
   ],
   "source": [
    "#imprimimos valores de media y mediana.\n",
    "df_game_critic_mean=df_game.groupby(\"genre\")[\"critic_score\"].mean().round(2)\n",
    "df_game_critic_median=df_game.groupby(\"genre\")[\"critic_score\"].median()\n",
    "\n",
    "print(df_game_critic_mean)\n",
    "print(df_game_critic_median)\n"
   ]
  },
  {
   "cell_type": "markdown",
   "metadata": {},
   "source": [
    "Ahora vamos a ver que podemos hacer con \"rating\" porque este contiene letras y no números. Con lo cual veamos sus datos y que podemos hacer"
   ]
  },
  {
   "cell_type": "markdown",
   "metadata": {},
   "source": [
    "## Clasificacion ESRB"
   ]
  },
  {
   "cell_type": "code",
   "execution_count": 17,
   "metadata": {},
   "outputs": [
    {
     "name": "stdout",
     "output_type": "stream",
     "text": [
      "name                  0\n",
      "platform              0\n",
      "year_of_release       0\n",
      "genre                 0\n",
      "na_sales              0\n",
      "eu_sales              0\n",
      "jp_sales              0\n",
      "other_sales           0\n",
      "critic_score       8576\n",
      "user_score         9123\n",
      "rating             1125\n",
      "dtype: int64\n"
     ]
    }
   ],
   "source": [
    "#filtramos los valores que no sean blancos de la columna \"rating\"\n",
    "\n",
    "data=df_game[~df_game[\"rating\"].isna()]\n",
    "\n",
    "#definimos una función para obtener la moda de acuerdo a la plataforma y el genero\n",
    "\n",
    "def moda_rating(grupo):\n",
    "    \"\"\"Devolvera la moda de la plataforma y de acuerdo a cada genero\"\"\"\n",
    "    return grupo.mode().iloc[0]\n",
    "\n",
    "#agrupamos los valores y aplicamos la función para que nos de la moda.\n",
    "\n",
    "agrup_rating = data.groupby([\"platform\",\"genre\"])[\"rating\"].apply(moda_rating).reset_index()\n",
    "\n",
    "\n",
    "#Convertimos nuestro dataframe de la moda en un diccionario para poder acceder a el con otro función\n",
    "\n",
    "moda_dict=agrup_rating.set_index([\"platform\",\"genre\"])[\"rating\"].to_dict()\n",
    "\n",
    "#Definimos otra función para que rellene las filas vacias de \"rating\" de acuerdo al diccionario creado\n",
    "\n",
    "def rating(row):\n",
    "    \"\"\"Rellenara los datos de la columna rating que sean ausentes, de acuerdo al diccionario creado anteriormente\"\"\"\n",
    "    if pd.isna(row[\"rating\"]):\n",
    "        return moda_dict.get((row[\"platform\"],row[\"genre\"]),row[\"rating\"])\n",
    "    else:\n",
    "        return row[\"rating\"]\n",
    "    \n",
    "df_game[\"rating\"]=df_game.apply(rating,axis=1)\n",
    "\n",
    "print(df_game.isna().sum())\n"
   ]
  },
  {
   "cell_type": "markdown",
   "metadata": {},
   "source": [
    "Como podemos ver, aun hay filas en blanco, sin embargo esto no los podemos llenar porque no existe una moda para ellos. con lo cual los dejaremos así."
   ]
  },
  {
   "cell_type": "code",
   "execution_count": 18,
   "metadata": {},
   "outputs": [
    {
     "name": "stdout",
     "output_type": "stream",
     "text": [
      "<class 'pandas.core.frame.DataFrame'>\n",
      "Index: 16713 entries, 0 to 16714\n",
      "Data columns (total 11 columns):\n",
      " #   Column           Non-Null Count  Dtype  \n",
      "---  ------           --------------  -----  \n",
      " 0   name             16713 non-null  object \n",
      " 1   platform         16713 non-null  object \n",
      " 2   year_of_release  16713 non-null  int64  \n",
      " 3   genre            16713 non-null  object \n",
      " 4   na_sales         16713 non-null  float64\n",
      " 5   eu_sales         16713 non-null  float64\n",
      " 6   jp_sales         16713 non-null  float64\n",
      " 7   other_sales      16713 non-null  float64\n",
      " 8   critic_score     8137 non-null   float64\n",
      " 9   user_score       7590 non-null   float64\n",
      " 10  rating           15588 non-null  object \n",
      "dtypes: float64(6), int64(1), object(4)\n",
      "memory usage: 1.5+ MB\n",
      "name                  0\n",
      "platform              0\n",
      "year_of_release       0\n",
      "genre                 0\n",
      "na_sales              0\n",
      "eu_sales              0\n",
      "jp_sales              0\n",
      "other_sales           0\n",
      "critic_score       8576\n",
      "user_score         9123\n",
      "rating             1125\n",
      "dtype: int64\n"
     ]
    }
   ],
   "source": [
    "#Transformamos los datos en los tipos que le corresponden.\n",
    "\n",
    "df_game[\"year_of_release\"]=df_game[\"year_of_release\"].astype(\"int\")\n",
    "df_game[\"user_score\"]=df_game[\"user_score\"].astype(\"float\")\n",
    "df_game[\"critic_score\"]=df_game[\"critic_score\"].astype(\"float\")\n",
    "\n",
    "\n",
    "df_game.info()\n",
    "print(df_game.isna().sum())"
   ]
  },
  {
   "cell_type": "markdown",
   "metadata": {},
   "source": [
    "Para terminar esta limpieza, vamos a hacer la suma total por juego, esto será la suma de todas las regiones."
   ]
  },
  {
   "cell_type": "code",
   "execution_count": 19,
   "metadata": {},
   "outputs": [
    {
     "name": "stdout",
     "output_type": "stream",
     "text": [
      "0        82.54\n",
      "1        40.24\n",
      "2        35.52\n",
      "3        32.77\n",
      "4        31.38\n",
      "         ...  \n",
      "16710     0.01\n",
      "16711     0.01\n",
      "16712     0.01\n",
      "16713     0.01\n",
      "16714     0.01\n",
      "Name: venta_total, Length: 16713, dtype: float64\n",
      "<class 'pandas.core.frame.DataFrame'>\n",
      "Index: 16713 entries, 0 to 16714\n",
      "Data columns (total 12 columns):\n",
      " #   Column           Non-Null Count  Dtype  \n",
      "---  ------           --------------  -----  \n",
      " 0   name             16713 non-null  object \n",
      " 1   platform         16713 non-null  object \n",
      " 2   year_of_release  16713 non-null  int64  \n",
      " 3   genre            16713 non-null  object \n",
      " 4   na_sales         16713 non-null  float64\n",
      " 5   eu_sales         16713 non-null  float64\n",
      " 6   jp_sales         16713 non-null  float64\n",
      " 7   other_sales      16713 non-null  float64\n",
      " 8   critic_score     8137 non-null   float64\n",
      " 9   user_score       7590 non-null   float64\n",
      " 10  rating           15588 non-null  object \n",
      " 11  venta_total      16713 non-null  float64\n",
      "dtypes: float64(7), int64(1), object(4)\n",
      "memory usage: 1.7+ MB\n"
     ]
    }
   ],
   "source": [
    "#Se suman todas las ventas para obteber la columna de \"ventas_totales\"\n",
    "\n",
    "df_game[\"venta_total\"]=df_game[\"na_sales\"] + df_game[\"eu_sales\"] + df_game[\"jp_sales\"] + df_game[\"other_sales\"]\n",
    "print(df_game[\"venta_total\"])\n",
    "\n",
    "df_game.info()"
   ]
  },
  {
   "cell_type": "code",
   "execution_count": 20,
   "metadata": {},
   "outputs": [],
   "source": [
    "df_game.to_csv('games_limpio.csv', index=False)"
   ]
  },
  {
   "cell_type": "markdown",
   "metadata": {},
   "source": [
    "# Analisis"
   ]
  },
  {
   "cell_type": "markdown",
   "metadata": {},
   "source": [
    "## Juegos por año"
   ]
  },
  {
   "cell_type": "code",
   "execution_count": 12,
   "metadata": {},
   "outputs": [
    {
     "data": {
      "image/png": "[encoded data removed]",
      "text/plain": [
       "<Figure size 640x480 with 1 Axes>"
      ]
     },
     "metadata": {},
     "output_type": "display_data"
    }
   ],
   "source": [
    "#Agrupar los datos por año y contar los juegos que se lanzaron ese año\n",
    "\n",
    "games_per_year=df_game.groupby(\"year_of_release\")[\"name\"].size().reset_index()\n",
    "\n",
    "#Graficar los resultados, como es comparativa, podemos usar la grafica de barras.\n",
    "\n",
    "sns.barplot(x=\"year_of_release\",y=\"name\",data=games_per_year)\n",
    "plt.xticks(rotation=90)\n",
    "plt.title(\"Juegos lanzados por año\")\n",
    "plt.xlabel(\"Años\")\n",
    "plt.ylabel(\"Numero de juegos\")\n",
    "\n",
    "#Quitar las lineas derecha y de arriba para mejor visualización\n",
    "ax=plt.gca()\n",
    "ax.spines[\"right\"].set_visible(False)\n",
    "ax.spines[\"top\"].set_visible(False)\n",
    "\n",
    "\n",
    "plt.show()"
   ]
  },
  {
   "cell_type": "markdown",
   "metadata": {},
   "source": [
    "Lo que vemos en la grafica es que la mayoria tuvo un crecimiento exponencial desde el año 2000, llegando a su auge en el año 2008 y 2009. por lo que ahora pasaremos a analizar las ventas por plataforma. Esto para ver como es su distribución."
   ]
  },
  {
   "cell_type": "code",
   "execution_count": 13,
   "metadata": {
    "scrolled": false
   },
   "outputs": [
    {
     "data": {
      "image/png": "[encoded data removed]",
      "text/plain": [
       "<Figure size 640x480 with 1 Axes>"
      ]
     },
     "metadata": {},
     "output_type": "display_data"
    }
   ],
   "source": [
    "#Agrupamos los valores de plataformas por ventas totales\n",
    "\n",
    "sales_for_platform=df_game.groupby(\"platform\")[\"venta_total\"].sum().reset_index().sort_values(by=\"venta_total\",ascending=False)\n",
    "\n",
    "sns.barplot(x=\"platform\",y=\"venta_total\",data=sales_for_platform)\n",
    "plt.xticks(rotation=90)\n",
    "plt.title(\"Ventas totales por plataformas\")\n",
    "plt.xlabel(\"Plataformas\")\n",
    "plt.ylabel(\"Total de ventas\")\n",
    "\n",
    "#Quitar las lineas derecha y de arriba para mejor visualización\n",
    "ax=plt.gca()\n",
    "ax.spines[\"right\"].set_visible(False)\n",
    "ax.spines[\"top\"].set_visible(False)\n",
    "plt.show()"
   ]
  },
  {
   "cell_type": "markdown",
   "metadata": {},
   "source": [
    "Estos datos si que son muy impresionantes. Lo que vemos es que solo 6 plataformas tienen casi el 90% de ventas. Primero vamos a ver cual es el tiempo de vida de las plataformas. Esto lo lograremos agrupando datos de acuerdo a la plataforma y los años, para saber sus ventas totales.\n",
    "\n",
    "Ahí veremos en que fechas son cuando empezaron las ventas y cuando dejo de haber ventas.\n",
    "Una vez tenemos eso, vamos a obtener una media de cuanto tardan las plataformas en dejar de tener ventas."
   ]
  },
  {
   "cell_type": "code",
   "execution_count": 14,
   "metadata": {},
   "outputs": [
    {
     "data": {
      "image/png": "[encoded data removed]",
      "text/plain": [
       "<Figure size 1000x600 with 1 Axes>"
      ]
     },
     "metadata": {},
     "output_type": "display_data"
    }
   ],
   "source": [
    "#Primero obtenemos las primeras 3 plataformas con mayores ventas\n",
    "\n",
    "data_group=df_game.groupby(\"platform\")[\"venta_total\"].sum().nlargest(5).index\n",
    "\n",
    "#Ahora filtramos nuestro dataframe para que nos salgan solo las plataformas con mayores ventas\n",
    "\n",
    "filter_data = df_game[df_game[\"platform\"].isin(data_group)]\n",
    "ventas_por_año=filter_data.groupby(\"year_of_release\")[\"venta_total\"].sum().reset_index()\n",
    "\n",
    "\n",
    "#Graficas un histograma para ver la distribución de ventas por año\n",
    "\n",
    "plt.figure(figsize=(10,6))\n",
    "plt.hist(ventas_por_año['year_of_release'],\n",
    "         bins=range(2005,2016),\n",
    "         weights=ventas_por_año['venta_total'],\n",
    "         edgecolor='black',\n",
    "         alpha=0.7)\n",
    "\n",
    "plt.title('Distribución de Ventas Totales')\n",
    "plt.xlabel('Ventas')\n",
    "plt.ylabel('Frecuencia')\n",
    "\n",
    "#Quitar las lineas derecha y de arriba para mejor visualización\n",
    "ax=plt.gca()\n",
    "ax.spines[\"right\"].set_visible(False)\n",
    "ax.spines[\"top\"].set_visible(False)\n",
    "\n",
    "\n",
    "plt.show()"
   ]
  },
  {
   "cell_type": "markdown",
   "metadata": {},
   "source": [
    "Muchas gracias! Ya hice la correción y pongo las ventas a partir del 2006 al 2016. Si bien, son más años, en 5 no se podía ver bien la tendencia, de aquí se llega a ver la tendencia de las ventas."
   ]
  },
  {
   "cell_type": "markdown",
   "metadata": {},
   "source": [
    "En este histograma podemos ver que tiene una tendencia hacia le derecha y que no tiene una distribución normal. \n",
    "\n",
    "Lo que veo es que las ventas de estas plataformas salieron desde el año 2000 y fue que incremetaron mucho su venta durante 8 a 9 años."
   ]
  },
  {
   "cell_type": "code",
   "execution_count": 15,
   "metadata": {
    "scrolled": false
   },
   "outputs": [
    {
     "data": {
      "image/png": "[encoded data removed]",
      "text/plain": [
       "<Figure size 1000x600 with 1 Axes>"
      ]
     },
     "metadata": {},
     "output_type": "display_data"
    }
   ],
   "source": [
    "#Ahora vamos a graficar diagramas de cajas para todas las ventas por año de las plataformas con mayores ventas\n",
    "\n",
    "plt.figure(figsize=(10,6))\n",
    "\n",
    "platforms_years=filter_data.groupby([\"year_of_release\",\"platform\"])[\"venta_total\"].sum().reset_index()\n",
    "\n",
    "\n",
    "sns.boxplot(x=\"platform\",y=\"venta_total\",data=platforms_years)\n",
    "\n",
    "plt.title('Distribución de Ventas por Año y Plataforma')\n",
    "plt.xlabel('Año')\n",
    "plt.ylabel('Ventas')\n",
    "\n",
    "#Quitar las lineas derecha y de arriba para mejor visualización\n",
    "ax=plt.gca()\n",
    "ax.spines[\"right\"].set_visible(False)\n",
    "ax.spines[\"top\"].set_visible(False)\n",
    "\n",
    "\n",
    "plt.show()\n"
   ]
  },
  {
   "cell_type": "code",
   "execution_count": 16,
   "metadata": {
    "scrolled": false
   },
   "outputs": [
    {
     "data": {
      "image/png": "[encoded data removed]",
      "text/plain": [
       "<Figure size 640x480 with 1 Axes>"
      ]
     },
     "metadata": {},
     "output_type": "display_data"
    }
   ],
   "source": [
    "#Vamos a ver la diferencia de años de las plataformas de cuando salen y cuando sus ventas son nulas\n",
    "\n",
    "sale_for_platform=df_game.groupby([\"platform\",\"year_of_release\"])[\"venta_total\"].sum().reset_index()\n",
    "dif_year_min=sale_for_platform.groupby(\"platform\")[\"year_of_release\"].min()\n",
    "dif_year_max=sale_for_platform.groupby(\"platform\")[\"year_of_release\"].max()\n",
    "\n",
    "#Obtenemos las diferencias restando el año maximo y el año minimo (o año en que se lanzaron)\n",
    "\n",
    "dif_year=dif_year_max - dif_year_min\n",
    "\n",
    "\n",
    "# Graficamos un diagrama de caja para ver el intervalo\n",
    "\n",
    "plt.boxplot(dif_year,patch_artist=True,notch=True,vert=0)\n",
    "plt.xlabel(\"Años de ventas\")\n",
    "plt.ylabel(\"Platforms\")\n",
    "plt.title(\"Boxplot para años de vida de las plataformas\")\n",
    "\n",
    "plt.show()"
   ]
  },
  {
   "cell_type": "markdown",
   "metadata": {},
   "source": [
    "Lo que vamos a observar es que tenemos un intervalo de entre 4 y 10 años. Teniendo una media de 6 años.\n",
    "\n",
    "Entonces podemos decir que la mayoría de las plataformas tienen una duración de 6 años y que después de eso, las ventas o son muy bajas o son 0.\n",
    "\n",
    "Vamos a ver el comportamiento de las plataformas con mayores ventas."
   ]
  },
  {
   "cell_type": "code",
   "execution_count": 17,
   "metadata": {},
   "outputs": [
    {
     "data": {
      "image/png": "[encoded data removed]",
      "text/plain": [
       "<Figure size 1500x1000 with 1 Axes>"
      ]
     },
     "metadata": {},
     "output_type": "display_data"
    }
   ],
   "source": [
    "#Vamos a graficar pero ahora con una grafica de barras, las 4 plataformas con mayores ventas.\n",
    "\n",
    "top_platforms=sales_for_platform.nlargest(4,columns=\"venta_total\")[\"platform\"].tolist()\n",
    "\n",
    "\n",
    "#Filtramos los datos para que solo salgan las plataformas con mayores ventas\n",
    "\n",
    "df_top=df_game[df_game[\"platform\"].isin(top_platforms)]\n",
    "\n",
    "\n",
    "#Graficamos los datos\n",
    "\n",
    "plt.figure(figsize=(15, 10))\n",
    "sns.barplot(x='year_of_release', y='venta_total', hue='platform', data=df_top)\n",
    "\n",
    "plt.xticks(rotation=90)\n",
    "plt.title('Comparación de Ventas por Año y Plataforma')\n",
    "plt.xlabel('Año')\n",
    "plt.ylabel('Ventas')\n",
    "plt.legend(title='Plataforma')\n",
    "\n",
    "#Quitar las lineas derecha y de arriba para mejor visualización\n",
    "ax=plt.gca()\n",
    "ax.spines[\"right\"].set_visible(False)\n",
    "ax.spines[\"top\"].set_visible(False)\n",
    "\n",
    "\n",
    "plt.show()"
   ]
  },
  {
   "cell_type": "markdown",
   "metadata": {},
   "source": [
    "Con este grafico nos demuestra que para la consola del PS2 sus ventas empezaron en el 2000 y por lo que se aprecia terminaron en el 2011. Lo cual podemos decir fue un exito y entra en el rango del \"boxplot\" anterior."
   ]
  },
  {
   "cell_type": "markdown",
   "metadata": {},
   "source": [
    "Ahora vamos a seleccionar los datos que sean relevantes para lo que buscamos que es una predicción para el 2017. \n",
    "\n",
    "Para eso nos ayudaremos con el boxplot, y viendolo vamos a traer solo datos que sean de 6 años anteriores, por lo que estaremos contemplando ventas desde 2010 al 2016.\n"
   ]
  },
  {
   "cell_type": "markdown",
   "metadata": {},
   "source": [
    "Vamos a automatizar un poco el analisis para cuando se desee hacer una predicción para otros años. \n",
    "\n",
    "Por lo que haremos una función que nos devuelva los 7 años posteriores del año de predicción que queramos hacer."
   ]
  },
  {
   "cell_type": "markdown",
   "metadata": {},
   "source": [
    "## Prediccion años"
   ]
  },
  {
   "cell_type": "code",
   "execution_count": 18,
   "metadata": {},
   "outputs": [
    {
     "name": "stdout",
     "output_type": "stream",
     "text": [
      "[2011, 2012, 2013, 2014, 2015, 2016]\n"
     ]
    }
   ],
   "source": [
    "def year_pred(year_data):\n",
    "    \"\"\"Esta función nos ayudará a extraer los años posteriores para una predicción para el año 2017\"\"\"\n",
    "    year_dates=[]\n",
    "    for year in  range(year_data-6,year_data):\n",
    "        year_dates.append(year)\n",
    "    return year_dates\n",
    "\n",
    "year_dates=year_pred(2017)\n",
    "print(year_dates)\n",
    "        \n"
   ]
  },
  {
   "cell_type": "markdown",
   "metadata": {},
   "source": [
    "\n",
    "Ya que tenemos los años necesarios, vamos a filtrar los datos solo para esos años."
   ]
  },
  {
   "cell_type": "code",
   "execution_count": 19,
   "metadata": {
    "scrolled": false
   },
   "outputs": [
    {
     "name": "stdout",
     "output_type": "stream",
     "text": [
      "      index                            name platform  year_of_release  \\\n",
      "0        16              Grand Theft Auto V      PS3             2013   \n",
      "1        23              Grand Theft Auto V     X360             2013   \n",
      "2        29  Call of Duty: Modern Warfare 3     X360             2011   \n",
      "3        31       Call of Duty: Black Ops 3      PS4             2015   \n",
      "4        33             Pokemon X/Pokemon Y      3DS             2013   \n",
      "...     ...                             ...      ...              ...   \n",
      "4080  16703                Strawberry Nauts      PSV             2016   \n",
      "4081  16707                Aiyoku no Eustia      PSV             2014   \n",
      "4082  16710   Samurai Warriors: Sanada Maru      PS3             2016   \n",
      "4083  16712         Haitaka no Psychedelica      PSV             2016   \n",
      "4084  16714             Winning Post 8 2016      PSV             2016   \n",
      "\n",
      "             genre  na_sales  eu_sales  jp_sales  other_sales  critic_score  \\\n",
      "0           Action      7.02      9.09      0.98         3.96          97.0   \n",
      "1           Action      9.66      5.14      0.06         1.41          97.0   \n",
      "2          Shooter      9.04      4.24      0.13         1.32          88.0   \n",
      "3          Shooter      6.03      5.86      0.36         2.38           NaN   \n",
      "4     Role-Playing      5.28      4.19      4.35         0.78           NaN   \n",
      "...            ...       ...       ...       ...          ...           ...   \n",
      "4080     Adventure      0.00      0.00      0.01         0.00           NaN   \n",
      "4081          Misc      0.00      0.00      0.01         0.00           NaN   \n",
      "4082        Action      0.00      0.00      0.01         0.00           NaN   \n",
      "4083     Adventure      0.00      0.00      0.01         0.00           NaN   \n",
      "4084    Simulation      0.00      0.00      0.01         0.00           NaN   \n",
      "\n",
      "      user_score rating  venta_total  \n",
      "0            8.2      M        21.05  \n",
      "1            8.1      M        16.27  \n",
      "2            3.4      M        14.73  \n",
      "3            NaN      M        14.63  \n",
      "4            NaN      T        14.60  \n",
      "...          ...    ...          ...  \n",
      "4080         NaN      M         0.01  \n",
      "4081         NaN      T         0.01  \n",
      "4082         NaN      M         0.01  \n",
      "4083         NaN      M         0.01  \n",
      "4084         NaN    NaN         0.01  \n",
      "\n",
      "[4085 rows x 13 columns]\n"
     ]
    }
   ],
   "source": [
    "#Filtramos los datos que necesitamos nada más.\n",
    "\n",
    "data_pred=df_game[df_game[\"year_of_release\"].isin(year_dates)].reset_index()\n",
    "\n",
    "print(data_pred)\n"
   ]
  },
  {
   "cell_type": "markdown",
   "metadata": {},
   "source": [
    "Bien! ya que tenemos los datos relevantes. Ahora vamos a trabajar con ellos.\n",
    "\n",
    "Lo primero vamos a ver el comportamiento de las plataformas."
   ]
  },
  {
   "cell_type": "code",
   "execution_count": 20,
   "metadata": {},
   "outputs": [
    {
     "data": {
      "image/png": "[encoded data removed]",
      "text/plain": [
       "<Figure size 1000x600 with 1 Axes>"
      ]
     },
     "metadata": {},
     "output_type": "display_data"
    }
   ],
   "source": [
    "#Graficamos los datos con un diagrama de caja para ver sus ventas.\n",
    "\n",
    "data_graficas=data_pred.groupby(\"platform\")[\"venta_total\"].sum().nlargest(5).index\n",
    "data_filtrada=data_pred[data_pred[\"platform\"].isin(data_graficas)]\n",
    "data_group=data_filtrada.groupby([\"platform\",\"name\"])[\"venta_total\"].sum().reset_index()\n",
    "    \n",
    "plt.figure(figsize=(10, 6))\n",
    "sns.boxplot(x=\"platform\",y=\"venta_total\",data=data_filtrada)\n",
    "plt.xticks(rotation=90)\n",
    "plt.title(\"Diagrama de caja para ventas de plataformas\")\n",
    "plt.xlabel(\"Plataforma\")\n",
    "plt.ylabel(\"Ventas globales\")   \n",
    "\n",
    "#Quitar las lineas derecha y de arriba para mejor visualización\n",
    "ax=plt.gca()\n",
    "ax.spines[\"right\"].set_visible(False)\n",
    "ax.spines[\"top\"].set_visible(False)\n",
    "\n",
    "    \n",
    "plt.show()"
   ]
  },
  {
   "cell_type": "markdown",
   "metadata": {},
   "source": [
    "Lo que vemos con ayuda del diagrama de cajas es que para las plataformas más populares no hay gran variación en sus ventas promedio, sus diagramas de cajas son muy parecidos. Lo que podemos decir es que hay muchos valores atipicos. Ya que suelen tener ventas muy grandes y esto pasa con todas las plataformas. "
   ]
  },
  {
   "cell_type": "code",
   "execution_count": 21,
   "metadata": {},
   "outputs": [
    {
     "data": {
      "image/png": "[encoded data removed]",
      "text/plain": [
       "<Figure size 640x480 with 1 Axes>"
      ]
     },
     "metadata": {},
     "output_type": "display_data"
    }
   ],
   "source": [
    "#Con una grafica de dispersión nos apoyamos para ver como se comportan la calificación de los criticos con las ventas\n",
    "\n",
    "data_ps3=data_pred[data_pred[\"platform\"]==\"PS3\"]\n",
    "\n",
    "plt.scatter(data_ps3[\"critic_score\"],data_ps3[\"venta_total\"],c=\"blue\")\n",
    "\n",
    "plt.xlabel(\"Puntuación de expertos\")\n",
    "plt.ylabel(\"Ventas totales\")\n",
    "plt.title(\"Grafica de dispersion para correlación para ver la afectación de la puntuación en ventas\")\n",
    "plt.yscale(\"log\")\n",
    "\n",
    "#Quitar las lineas derecha y de arriba para mejor visualización\n",
    "ax=plt.gca()\n",
    "ax.spines[\"right\"].set_visible(False)\n",
    "ax.spines[\"top\"].set_visible(False)\n",
    "\n",
    "plt.show()"
   ]
  },
  {
   "cell_type": "code",
   "execution_count": 22,
   "metadata": {},
   "outputs": [
    {
     "data": {
      "image/png": "[encoded data removed]",
      "text/plain": [
       "<Figure size 640x480 with 1 Axes>"
      ]
     },
     "metadata": {},
     "output_type": "display_data"
    }
   ],
   "source": [
    "#Con la ayuda de una grafica de dispersion vemos el comportamiento de la calificación de los usuarios con las ventas.\n",
    "\n",
    "plt.scatter(data_ps3[\"user_score\"],data_ps3[\"venta_total\"],c=\"red\")\n",
    "plt.xlabel(\"Puntuación de expertos\")\n",
    "plt.ylabel(\"Ventas totales\")\n",
    "plt.title(\"Grafica de dispersion para correlación para ver la afectación de la puntuación en ventas\")\n",
    "plt.yscale(\"log\")\n",
    "\n",
    "\n",
    "#Quitar las lineas derecha y de arriba para mejor visualización\n",
    "ax=plt.gca()\n",
    "ax.spines[\"right\"].set_visible(False)\n",
    "ax.spines[\"top\"].set_visible(False)\n",
    "\n",
    "plt.show()"
   ]
  },
  {
   "cell_type": "code",
   "execution_count": 23,
   "metadata": {
    "scrolled": true
   },
   "outputs": [
    {
     "data": {
      "text/html": [
       "<div>\n",
       "<style scoped>\n",
       "    .dataframe tbody tr th:only-of-type {\n",
       "        vertical-align: middle;\n",
       "    }\n",
       "\n",
       "    .dataframe tbody tr th {\n",
       "        vertical-align: top;\n",
       "    }\n",
       "\n",
       "    .dataframe thead th {\n",
       "        text-align: right;\n",
       "    }\n",
       "</style>\n",
       "<table border=\"1\" class=\"dataframe\">\n",
       "  <thead>\n",
       "    <tr style=\"text-align: right;\">\n",
       "      <th></th>\n",
       "      <th>index</th>\n",
       "      <th>year_of_release</th>\n",
       "      <th>na_sales</th>\n",
       "      <th>eu_sales</th>\n",
       "      <th>jp_sales</th>\n",
       "      <th>other_sales</th>\n",
       "      <th>critic_score</th>\n",
       "      <th>user_score</th>\n",
       "      <th>venta_total</th>\n",
       "    </tr>\n",
       "  </thead>\n",
       "  <tbody>\n",
       "    <tr>\n",
       "      <th>index</th>\n",
       "      <td>1.000000</td>\n",
       "      <td>0.279713</td>\n",
       "      <td>-0.500914</td>\n",
       "      <td>-0.431579</td>\n",
       "      <td>-0.336129</td>\n",
       "      <td>-0.442639</td>\n",
       "      <td>-0.560983</td>\n",
       "      <td>-0.159295</td>\n",
       "      <td>-0.490849</td>\n",
       "    </tr>\n",
       "    <tr>\n",
       "      <th>year_of_release</th>\n",
       "      <td>0.279713</td>\n",
       "      <td>1.000000</td>\n",
       "      <td>-0.146131</td>\n",
       "      <td>-0.092903</td>\n",
       "      <td>-0.054396</td>\n",
       "      <td>-0.099111</td>\n",
       "      <td>-0.036589</td>\n",
       "      <td>-0.218231</td>\n",
       "      <td>-0.119324</td>\n",
       "    </tr>\n",
       "    <tr>\n",
       "      <th>na_sales</th>\n",
       "      <td>-0.500914</td>\n",
       "      <td>-0.146131</td>\n",
       "      <td>1.000000</td>\n",
       "      <td>0.837450</td>\n",
       "      <td>0.331698</td>\n",
       "      <td>0.875462</td>\n",
       "      <td>0.399059</td>\n",
       "      <td>0.007687</td>\n",
       "      <td>0.937823</td>\n",
       "    </tr>\n",
       "    <tr>\n",
       "      <th>eu_sales</th>\n",
       "      <td>-0.431579</td>\n",
       "      <td>-0.092903</td>\n",
       "      <td>0.837450</td>\n",
       "      <td>1.000000</td>\n",
       "      <td>0.352007</td>\n",
       "      <td>0.979266</td>\n",
       "      <td>0.339643</td>\n",
       "      <td>-0.016982</td>\n",
       "      <td>0.968841</td>\n",
       "    </tr>\n",
       "    <tr>\n",
       "      <th>jp_sales</th>\n",
       "      <td>-0.336129</td>\n",
       "      <td>-0.054396</td>\n",
       "      <td>0.331698</td>\n",
       "      <td>0.352007</td>\n",
       "      <td>1.000000</td>\n",
       "      <td>0.357108</td>\n",
       "      <td>0.201107</td>\n",
       "      <td>0.171351</td>\n",
       "      <td>0.434152</td>\n",
       "    </tr>\n",
       "    <tr>\n",
       "      <th>other_sales</th>\n",
       "      <td>-0.442639</td>\n",
       "      <td>-0.099111</td>\n",
       "      <td>0.875462</td>\n",
       "      <td>0.979266</td>\n",
       "      <td>0.357108</td>\n",
       "      <td>1.000000</td>\n",
       "      <td>0.350354</td>\n",
       "      <td>0.011940</td>\n",
       "      <td>0.977982</td>\n",
       "    </tr>\n",
       "    <tr>\n",
       "      <th>critic_score</th>\n",
       "      <td>-0.560983</td>\n",
       "      <td>-0.036589</td>\n",
       "      <td>0.399059</td>\n",
       "      <td>0.339643</td>\n",
       "      <td>0.201107</td>\n",
       "      <td>0.350354</td>\n",
       "      <td>1.000000</td>\n",
       "      <td>0.559140</td>\n",
       "      <td>0.379837</td>\n",
       "    </tr>\n",
       "    <tr>\n",
       "      <th>user_score</th>\n",
       "      <td>-0.159295</td>\n",
       "      <td>-0.218231</td>\n",
       "      <td>0.007687</td>\n",
       "      <td>-0.016982</td>\n",
       "      <td>0.171351</td>\n",
       "      <td>0.011940</td>\n",
       "      <td>0.559140</td>\n",
       "      <td>1.000000</td>\n",
       "      <td>0.011883</td>\n",
       "    </tr>\n",
       "    <tr>\n",
       "      <th>venta_total</th>\n",
       "      <td>-0.490849</td>\n",
       "      <td>-0.119324</td>\n",
       "      <td>0.937823</td>\n",
       "      <td>0.968841</td>\n",
       "      <td>0.434152</td>\n",
       "      <td>0.977982</td>\n",
       "      <td>0.379837</td>\n",
       "      <td>0.011883</td>\n",
       "      <td>1.000000</td>\n",
       "    </tr>\n",
       "  </tbody>\n",
       "</table>\n",
       "</div>"
      ],
      "text/plain": [
       "                    index  year_of_release  na_sales  eu_sales  jp_sales  \\\n",
       "index            1.000000         0.279713 -0.500914 -0.431579 -0.336129   \n",
       "year_of_release  0.279713         1.000000 -0.146131 -0.092903 -0.054396   \n",
       "na_sales        -0.500914        -0.146131  1.000000  0.837450  0.331698   \n",
       "eu_sales        -0.431579        -0.092903  0.837450  1.000000  0.352007   \n",
       "jp_sales        -0.336129        -0.054396  0.331698  0.352007  1.000000   \n",
       "other_sales     -0.442639        -0.099111  0.875462  0.979266  0.357108   \n",
       "critic_score    -0.560983        -0.036589  0.399059  0.339643  0.201107   \n",
       "user_score      -0.159295        -0.218231  0.007687 -0.016982  0.171351   \n",
       "venta_total     -0.490849        -0.119324  0.937823  0.968841  0.434152   \n",
       "\n",
       "                 other_sales  critic_score  user_score  venta_total  \n",
       "index              -0.442639     -0.560983   -0.159295    -0.490849  \n",
       "year_of_release    -0.099111     -0.036589   -0.218231    -0.119324  \n",
       "na_sales            0.875462      0.399059    0.007687     0.937823  \n",
       "eu_sales            0.979266      0.339643   -0.016982     0.968841  \n",
       "jp_sales            0.357108      0.201107    0.171351     0.434152  \n",
       "other_sales         1.000000      0.350354    0.011940     0.977982  \n",
       "critic_score        0.350354      1.000000    0.559140     0.379837  \n",
       "user_score          0.011940      0.559140    1.000000     0.011883  \n",
       "venta_total         0.977982      0.379837    0.011883     1.000000  "
      ]
     },
     "execution_count": 23,
     "metadata": {},
     "output_type": "execute_result"
    }
   ],
   "source": [
    "data_ps3.corr()"
   ]
  },
  {
   "cell_type": "code",
   "execution_count": 24,
   "metadata": {
    "scrolled": false
   },
   "outputs": [
    {
     "data": {
      "image/png": "[encoded data removed]",
      "text/plain": [
       "<Figure size 640x480 with 2 Axes>"
      ]
     },
     "metadata": {},
     "output_type": "display_data"
    }
   ],
   "source": [
    "# Graficamos las correlaciones para la plataforma \"PS3\" y vemos cuales se relacionan con las ventas.\n",
    "sns.heatmap(data_ps3.corr(),annot=True,\n",
    "           cmap=\"coolwarm\",\n",
    "           cbar=True,\n",
    "           linewidths=0.5,\n",
    "           linecolor=\"black\")\n",
    "\n",
    "plt.title(\"Nivel de correlación para PS3\")\n",
    "\n",
    "plt.show()"
   ]
  },
  {
   "cell_type": "markdown",
   "metadata": {},
   "source": [
    "Al revisar todas las posibles correlaciones, podemos observar que tiene mucho más valor la critica de los expertos que la de los usuarios.\n",
    "Sin embargo obteniendo el coeficiente de correlación, vemos que es apenas un .38, lo cual no indica una correlación muy fuerte, pero si podemos decir que mientras más alta sea la puntuación de los expertos, afectará al incremento de las ventas.\n",
    "\n",
    "Donde podemos ver una correlación fuerte es en las ventas \"NA\", lo cual indica que la mayor parte de ventas se da en \"norte America\", y si tienen un exito ahí, también lo tendran en las demas partes del mundo."
   ]
  },
  {
   "cell_type": "markdown",
   "metadata": {},
   "source": [
    "## Mejores plataformas y juegos"
   ]
  },
  {
   "cell_type": "code",
   "execution_count": 25,
   "metadata": {},
   "outputs": [
    {
     "data": {
      "image/png": "[encoded data removed]",
      "text/plain": [
       "<Figure size 640x480 with 1 Axes>"
      ]
     },
     "metadata": {},
     "output_type": "display_data"
    }
   ],
   "source": [
    "#Graficaremos cuales son los mejores juegos que han tenido mayor venta.\n",
    "\n",
    "games_platform=data_pred.groupby(\"name\",)[\"venta_total\"].sum().nlargest(5).index\n",
    "\n",
    "\n",
    "# Filtramos los datos para que nos de las mejores plataformas y los mejores juegos\n",
    "\n",
    "data_games=data_pred[(data_pred[\"platform\"].isin(data_graficas))&(data_pred[\"name\"].isin(games_platform))]\n",
    "\n",
    "#Graficamos los resultados\n",
    "\n",
    "sns.barplot(x=\"name\",y=\"venta_total\",hue=\"platform\",data=data_games)\n",
    "\n",
    "plt.xticks(rotation=90)\n",
    "plt.xlabel(\"Plataforma de los juegos\")\n",
    "plt.ylabel(\"Ventas totales\")\n",
    "plt.title(\"Comparativa de las plataformas con respecto a los mejores juegos\")\n",
    "\n",
    "#Quitar las lineas derecha y de arriba para mejor visualización\n",
    "ax=plt.gca()\n",
    "ax.spines[\"right\"].set_visible(False)\n",
    "ax.spines[\"top\"].set_visible(False)\n",
    "\n",
    "plt.show()"
   ]
  },
  {
   "cell_type": "markdown",
   "metadata": {},
   "source": [
    "En este caso filtramos los datos para los juegos más vendidos y para las plataformas con mayores ventas. lo interesante es que vemos que los mayores juegos se vendieron en 2 principales plataformas, como es \"PS3 y X360\", la cual vimos antes que eran las plataformas con mayores ventas.\n",
    "Lo raro aquí es que una de las principales plataformas también era Wii, sin embargo, tiene ventas muy bajas o nulas. lo cual puede indicar que para la Wii. \n",
    "\n",
    "podemos pensar que es por la interfaz de cada plataforma, ya que los juegos son de acción y requieren un control diferente al que tiene el Wii, por eso podemos ver que la mayoría de ventas están en las plataformas de PS3 y XOne"
   ]
  },
  {
   "cell_type": "markdown",
   "metadata": {},
   "source": [
    "Ahora vamos a analizar por generos. veamos que podemos descubrir de ellos."
   ]
  },
  {
   "cell_type": "code",
   "execution_count": 26,
   "metadata": {},
   "outputs": [
    {
     "data": {
      "image/png": "[encoded data removed]",
      "text/plain": [
       "<Figure size 640x480 with 1 Axes>"
      ]
     },
     "metadata": {},
     "output_type": "display_data"
    }
   ],
   "source": [
    "#Ahora vamos a graficar los generos para ver cuales fueron los más vendidos\n",
    "data_genre=data_pred.groupby(\"genre\")[\"venta_total\"].sum().reset_index().sort_values(by=\"venta_total\",ascending=False)\n",
    "\n",
    "sns.barplot(x=\"genre\",y=\"venta_total\",data=data_genre)\n",
    "plt.title(\"Comparación de Ventas por Genero\")\n",
    "plt.xlabel(\"Generos\")\n",
    "plt.ylabel(\"Ventas totales\")\n",
    "plt.xticks(rotation=90)\n",
    "\n",
    "\n",
    "#Quitar las lineas derecha y de arriba para mejor visualización\n",
    "ax=plt.gca()\n",
    "ax.spines[\"right\"].set_visible(False)\n",
    "ax.spines[\"top\"].set_visible(False)\n",
    "\n",
    "plt.show()"
   ]
  },
  {
   "cell_type": "markdown",
   "metadata": {},
   "source": [
    "Bueno, lo que podemos ver es que si podemos generalizar diciendo que:\n",
    "\n",
    "Los juegos de action venden casi el doble que los juegos de deportes y casi 1.5 más que los juegos de disparos.\n",
    "Podemos decir que las personas prefieren los juegos de acción y de disparos.\n",
    "\n",
    "Ya sea porque muchos se pueden conectar en linea, jugar con diferentes amigos u otras razones. Pero si saldrá un juego nuevo y es de acción. es muy probable que se venda en un principio.\n",
    "\n",
    "Y para los juegos con muy poca ventas creo que el mercado es más reducido, ya que no a todos les gustan ese tipo de videjuegos, sería interesante ver las edades de las personas que juegan cada genero, eso nos podría decir aun más a que personas van dirigidos cada uno de ellos."
   ]
  },
  {
   "cell_type": "markdown",
   "metadata": {},
   "source": [
    "# Perfiles por region"
   ]
  },
  {
   "cell_type": "markdown",
   "metadata": {},
   "source": [
    "Bien, ya hicimos un analisis de ventas globales y el exito en todo el mundo. Pero, ahora vayamos un poco más especifico y vamos a analizar las ventas por regiones para ver cuál es la región que más vende y la que menos vende."
   ]
  },
  {
   "cell_type": "code",
   "execution_count": 27,
   "metadata": {},
   "outputs": [
    {
     "data": {
      "image/png": "[encoded data removed]",
      "text/plain": [
       "<Figure size 640x480 with 1 Axes>"
      ]
     },
     "metadata": {},
     "output_type": "display_data"
    }
   ],
   "source": [
    "#Vamos a descubrir las regiones que venden más.\n",
    "#En este caso vamos a agrupar por plataforma y sumaremos las ventas de cada region\n",
    "\n",
    "top_platform=data_pred[data_pred[\"platform\"].isin(data_graficas)]\n",
    "data_region=top_platform.groupby(\"platform\")[\"na_sales\",\"jp_sales\",\"eu_sales\"].sum().reset_index()\n",
    "\n",
    "\n",
    "#Luego convertiremos esos datos agrupados en una tabla, con la que podemos graficas las tres y tener una comparativa en el mismo grafico \n",
    "\n",
    "region_table= pd.melt(data_region,id_vars=\"platform\",value_vars=[\"na_sales\",\"jp_sales\",\"eu_sales\"],var_name=\"sales_area\",value_name=\"sales\")\n",
    "\n",
    "\n",
    "#Graficamos los resultados\n",
    "\n",
    "sns.barplot(x=\"platform\",y=\"sales\",hue=\"sales_area\",data=region_table)\n",
    "\n",
    "plt.title(\"Comparativo de ventas para cada área\")\n",
    "plt.xlabel(\"Plataformas\")\n",
    "plt.ylabel(\"Ventas\")\n",
    "\n",
    "#Quitar las lineas derecha y de arriba para mejor visualización\n",
    "ax=plt.gca()\n",
    "ax.spines[\"right\"].set_visible(False)\n",
    "ax.spines[\"top\"].set_visible(False)\n",
    "\n",
    "plt.show()\n"
   ]
  },
  {
   "cell_type": "markdown",
   "metadata": {},
   "source": [
    "Lo que vemos en este comparativo de ventas es impresionante, vemos que en la mayoria de las consolas las mayores ventas fueron en \"na\" y en el caso de X360 la diferencia se nota muchisimo, en segundo lugar vemos que es \"EU\" y por ultimo será la región de \"JP\".\n",
    "\n",
    "Las ventas pueden ser también por el nivel de población. En este caso tomo datos de la\n",
    "\n",
    "<h6> población del año 2014 para las 3 regiones las cuales son: </h6>\n",
    "\n",
    "<h6> Población NA: 450 Millones </h6>\n",
    "<h6> Población EU: 318 Millones </h6>\n",
    "<h6> Población JP: 127 Millones </h6>\n",
    "\n",
    "Si vemos estos números podemos pensar el porque NA tiene las mayores ventas, y es porque en NA hay más población, por lo que hay mucho más mercado que en la región de JP con solo 127 Millones, siendo menos de la mitad de la población de NA."
   ]
  },
  {
   "cell_type": "markdown",
   "metadata": {},
   "source": [
    "Ahora vamos a ver las ventas de los 5 generos principales"
   ]
  },
  {
   "cell_type": "code",
   "execution_count": 28,
   "metadata": {
    "scrolled": false
   },
   "outputs": [
    {
     "data": {
      "image/png": "[encoded data removed]",
      "text/plain": [
       "<Figure size 640x480 with 1 Axes>"
      ]
     },
     "metadata": {},
     "output_type": "display_data"
    }
   ],
   "source": [
    "#Hacemos lo mismo, encontraremos los generos más vendidos\n",
    "\n",
    "top_genre=data_pred.groupby(\"genre\")[\"venta_total\"].sum().nlargest(5).index\n",
    "#filtramos los datos para que solo tengamos los mejores generos\n",
    "\n",
    "data_region_genre=data_pred[data_pred[\"genre\"].isin(top_genre)]\n",
    "\n",
    "#Agrupamos por genero y sumamos la ventas de cada región\n",
    "\n",
    "genre_per_region=data_region_genre.groupby(\"genre\")[\"na_sales\",\"jp_sales\",\"eu_sales\"].sum().reset_index()\n",
    "\n",
    "#Convertimos el agrupamiento en un tabla para graficarlos\n",
    "\n",
    "genre_per_region_table=pd.melt(genre_per_region,id_vars=\"genre\",value_vars=[\"na_sales\",\"jp_sales\",\"eu_sales\"],var_name=\"area_sales\",value_name=\"sales\")\n",
    "\n",
    "#Graficamos los resultados\n",
    "\n",
    "sns.barplot(x=\"genre\",y=\"sales\",hue=\"area_sales\",data=genre_per_region_table)\n",
    "plt.title(\"Ventas por genero y por región\")\n",
    "plt.xlabel(\"Genero de videojuego\")\n",
    "plt.ylabel(\"Ventas Totales\")\n",
    "\n",
    "\n",
    "#Quitar las lineas derecha y de arriba para mejor visualización\n",
    "ax=plt.gca()\n",
    "ax.spines[\"right\"].set_visible(False)\n",
    "ax.spines[\"top\"].set_visible(False)\n",
    "\n",
    "plt.show()"
   ]
  },
  {
   "cell_type": "markdown",
   "metadata": {},
   "source": [
    "Vemos un poco parecido el tema. Las ventas que son mayores son por parte de NA en la mayoría de juegos.\n",
    "\n",
    "Si bien, podemos destacar en algo, es que en las region de JP es la región en la que menos hay venta en los juegos más vendidos, en este caso acción y Shooter. en shooter apenas podemos ver que hay ventas. \n",
    "\n",
    "Sin embargo, les gusta más el role-playing. Entonces si quisieramos sacar un nuevo juego, podemos predecir donde puede tener mayor exito. En este caso los juegos de acción y shooter serán un exito en las regiones de NA y EU. Pero en JP no tendrá las ventas esperadas."
   ]
  },
  {
   "cell_type": "code",
   "execution_count": 29,
   "metadata": {},
   "outputs": [
    {
     "data": {
      "image/png": "[encoded data removed]",
      "text/plain": [
       "<Figure size 640x480 with 1 Axes>"
      ]
     },
     "metadata": {},
     "output_type": "display_data"
    }
   ],
   "source": [
    "#Aquí agrupamos por rating (ESRB) y sumamos las ventas de las regiones\n",
    "\n",
    "sales_rating=data_pred.groupby(\"rating\")[\"na_sales\",\"jp_sales\",\"eu_sales\"].sum().reset_index()\n",
    "\n",
    "#Convertimos en tabla el agrupamiento\n",
    "sales_rating_table=pd.melt(sales_rating,id_vars=\"rating\",value_vars=[\"na_sales\",\"jp_sales\",\"eu_sales\"],var_name=\"area_sales\",value_name=\"sales_rating\")\n",
    "\n",
    "#Graficamos los resultados\n",
    "\n",
    "sns.barplot(x=\"rating\",y=\"sales_rating\",hue=\"area_sales\",data=sales_rating_table)\n",
    "plt.title(\"Ventas por región de acuerdo al rating\")\n",
    "plt.xlabel(\"Rating ESRB\")\n",
    "plt.ylabel(\"Sales\")\n",
    "\n",
    "#Quitar las lineas derecha y de arriba para mejor visualización\n",
    "ax=plt.gca()\n",
    "ax.spines[\"right\"].set_visible(False)\n",
    "ax.spines[\"top\"].set_visible(False)\n",
    "\n",
    "\n",
    "plt.show()"
   ]
  },
  {
   "cell_type": "markdown",
   "metadata": {},
   "source": [
    "Aquí dejo la clasificación de las que tenemos: \n",
    "\n",
    "###### E = Para todos, es apto para cualquier persona\n",
    "###### E+10 = Para cualquier persona que sea mayor de 10 años\n",
    "###### EC = Dice que es para niños de 3 años en adelante\n",
    "###### M = Es para personas mayores de 17 años\n",
    "###### RP = esto significa que no tiene un rating\n",
    "###### T = Es para personas mayores de 13 años.\n",
    "\n",
    "<p> Teniendo la clasificación en cuenta, podemos decir que los videojuegos que más se venden son la clasificación \"M\" que son los mayores a 17 años. Y donde tienen un mayor impacto es en NA. \n",
    "En la región de JP no se venden mucho esos juegos, esto puede ser por la cultura o la restricción de los padres. \n",
    "\n",
    "Lo que tenemos muy impresionante es sobre los RP y EC. Esto puede ser que las calificaciones si afecten directamente las ventas. Esto lo vemos porque al no tener un rating no hay ventas significativas o bien, son nulas las ventas. \n",
    "Y por el otro lado vemos que los juegos que son para menores de 3 años, las ventas son igualmente nulas o bien son muy bajas.\n",
    "\n",
    "Esto es porque vemos a pocos niños que tengan una consola, o que estén jugando mayormente en una consola, en la epoca del 2000 al 2015 todavía los niños salian a jugar un poco más. Sin embargo, sería interesante ver como ha crecido el mundo de los videojuegos despues del 2020 </p>"
   ]
  },
  {
   "cell_type": "markdown",
   "metadata": {},
   "source": [
    "# Prueba de Hipotesis"
   ]
  },
  {
   "cell_type": "markdown",
   "metadata": {},
   "source": [
    "Ahora que tenemos más datos. Vamos a definir y probar algunas hipotesis con los datos que tenemos."
   ]
  },
  {
   "cell_type": "markdown",
   "metadata": {},
   "source": [
    "En este caso nuestra hipotesis sera: Las calificaciones promedio de los usuarios para las plataformas Xbox One y PC son las mismas.\n",
    "\n",
    "Vamos a definir nuestra hipotesis nula y la hipotesis alternativa, esto quedara de la siguiente forma:\n",
    "\n",
    "Hipotesis nula (H0) = Las calificaciones promedio de los usuarios para XOne y PC son iguales\n",
    "Hipotesis Alternativa (H1) = Las calificaciones promedio de los usuarios para Xone y PC no son iguales\n",
    "\n",
    "vamos a elegir un nivel de confianza del 95%, por lo cual tendremos un alfa = 0.05\n",
    "\n",
    "La prueba que realizaremos será un t studen de de media de poblaciones iguales, y estableceremos una equal_var=False.\n",
    "\n",
    "\n",
    "utilizamos esta prueba, porque no son datos relacionados, y estamos haciendo la comparación de datos no relacionados. Por eso, esta es la prueba que realizamos."
   ]
  },
  {
   "cell_type": "code",
   "execution_count": 30,
   "metadata": {},
   "outputs": [
    {
     "name": "stdout",
     "output_type": "stream",
     "text": [
      "No podemos rechazar la hipotesus nula, estadisticamente hablando no hay pruebas suficientes para decir que son iguales\n",
      "0.6837991405221536\n"
     ]
    }
   ],
   "source": [
    "data_not_na= data_pred[~data_pred[\"user_score\"].isna()]\n",
    "\n",
    "\n",
    "user_score_xone=data_not_na[data_not_na[\"platform\"]==\"XOne\"][\"user_score\"]\n",
    "user_score_pc=data_not_na[data_not_na[\"platform\"]==\"PC\"][\"user_score\"]\n",
    "\n",
    "alpha=0.05\n",
    "\n",
    "results= st.ttest_ind(user_score_xone,user_score_pc,equal_var=False)\n",
    "\n",
    "if results.pvalue<alpha:\n",
    "    print(\"Se Rechaza la hipotesis nula, ya que no hay pruebas estadisticas suficiente para decir que las medias son iguales\")\n",
    "else:\n",
    "    print(\"No podemos rechazar la hipotesus nula, estadisticamente hablando no hay pruebas suficientes para decir que son iguales\")\n",
    "\n",
    "print(results.pvalue)\n"
   ]
  },
  {
   "cell_type": "markdown",
   "metadata": {},
   "source": [
    "Después de realizar la prueba correspondiente, podemos decir que \"no se rechaza la hipotesis nula\"\n",
    "\n",
    "Esto no quiere decir que las medias son iguales, pero, estadisticamente hablando no hay datos que nos digan que son iguales."
   ]
  },
  {
   "cell_type": "markdown",
   "metadata": {},
   "source": [
    "Vamos a pasar a la siguiente prueba de hipotesis la cual sera: \n",
    "\n",
    "Las calificaciones promedio de los usuarios para los géneros de Acción y Deportes son diferentes.\n",
    "\n",
    "Si bien, vamos a establecer nuestras hipotesis. las cuales quedarán de la siguiente forma: \n",
    "\n",
    "Hipotesis nula (H0) = La media de los usuarios para los generos de acción y deportes son diferentes\n",
    "\n",
    "Hipotesis alternativa (H1) = La media de los usuarios para los generos de acción y deportes no son diferentes.\n",
    "\n",
    "El nivel de confianza en este caso será igual del 95%, lo cual tenemos un valor alpha= 0.05\n",
    "\n",
    "utilizamos esta prueba, porque no son datos relacionados, y estamos haciendo la comparación de datos no relacionados. Por eso, esta es la prueba que realizamos."
   ]
  },
  {
   "cell_type": "code",
   "execution_count": 31,
   "metadata": {},
   "outputs": [
    {
     "name": "stdout",
     "output_type": "stream",
     "text": [
      "No se puede rechazar la hipotesis nula, ya que estadisticamente hablando, las medias si podrían ser diferentes\n",
      "0.6837991405221536\n"
     ]
    }
   ],
   "source": [
    "\n",
    "\n",
    "user_score_action=data_not_na[data_not_na[\"genre\"]==\"Action\"][\"user_score\"]\n",
    "user_score_sports=data_not_na[data_not_na[\"genre\"]==\"Sports\"][\"user_score\"]\n",
    "\n",
    "alpha=0.05\n",
    "\n",
    "results_genre=st.ttest_ind(user_score_action,user_score_sports,equal_var=False)\n",
    "\n",
    "if results.pvalue<alpha:\n",
    "    print(\"Se rechaza la hipotesis nula, ya que estadisticamente hablando, las medias si podrían ser iguales\")\n",
    "else:\n",
    "    print(\"No se puede rechazar la hipotesis nula, ya que estadisticamente hablando, las medias si podrían ser diferentes\")\n",
    "\n",
    "\n",
    "print(results.pvalue)"
   ]
  },
  {
   "cell_type": "markdown",
   "metadata": {},
   "source": [
    "Al probar las hipotesis, podemos decir que las medias son diferentes, esto puede deberse a que son dos tipos de personas diferentes las que juegan juegos de acción y otro tipo de personas juegan los tipos de deportes.\n",
    "\n",
    "también podemos pensar en esto porque hay más usuarios de acción que de deportes, esto también puede ser un factor de que la media para los de acción es más precisa que la de deportes."
   ]
  },
  {
   "cell_type": "markdown",
   "metadata": {},
   "source": [
    "# Conclusiones"
   ]
  },
  {
   "cell_type": "markdown",
   "metadata": {},
   "source": [
    "A través de este proyecto completo, me di cuenta de muchas cosas, así como mis áreas de oportunidad para saber donde tengo que enfocarme y trabajar en esas partes. \n",
    "\n",
    "en la primera parte de importación de los datos: Me sentí muy comodo y fácil de usar, no tuve ningún problema para la importación y para leer la información general de los datos.\n",
    "\n",
    "En la segunda parte que trata de la limpieza: aquí es donde encontré algunas áreas de oportunidad, me pareció que trabajar los datos en blanco no supe manejar muy bien al principio, ya que no tenía la noción o no sabía si tenia que eliminarlos, rellenarlos o que podía hacer. Al final después de preguntar me di cuenta que si era mejor no rellenar alguno de los datos, porque estaría sesgando los datos. En este caso también para rellenar y definir las funciones tuve que investigar e indagando información porque no comprendía muy bien el como hacerlas.\n",
    "\n",
    "en la tercera parte de las graficas: No me sentí tan perdido, sin embargo, me sentí mucho más comodo con la librería de \"seaborn\" que con \"pyplot\" para graficar. Creo que me gusto más y veo que tienen más diseños, al momento de agrupar no estuvo mal y creo que lo que hice con los graficos estuvo bien. Obvio sé que si la limpieza de datos no está bien en un principio, las graficas no demostrarán la información correcta.\n",
    "\n",
    "En la cuarta parte para los perfiles: Creo que lo hice de otra manera, porque me parecía más trabajo hacer un dataframe para cada región, creo que las graficas que se hicieron de eso fueron acertadas y se ve la diferencia de las regiones.\n",
    "\n",
    "En la quinta sección de las hipotesis: Fue un poco sencillo, pero también tuve problemas porque en un principio no me salía bien el resultado, después de investigar vi que si había valores ausentes, resultará 0 la probabilidad, por lo que, tuve que filtar los datos que no fueran ausentes y ahora si me salio un valor. (aun tengo dudas si se manejaron bien las hipotesis y la prueba que se hizo)\n",
    "\n",
    "Como conclusión general:\n",
    "Me gusto mucho el proyecto, de verdad parecio un problema de la vida real y tratar de manejarlo sin ayuda fue una parte dificil pero muy interesante, ya que de esta forma aprendemos mas. Tratar con los datos, graficar, limpieza de datos y todo sin ninguna instrucción, me parecio un reto muy divertido y de mucho aprendizaje.\n",
    "Después de leer los datos y graficarlos te impresionas lo que se puede hacer, como ver que región es la que más vende, los generos que son más populares, encontrar la tendencia de las consolas de cuando aparecen y cuando desaparecen. \n",
    "Si bien, aun me falta aprender mucho y poder trabajar los datos de una manera más eficiente, seguire investigando y probando mis habilidades para ir mejorando cada vez más en el analisis de datos y en la visualización de ellos. \n",
    "\n",
    "Ahora sabemos que podemos lanzar más juegos de acción en la región de \"NA\" porque sabemos que hay muchas personas que lo compran.\n",
    "\n",
    "\n",
    "\n"
   ]
  }
 ],
 "metadata": {
  "ExecuteTimeLog": [
   {
    "duration": 4970,
    "start_time": "2024-06-26T22:33:06.354Z"
   },
   {
    "duration": 84,
    "start_time": "2024-06-26T22:33:53.643Z"
   },
   {
    "duration": 49,
    "start_time": "2024-06-26T22:33:59.688Z"
   },
   {
    "duration": 4,
    "start_time": "2024-06-26T22:34:42.596Z"
   },
   {
    "duration": 1226,
    "start_time": "2024-06-26T23:08:00.885Z"
   },
   {
    "duration": 58,
    "start_time": "2024-06-26T23:08:02.114Z"
   },
   {
    "duration": 1358,
    "start_time": "2024-06-26T23:16:54.138Z"
   },
   {
    "duration": 53,
    "start_time": "2024-06-26T23:16:55.501Z"
   },
   {
    "duration": 497,
    "start_time": "2024-06-26T23:21:01.348Z"
   },
   {
    "duration": 30,
    "start_time": "2024-06-26T23:21:13.522Z"
   },
   {
    "duration": 20,
    "start_time": "2024-06-26T23:21:44.636Z"
   },
   {
    "duration": 4,
    "start_time": "2024-06-26T23:22:27.189Z"
   },
   {
    "duration": 4,
    "start_time": "2024-06-26T23:23:08.436Z"
   },
   {
    "duration": 25,
    "start_time": "2024-06-26T23:24:17.116Z"
   },
   {
    "duration": 699,
    "start_time": "2024-06-26T23:30:56.974Z"
   },
   {
    "duration": 5,
    "start_time": "2024-06-26T23:32:16.803Z"
   },
   {
    "duration": 5,
    "start_time": "2024-06-26T23:32:58.813Z"
   },
   {
    "duration": 6,
    "start_time": "2024-06-26T23:33:13.987Z"
   },
   {
    "duration": 6,
    "start_time": "2024-06-26T23:34:16.304Z"
   },
   {
    "duration": 8,
    "start_time": "2024-06-26T23:35:02.725Z"
   },
   {
    "duration": 6,
    "start_time": "2024-06-26T23:35:57.820Z"
   },
   {
    "duration": 6,
    "start_time": "2024-06-26T23:36:31.807Z"
   },
   {
    "duration": 24,
    "start_time": "2024-06-26T23:41:06.151Z"
   },
   {
    "duration": 23,
    "start_time": "2024-06-26T23:43:45.401Z"
   },
   {
    "duration": 4,
    "start_time": "2024-06-26T23:44:22.486Z"
   },
   {
    "duration": 7,
    "start_time": "2024-06-26T23:44:43.799Z"
   },
   {
    "duration": 6,
    "start_time": "2024-06-26T23:46:40.537Z"
   },
   {
    "duration": 631,
    "start_time": "2024-06-26T23:46:46.948Z"
   },
   {
    "duration": 5,
    "start_time": "2024-06-26T23:50:23.876Z"
   },
   {
    "duration": 6,
    "start_time": "2024-06-26T23:51:29.986Z"
   },
   {
    "duration": 150,
    "start_time": "2024-06-26T23:51:38.542Z"
   },
   {
    "duration": 305,
    "start_time": "2024-06-27T00:38:43.822Z"
   },
   {
    "duration": 4998,
    "start_time": "2024-06-27T00:38:53.012Z"
   },
   {
    "duration": 72,
    "start_time": "2024-06-27T00:38:58.014Z"
   },
   {
    "duration": 8,
    "start_time": "2024-06-27T00:38:58.091Z"
   },
   {
    "duration": 410,
    "start_time": "2024-06-27T00:38:58.102Z"
   },
   {
    "duration": 4,
    "start_time": "2024-06-27T00:39:09.505Z"
   },
   {
    "duration": 6,
    "start_time": "2024-06-27T00:40:29.028Z"
   },
   {
    "duration": 6,
    "start_time": "2024-06-27T00:41:51.574Z"
   },
   {
    "duration": 32,
    "start_time": "2024-06-27T00:43:47.653Z"
   },
   {
    "duration": 14,
    "start_time": "2024-06-27T00:43:54.041Z"
   },
   {
    "duration": 30,
    "start_time": "2024-06-27T00:47:06.065Z"
   },
   {
    "duration": 945,
    "start_time": "2024-06-27T00:47:19.950Z"
   },
   {
    "duration": 20,
    "start_time": "2024-06-27T00:47:35.843Z"
   },
   {
    "duration": 26,
    "start_time": "2024-06-27T00:48:08.447Z"
   },
   {
    "duration": 9,
    "start_time": "2024-06-27T00:48:21.933Z"
   },
   {
    "duration": 16,
    "start_time": "2024-06-27T00:49:08.012Z"
   },
   {
    "duration": 2103,
    "start_time": "2024-06-27T02:08:27.044Z"
   },
   {
    "duration": 147,
    "start_time": "2024-06-27T02:09:19.829Z"
   },
   {
    "duration": 134,
    "start_time": "2024-06-27T02:13:02.255Z"
   },
   {
    "duration": 11,
    "start_time": "2024-06-27T02:15:12.802Z"
   },
   {
    "duration": 13,
    "start_time": "2024-06-27T02:15:56.370Z"
   },
   {
    "duration": 12,
    "start_time": "2024-06-27T02:16:23.839Z"
   },
   {
    "duration": 13,
    "start_time": "2024-06-27T02:17:16.740Z"
   },
   {
    "duration": 1302,
    "start_time": "2024-06-27T02:17:59.396Z"
   },
   {
    "duration": 63,
    "start_time": "2024-06-27T02:18:00.703Z"
   },
   {
    "duration": 7,
    "start_time": "2024-06-27T02:18:00.769Z"
   },
   {
    "duration": 21,
    "start_time": "2024-06-27T02:18:00.779Z"
   },
   {
    "duration": 13,
    "start_time": "2024-06-27T02:18:31.410Z"
   },
   {
    "duration": 474,
    "start_time": "2024-06-27T02:19:37.795Z"
   },
   {
    "duration": 975,
    "start_time": "2024-06-27T02:19:49.960Z"
   },
   {
    "duration": 11,
    "start_time": "2024-06-27T02:21:17.663Z"
   },
   {
    "duration": 100,
    "start_time": "2024-06-27T02:23:18.267Z"
   },
   {
    "duration": 24,
    "start_time": "2024-06-27T02:24:44.268Z"
   },
   {
    "duration": 25,
    "start_time": "2024-06-27T02:25:32.269Z"
   },
   {
    "duration": 23,
    "start_time": "2024-06-27T02:25:59.440Z"
   },
   {
    "duration": 29,
    "start_time": "2024-06-27T02:27:28.211Z"
   },
   {
    "duration": 34,
    "start_time": "2024-06-27T02:29:03.078Z"
   },
   {
    "duration": 18,
    "start_time": "2024-06-27T02:30:48.125Z"
   },
   {
    "duration": 21,
    "start_time": "2024-06-27T02:30:53.893Z"
   },
   {
    "duration": 21,
    "start_time": "2024-06-27T02:31:13.385Z"
   },
   {
    "duration": 280,
    "start_time": "2024-06-27T02:34:53.246Z"
   },
   {
    "duration": 43,
    "start_time": "2024-06-27T02:35:24.546Z"
   },
   {
    "duration": 46,
    "start_time": "2024-06-27T02:35:53.415Z"
   },
   {
    "duration": 25,
    "start_time": "2024-06-27T02:36:01.578Z"
   },
   {
    "duration": 34,
    "start_time": "2024-06-27T02:37:49.098Z"
   },
   {
    "duration": 26,
    "start_time": "2024-06-27T02:53:06.881Z"
   },
   {
    "duration": 16,
    "start_time": "2024-06-27T02:57:47.496Z"
   },
   {
    "duration": 14,
    "start_time": "2024-06-27T03:05:05.079Z"
   },
   {
    "duration": 1298,
    "start_time": "2024-06-27T03:08:55.902Z"
   },
   {
    "duration": 60,
    "start_time": "2024-06-27T03:08:57.203Z"
   },
   {
    "duration": 6,
    "start_time": "2024-06-27T03:08:57.267Z"
   },
   {
    "duration": 49,
    "start_time": "2024-06-27T03:08:57.276Z"
   },
   {
    "duration": 20,
    "start_time": "2024-06-27T03:08:57.328Z"
   },
   {
    "duration": 24,
    "start_time": "2024-06-27T03:08:57.351Z"
   },
   {
    "duration": 25,
    "start_time": "2024-06-27T03:14:26.783Z"
   },
   {
    "duration": 25,
    "start_time": "2024-06-27T03:16:43.330Z"
   },
   {
    "duration": 31,
    "start_time": "2024-06-27T03:16:59.807Z"
   },
   {
    "duration": 26,
    "start_time": "2024-06-27T03:17:17.619Z"
   },
   {
    "duration": 14,
    "start_time": "2024-06-27T03:17:44.913Z"
   },
   {
    "duration": 13,
    "start_time": "2024-06-27T03:19:53.687Z"
   },
   {
    "duration": 28,
    "start_time": "2024-06-27T03:21:55.652Z"
   },
   {
    "duration": 6,
    "start_time": "2024-06-27T03:24:08.308Z"
   },
   {
    "duration": 1645,
    "start_time": "2024-06-27T03:24:27.882Z"
   },
   {
    "duration": 99,
    "start_time": "2024-06-27T03:24:39.646Z"
   },
   {
    "duration": 26,
    "start_time": "2024-06-27T03:24:47.410Z"
   },
   {
    "duration": 4,
    "start_time": "2024-06-27T03:25:31.349Z"
   },
   {
    "duration": 4,
    "start_time": "2024-06-27T03:25:37.733Z"
   },
   {
    "duration": 7,
    "start_time": "2024-06-27T03:26:24.729Z"
   },
   {
    "duration": 1239,
    "start_time": "2024-06-27T03:26:37.540Z"
   },
   {
    "duration": 60,
    "start_time": "2024-06-27T03:26:38.782Z"
   },
   {
    "duration": 7,
    "start_time": "2024-06-27T03:26:38.844Z"
   },
   {
    "duration": 29,
    "start_time": "2024-06-27T03:26:38.857Z"
   },
   {
    "duration": 50,
    "start_time": "2024-06-27T03:26:38.889Z"
   },
   {
    "duration": 21,
    "start_time": "2024-06-27T03:26:38.943Z"
   },
   {
    "duration": 56,
    "start_time": "2024-06-27T03:26:38.967Z"
   },
   {
    "duration": 14,
    "start_time": "2024-06-27T03:26:39.026Z"
   },
   {
    "duration": 25,
    "start_time": "2024-06-27T03:26:39.043Z"
   },
   {
    "duration": 8,
    "start_time": "2024-06-27T03:26:39.072Z"
   },
   {
    "duration": 19,
    "start_time": "2024-06-27T03:28:04.227Z"
   },
   {
    "duration": 18,
    "start_time": "2024-06-27T03:28:22.863Z"
   },
   {
    "duration": 5,
    "start_time": "2024-06-27T03:29:03.382Z"
   },
   {
    "duration": 18,
    "start_time": "2024-06-27T03:29:17.716Z"
   },
   {
    "duration": 206,
    "start_time": "2024-06-27T03:35:20.966Z"
   },
   {
    "duration": 21,
    "start_time": "2024-06-27T03:35:35.963Z"
   },
   {
    "duration": 298,
    "start_time": "2024-06-27T03:35:39.998Z"
   },
   {
    "duration": 24,
    "start_time": "2024-06-27T03:36:09.547Z"
   },
   {
    "duration": 26,
    "start_time": "2024-06-27T03:36:16.517Z"
   },
   {
    "duration": 29,
    "start_time": "2024-06-27T03:36:29.815Z"
   },
   {
    "duration": 948,
    "start_time": "2024-06-27T03:40:29.836Z"
   },
   {
    "duration": 31,
    "start_time": "2024-06-27T03:41:00.328Z"
   },
   {
    "duration": 6,
    "start_time": "2024-06-27T03:43:09.874Z"
   },
   {
    "duration": 6,
    "start_time": "2024-06-27T03:43:56.895Z"
   },
   {
    "duration": 25,
    "start_time": "2024-06-27T03:44:07.666Z"
   },
   {
    "duration": 27,
    "start_time": "2024-06-27T03:44:22.553Z"
   },
   {
    "duration": 51,
    "start_time": "2024-06-27T03:44:26.747Z"
   },
   {
    "duration": 5018,
    "start_time": "2024-06-27T16:16:48.909Z"
   },
   {
    "duration": 83,
    "start_time": "2024-06-27T16:16:53.938Z"
   },
   {
    "duration": 12,
    "start_time": "2024-06-27T16:16:54.026Z"
   },
   {
    "duration": 59,
    "start_time": "2024-06-27T16:16:54.042Z"
   },
   {
    "duration": 60,
    "start_time": "2024-06-27T16:16:54.107Z"
   },
   {
    "duration": 28,
    "start_time": "2024-06-27T16:16:54.170Z"
   },
   {
    "duration": 59,
    "start_time": "2024-06-27T16:16:54.202Z"
   },
   {
    "duration": 17,
    "start_time": "2024-06-27T16:16:54.265Z"
   },
   {
    "duration": 57,
    "start_time": "2024-06-27T16:16:54.286Z"
   },
   {
    "duration": 36,
    "start_time": "2024-06-27T16:16:54.349Z"
   },
   {
    "duration": 27,
    "start_time": "2024-06-27T16:25:26.704Z"
   },
   {
    "duration": 18,
    "start_time": "2024-06-27T16:25:42.944Z"
   },
   {
    "duration": 40,
    "start_time": "2024-06-27T16:25:55.814Z"
   },
   {
    "duration": 29,
    "start_time": "2024-06-27T16:35:31.566Z"
   },
   {
    "duration": 12,
    "start_time": "2024-06-27T16:37:38.403Z"
   },
   {
    "duration": 19,
    "start_time": "2024-06-27T16:38:03.921Z"
   },
   {
    "duration": 610,
    "start_time": "2024-06-27T16:39:22.585Z"
   },
   {
    "duration": 24,
    "start_time": "2024-06-27T16:40:33.222Z"
   },
   {
    "duration": 9,
    "start_time": "2024-06-27T16:41:15.133Z"
   },
   {
    "duration": 17,
    "start_time": "2024-06-27T16:41:38.417Z"
   },
   {
    "duration": 34,
    "start_time": "2024-06-27T16:41:56.711Z"
   },
   {
    "duration": 10,
    "start_time": "2024-06-27T16:44:05.821Z"
   },
   {
    "duration": 6,
    "start_time": "2024-06-27T16:55:51.240Z"
   },
   {
    "duration": 7,
    "start_time": "2024-06-27T16:58:56.819Z"
   },
   {
    "duration": 8,
    "start_time": "2024-06-27T16:59:19.082Z"
   },
   {
    "duration": 6,
    "start_time": "2024-06-27T17:00:32.890Z"
   },
   {
    "duration": 6,
    "start_time": "2024-06-27T17:00:44.423Z"
   },
   {
    "duration": 5,
    "start_time": "2024-06-27T17:00:52.799Z"
   },
   {
    "duration": 27,
    "start_time": "2024-06-27T17:01:06.507Z"
   },
   {
    "duration": 6,
    "start_time": "2024-06-27T17:04:33.840Z"
   },
   {
    "duration": 1210,
    "start_time": "2024-06-27T17:04:59.382Z"
   },
   {
    "duration": 62,
    "start_time": "2024-06-27T17:05:00.596Z"
   },
   {
    "duration": 8,
    "start_time": "2024-06-27T17:05:00.662Z"
   },
   {
    "duration": 30,
    "start_time": "2024-06-27T17:05:00.675Z"
   },
   {
    "duration": 22,
    "start_time": "2024-06-27T17:05:00.736Z"
   },
   {
    "duration": 21,
    "start_time": "2024-06-27T17:05:00.761Z"
   },
   {
    "duration": 59,
    "start_time": "2024-06-27T17:05:00.785Z"
   },
   {
    "duration": 13,
    "start_time": "2024-06-27T17:05:00.847Z"
   },
   {
    "duration": 24,
    "start_time": "2024-06-27T17:05:00.863Z"
   },
   {
    "duration": 514,
    "start_time": "2024-06-27T17:05:00.889Z"
   },
   {
    "duration": 0,
    "start_time": "2024-06-27T17:05:01.406Z"
   },
   {
    "duration": 0,
    "start_time": "2024-06-27T17:05:01.408Z"
   },
   {
    "duration": 31,
    "start_time": "2024-06-27T17:05:21.457Z"
   },
   {
    "duration": 9,
    "start_time": "2024-06-27T17:05:23.625Z"
   },
   {
    "duration": 5,
    "start_time": "2024-06-27T17:05:27.601Z"
   },
   {
    "duration": 6,
    "start_time": "2024-06-27T17:06:52.561Z"
   },
   {
    "duration": 6,
    "start_time": "2024-06-27T17:06:57.877Z"
   },
   {
    "duration": 9,
    "start_time": "2024-06-27T17:07:13.310Z"
   },
   {
    "duration": 9,
    "start_time": "2024-06-27T17:07:52.529Z"
   },
   {
    "duration": 10,
    "start_time": "2024-06-27T17:09:45.563Z"
   },
   {
    "duration": 284,
    "start_time": "2024-06-27T17:11:47.236Z"
   },
   {
    "duration": 20,
    "start_time": "2024-06-27T17:14:16.118Z"
   },
   {
    "duration": 22,
    "start_time": "2024-06-27T17:14:23.392Z"
   },
   {
    "duration": 26,
    "start_time": "2024-06-27T17:14:51.287Z"
   },
   {
    "duration": 20,
    "start_time": "2024-06-27T17:18:35.329Z"
   },
   {
    "duration": 304,
    "start_time": "2024-06-27T19:12:35.439Z"
   },
   {
    "duration": 5068,
    "start_time": "2024-06-27T19:12:42.872Z"
   },
   {
    "duration": 72,
    "start_time": "2024-06-27T19:12:47.944Z"
   },
   {
    "duration": 6,
    "start_time": "2024-06-27T19:12:48.019Z"
   },
   {
    "duration": 28,
    "start_time": "2024-06-27T19:12:48.032Z"
   },
   {
    "duration": 18,
    "start_time": "2024-06-27T19:12:48.063Z"
   },
   {
    "duration": 55,
    "start_time": "2024-06-27T19:12:48.085Z"
   },
   {
    "duration": 29,
    "start_time": "2024-06-27T19:12:48.143Z"
   },
   {
    "duration": 17,
    "start_time": "2024-06-27T19:12:48.177Z"
   },
   {
    "duration": 52,
    "start_time": "2024-06-27T19:12:48.201Z"
   },
   {
    "duration": 34,
    "start_time": "2024-06-27T19:12:48.259Z"
   },
   {
    "duration": 38,
    "start_time": "2024-06-27T19:12:48.296Z"
   },
   {
    "duration": 25,
    "start_time": "2024-06-27T19:12:48.337Z"
   },
   {
    "duration": 21,
    "start_time": "2024-06-27T19:12:48.365Z"
   },
   {
    "duration": 46,
    "start_time": "2024-06-27T19:12:48.389Z"
   },
   {
    "duration": 192,
    "start_time": "2024-06-27T19:14:21.042Z"
   },
   {
    "duration": 4,
    "start_time": "2024-06-27T19:16:23.973Z"
   },
   {
    "duration": 22,
    "start_time": "2024-06-27T19:16:55.708Z"
   },
   {
    "duration": 475,
    "start_time": "2024-06-27T19:17:01.044Z"
   },
   {
    "duration": 452,
    "start_time": "2024-06-27T19:18:00.402Z"
   },
   {
    "duration": 10,
    "start_time": "2024-06-27T19:18:22.419Z"
   },
   {
    "duration": 201,
    "start_time": "2024-06-27T19:18:44.408Z"
   },
   {
    "duration": 422,
    "start_time": "2024-06-27T19:19:02.437Z"
   },
   {
    "duration": 721,
    "start_time": "2024-06-27T19:20:38.718Z"
   },
   {
    "duration": 484,
    "start_time": "2024-06-27T19:20:49.283Z"
   },
   {
    "duration": 3,
    "start_time": "2024-06-27T19:21:01.365Z"
   },
   {
    "duration": 439,
    "start_time": "2024-06-27T19:21:06.243Z"
   },
   {
    "duration": 4,
    "start_time": "2024-06-27T19:21:29.777Z"
   },
   {
    "duration": 34,
    "start_time": "2024-06-27T19:21:57.735Z"
   },
   {
    "duration": 471,
    "start_time": "2024-06-27T19:22:04.367Z"
   },
   {
    "duration": 538,
    "start_time": "2024-06-27T19:22:31.445Z"
   },
   {
    "duration": 22,
    "start_time": "2024-06-27T19:24:55.688Z"
   },
   {
    "duration": 371,
    "start_time": "2024-06-27T19:25:35.031Z"
   },
   {
    "duration": 349,
    "start_time": "2024-06-27T19:25:55.163Z"
   },
   {
    "duration": 4647,
    "start_time": "2024-06-27T19:26:22.970Z"
   },
   {
    "duration": 352,
    "start_time": "2024-06-27T19:26:39.346Z"
   },
   {
    "duration": 364,
    "start_time": "2024-06-27T19:27:55.786Z"
   },
   {
    "duration": 378,
    "start_time": "2024-06-27T19:30:14.530Z"
   },
   {
    "duration": 5,
    "start_time": "2024-06-27T19:30:36.129Z"
   },
   {
    "duration": 9,
    "start_time": "2024-06-27T19:33:00.849Z"
   },
   {
    "duration": 8,
    "start_time": "2024-06-27T19:33:14.744Z"
   },
   {
    "duration": 324,
    "start_time": "2024-06-27T19:33:31.257Z"
   },
   {
    "duration": 23,
    "start_time": "2024-06-27T19:34:13.611Z"
   },
   {
    "duration": 25,
    "start_time": "2024-06-27T19:37:36.666Z"
   },
   {
    "duration": 24,
    "start_time": "2024-06-27T19:40:40.136Z"
   },
   {
    "duration": 6,
    "start_time": "2024-06-27T19:40:48.241Z"
   },
   {
    "duration": 8,
    "start_time": "2024-06-27T19:42:37.779Z"
   },
   {
    "duration": 23,
    "start_time": "2024-06-27T19:43:26.468Z"
   },
   {
    "duration": 9,
    "start_time": "2024-06-27T19:43:31.911Z"
   },
   {
    "duration": 10,
    "start_time": "2024-06-27T19:43:46.153Z"
   },
   {
    "duration": 8,
    "start_time": "2024-06-27T19:44:00.887Z"
   },
   {
    "duration": 13,
    "start_time": "2024-06-27T19:44:07.143Z"
   },
   {
    "duration": 8,
    "start_time": "2024-06-27T19:44:12.145Z"
   },
   {
    "duration": 7,
    "start_time": "2024-06-27T19:45:48.979Z"
   },
   {
    "duration": 688,
    "start_time": "2024-06-27T19:47:50.552Z"
   },
   {
    "duration": 7,
    "start_time": "2024-06-27T19:49:13.802Z"
   },
   {
    "duration": 30,
    "start_time": "2024-06-27T19:49:34.853Z"
   },
   {
    "duration": 18,
    "start_time": "2024-06-27T19:49:42.421Z"
   },
   {
    "duration": 21,
    "start_time": "2024-06-27T19:50:24.067Z"
   },
   {
    "duration": 32,
    "start_time": "2024-06-27T19:50:49.152Z"
   },
   {
    "duration": 1473,
    "start_time": "2024-06-27T19:59:26.022Z"
   },
   {
    "duration": 186,
    "start_time": "2024-06-27T19:59:53.755Z"
   },
   {
    "duration": 203,
    "start_time": "2024-06-27T20:00:10.488Z"
   },
   {
    "duration": 310,
    "start_time": "2024-06-27T20:03:46.631Z"
   },
   {
    "duration": 229,
    "start_time": "2024-06-27T20:03:55.630Z"
   },
   {
    "duration": 313,
    "start_time": "2024-06-27T20:04:12.791Z"
   },
   {
    "duration": 4166,
    "start_time": "2024-06-27T20:14:13.650Z"
   },
   {
    "duration": 4936,
    "start_time": "2024-06-27T20:14:27.886Z"
   },
   {
    "duration": 318,
    "start_time": "2024-06-27T20:20:28.315Z"
   },
   {
    "duration": 178,
    "start_time": "2024-06-27T20:20:40.929Z"
   },
   {
    "duration": 190,
    "start_time": "2024-06-27T20:25:03.723Z"
   },
   {
    "duration": 14,
    "start_time": "2024-06-27T20:25:25.353Z"
   },
   {
    "duration": 36,
    "start_time": "2024-06-27T20:27:47.854Z"
   },
   {
    "duration": 18,
    "start_time": "2024-06-27T20:27:55.693Z"
   },
   {
    "duration": 16,
    "start_time": "2024-06-27T20:28:30.724Z"
   },
   {
    "duration": 23,
    "start_time": "2024-06-27T20:31:42.424Z"
   },
   {
    "duration": 27,
    "start_time": "2024-06-27T20:33:01.821Z"
   },
   {
    "duration": 24,
    "start_time": "2024-06-27T20:33:20.970Z"
   },
   {
    "duration": 25,
    "start_time": "2024-06-27T20:34:26.708Z"
   },
   {
    "duration": 26,
    "start_time": "2024-06-27T20:34:33.586Z"
   },
   {
    "duration": 34,
    "start_time": "2024-06-27T20:35:44.311Z"
   },
   {
    "duration": 27,
    "start_time": "2024-06-27T20:37:30.512Z"
   },
   {
    "duration": 26,
    "start_time": "2024-06-27T20:37:59.749Z"
   },
   {
    "duration": 200,
    "start_time": "2024-06-27T20:48:34.937Z"
   },
   {
    "duration": 197,
    "start_time": "2024-06-27T20:48:51.410Z"
   },
   {
    "duration": 1183,
    "start_time": "2024-06-27T20:49:00.053Z"
   },
   {
    "duration": 364,
    "start_time": "2024-06-27T20:49:13.028Z"
   },
   {
    "duration": 279,
    "start_time": "2024-06-27T20:49:19.022Z"
   },
   {
    "duration": 185,
    "start_time": "2024-06-27T20:49:25.188Z"
   },
   {
    "duration": 215,
    "start_time": "2024-06-27T20:49:31.408Z"
   },
   {
    "duration": 229,
    "start_time": "2024-06-27T20:50:11.304Z"
   },
   {
    "duration": 250,
    "start_time": "2024-06-27T20:50:25.294Z"
   },
   {
    "duration": 332,
    "start_time": "2024-06-27T20:50:33.813Z"
   },
   {
    "duration": 212,
    "start_time": "2024-06-27T20:51:08.068Z"
   },
   {
    "duration": 205,
    "start_time": "2024-06-27T20:51:28.367Z"
   },
   {
    "duration": 384,
    "start_time": "2024-06-27T20:52:10.342Z"
   },
   {
    "duration": 208,
    "start_time": "2024-06-27T20:53:00.287Z"
   },
   {
    "duration": 233,
    "start_time": "2024-06-27T20:53:31.016Z"
   },
   {
    "duration": 28,
    "start_time": "2024-06-27T20:54:32.750Z"
   },
   {
    "duration": 5512,
    "start_time": "2024-06-28T00:26:21.473Z"
   },
   {
    "duration": 688,
    "start_time": "2024-06-28T00:26:51.302Z"
   },
   {
    "duration": 121,
    "start_time": "2024-06-28T00:26:51.993Z"
   },
   {
    "duration": 7,
    "start_time": "2024-06-28T00:26:52.116Z"
   },
   {
    "duration": 30,
    "start_time": "2024-06-28T00:26:52.135Z"
   },
   {
    "duration": 17,
    "start_time": "2024-06-28T00:26:52.170Z"
   },
   {
    "duration": 60,
    "start_time": "2024-06-28T00:26:52.190Z"
   },
   {
    "duration": 27,
    "start_time": "2024-06-28T00:26:52.253Z"
   },
   {
    "duration": 14,
    "start_time": "2024-06-28T00:26:52.282Z"
   },
   {
    "duration": 57,
    "start_time": "2024-06-28T00:26:52.299Z"
   },
   {
    "duration": 34,
    "start_time": "2024-06-28T00:26:52.359Z"
   },
   {
    "duration": 40,
    "start_time": "2024-06-28T00:26:52.395Z"
   },
   {
    "duration": 24,
    "start_time": "2024-06-28T00:26:52.439Z"
   },
   {
    "duration": 26,
    "start_time": "2024-06-28T00:26:52.466Z"
   },
   {
    "duration": 480,
    "start_time": "2024-06-28T00:26:52.534Z"
   },
   {
    "duration": 376,
    "start_time": "2024-06-28T00:26:53.017Z"
   },
   {
    "duration": 1061,
    "start_time": "2024-06-28T00:26:53.396Z"
   },
   {
    "duration": 27,
    "start_time": "2024-06-28T00:27:25.530Z"
   },
   {
    "duration": 27,
    "start_time": "2024-06-28T00:28:17.932Z"
   },
   {
    "duration": 32,
    "start_time": "2024-06-28T00:28:33.459Z"
   },
   {
    "duration": 28,
    "start_time": "2024-06-28T00:28:49.543Z"
   },
   {
    "duration": 28,
    "start_time": "2024-06-28T00:30:20.658Z"
   },
   {
    "duration": 28,
    "start_time": "2024-06-28T00:30:43.273Z"
   },
   {
    "duration": 94,
    "start_time": "2024-06-28T00:32:19.022Z"
   },
   {
    "duration": 191,
    "start_time": "2024-06-28T00:32:32.020Z"
   },
   {
    "duration": 761,
    "start_time": "2024-06-28T00:32:50.748Z"
   },
   {
    "duration": 313,
    "start_time": "2024-06-28T00:32:58.732Z"
   },
   {
    "duration": 324,
    "start_time": "2024-06-28T00:34:18.955Z"
   },
   {
    "duration": 444,
    "start_time": "2024-06-28T00:36:15.899Z"
   },
   {
    "duration": 389,
    "start_time": "2024-06-28T00:36:30.800Z"
   },
   {
    "duration": 416,
    "start_time": "2024-06-28T00:37:27.138Z"
   },
   {
    "duration": 23,
    "start_time": "2024-06-28T00:41:56.015Z"
   },
   {
    "duration": 8,
    "start_time": "2024-06-28T00:44:45.403Z"
   },
   {
    "duration": 9,
    "start_time": "2024-06-28T00:45:59.229Z"
   },
   {
    "duration": 19,
    "start_time": "2024-06-28T00:46:16.298Z"
   },
   {
    "duration": 3,
    "start_time": "2024-06-28T00:49:50.840Z"
   },
   {
    "duration": 1283,
    "start_time": "2024-06-28T00:52:20.872Z"
   },
   {
    "duration": 5057,
    "start_time": "2024-06-28T15:52:33.260Z"
   },
   {
    "duration": 73,
    "start_time": "2024-06-28T15:52:38.321Z"
   },
   {
    "duration": 7,
    "start_time": "2024-06-28T15:52:38.398Z"
   },
   {
    "duration": 31,
    "start_time": "2024-06-28T15:52:38.413Z"
   },
   {
    "duration": 18,
    "start_time": "2024-06-28T15:52:38.448Z"
   },
   {
    "duration": 55,
    "start_time": "2024-06-28T15:52:38.469Z"
   },
   {
    "duration": 26,
    "start_time": "2024-06-28T15:52:38.527Z"
   },
   {
    "duration": 14,
    "start_time": "2024-06-28T15:52:38.556Z"
   },
   {
    "duration": 58,
    "start_time": "2024-06-28T15:52:38.573Z"
   },
   {
    "duration": 31,
    "start_time": "2024-06-28T15:52:38.634Z"
   },
   {
    "duration": 44,
    "start_time": "2024-06-28T15:52:38.668Z"
   },
   {
    "duration": 24,
    "start_time": "2024-06-28T15:52:38.716Z"
   },
   {
    "duration": 23,
    "start_time": "2024-06-28T15:52:38.743Z"
   },
   {
    "duration": 494,
    "start_time": "2024-06-28T15:52:38.773Z"
   },
   {
    "duration": 372,
    "start_time": "2024-06-28T15:52:39.272Z"
   },
   {
    "duration": 29,
    "start_time": "2024-06-28T15:52:39.647Z"
   },
   {
    "duration": 1167,
    "start_time": "2024-06-28T15:52:39.679Z"
   },
   {
    "duration": 0,
    "start_time": "2024-06-28T15:52:40.849Z"
   },
   {
    "duration": 0,
    "start_time": "2024-06-28T15:52:40.852Z"
   },
   {
    "duration": 448,
    "start_time": "2024-06-28T15:52:51.969Z"
   },
   {
    "duration": 460,
    "start_time": "2024-06-28T15:53:28.464Z"
   },
   {
    "duration": 298,
    "start_time": "2024-06-28T15:54:25.841Z"
   },
   {
    "duration": 99,
    "start_time": "2024-06-28T15:54:44.669Z"
   },
   {
    "duration": 10,
    "start_time": "2024-06-28T15:55:59.856Z"
   },
   {
    "duration": 1746,
    "start_time": "2024-06-28T16:10:04.448Z"
   },
   {
    "duration": 447,
    "start_time": "2024-06-28T16:10:23.650Z"
   },
   {
    "duration": 279,
    "start_time": "2024-06-28T16:11:50.434Z"
   },
   {
    "duration": 280,
    "start_time": "2024-06-28T16:12:03.745Z"
   },
   {
    "duration": 274,
    "start_time": "2024-06-28T16:12:19.354Z"
   },
   {
    "duration": 290,
    "start_time": "2024-06-28T16:13:21.577Z"
   },
   {
    "duration": 291,
    "start_time": "2024-06-28T16:14:12.385Z"
   },
   {
    "duration": 308,
    "start_time": "2024-06-28T16:14:39.261Z"
   },
   {
    "duration": 334,
    "start_time": "2024-06-28T16:14:55.837Z"
   },
   {
    "duration": 312,
    "start_time": "2024-06-28T16:15:28.512Z"
   },
   {
    "duration": 11,
    "start_time": "2024-06-28T16:16:22.617Z"
   },
   {
    "duration": 307,
    "start_time": "2024-06-28T16:16:43.225Z"
   },
   {
    "duration": 310,
    "start_time": "2024-06-28T16:20:14.810Z"
   },
   {
    "duration": 988,
    "start_time": "2024-06-28T16:20:32.720Z"
   },
   {
    "duration": 1011,
    "start_time": "2024-06-28T16:20:47.173Z"
   },
   {
    "duration": 1006,
    "start_time": "2024-06-28T16:20:54.155Z"
   },
   {
    "duration": 1024,
    "start_time": "2024-06-28T16:22:08.691Z"
   },
   {
    "duration": 125456,
    "start_time": "2024-06-28T16:24:32.280Z"
   },
   {
    "duration": 58586,
    "start_time": "2024-06-28T16:27:09.912Z"
   },
   {
    "duration": 57516,
    "start_time": "2024-06-28T16:29:27.591Z"
   },
   {
    "duration": 326,
    "start_time": "2024-06-28T16:31:24.397Z"
   },
   {
    "duration": 333,
    "start_time": "2024-06-28T16:31:36.557Z"
   },
   {
    "duration": 361,
    "start_time": "2024-06-28T16:33:57.670Z"
   },
   {
    "duration": 365,
    "start_time": "2024-06-28T16:34:04.691Z"
   },
   {
    "duration": 32,
    "start_time": "2024-06-28T16:35:12.659Z"
   },
   {
    "duration": 27,
    "start_time": "2024-06-28T16:35:33.562Z"
   },
   {
    "duration": 333,
    "start_time": "2024-06-28T16:35:51.764Z"
   },
   {
    "duration": 27,
    "start_time": "2024-06-28T16:36:47.435Z"
   },
   {
    "duration": 17,
    "start_time": "2024-06-28T16:39:28.103Z"
   },
   {
    "duration": 22,
    "start_time": "2024-06-28T16:42:10.457Z"
   },
   {
    "duration": 6,
    "start_time": "2024-06-28T16:44:22.604Z"
   },
   {
    "duration": 12,
    "start_time": "2024-06-28T16:49:01.130Z"
   },
   {
    "duration": 14,
    "start_time": "2024-06-28T16:54:34.360Z"
   },
   {
    "duration": 15,
    "start_time": "2024-06-28T17:02:37.876Z"
   },
   {
    "duration": 18,
    "start_time": "2024-06-28T17:03:18.884Z"
   },
   {
    "duration": 17,
    "start_time": "2024-06-28T17:09:11.717Z"
   },
   {
    "duration": 40,
    "start_time": "2024-06-28T17:09:31.505Z"
   },
   {
    "duration": 355,
    "start_time": "2024-06-28T17:09:36.829Z"
   },
   {
    "duration": 369,
    "start_time": "2024-06-28T17:09:42.692Z"
   },
   {
    "duration": 382,
    "start_time": "2024-06-28T17:10:10.660Z"
   },
   {
    "duration": 64,
    "start_time": "2024-06-28T17:10:31.894Z"
   },
   {
    "duration": 184,
    "start_time": "2024-06-28T17:10:49.187Z"
   },
   {
    "duration": 659,
    "start_time": "2024-06-28T17:11:06.080Z"
   },
   {
    "duration": 194,
    "start_time": "2024-06-28T17:11:24.644Z"
   },
   {
    "duration": 212,
    "start_time": "2024-06-28T17:11:28.754Z"
   },
   {
    "duration": 34,
    "start_time": "2024-06-28T17:11:51.977Z"
   },
   {
    "duration": 145,
    "start_time": "2024-06-28T17:13:07.218Z"
   },
   {
    "duration": 148,
    "start_time": "2024-06-28T17:13:33.860Z"
   },
   {
    "duration": 152,
    "start_time": "2024-06-28T17:13:51.392Z"
   },
   {
    "duration": 147,
    "start_time": "2024-06-28T17:14:03.033Z"
   },
   {
    "duration": 202,
    "start_time": "2024-06-28T17:15:10.290Z"
   },
   {
    "duration": 7,
    "start_time": "2024-06-28T17:15:51.433Z"
   },
   {
    "duration": 3,
    "start_time": "2024-06-28T17:16:18.218Z"
   },
   {
    "duration": 166,
    "start_time": "2024-06-28T17:16:25.163Z"
   },
   {
    "duration": 185,
    "start_time": "2024-06-28T17:18:23.012Z"
   },
   {
    "duration": 0,
    "start_time": "2024-06-28T17:18:23.200Z"
   },
   {
    "duration": 0,
    "start_time": "2024-06-28T17:18:23.202Z"
   },
   {
    "duration": 0,
    "start_time": "2024-06-28T17:18:23.217Z"
   },
   {
    "duration": 0,
    "start_time": "2024-06-28T17:18:23.222Z"
   },
   {
    "duration": 0,
    "start_time": "2024-06-28T17:18:23.223Z"
   },
   {
    "duration": 0,
    "start_time": "2024-06-28T17:18:23.226Z"
   },
   {
    "duration": 1255,
    "start_time": "2024-06-28T17:18:36.622Z"
   },
   {
    "duration": 61,
    "start_time": "2024-06-28T17:18:37.882Z"
   },
   {
    "duration": 6,
    "start_time": "2024-06-28T17:18:37.946Z"
   },
   {
    "duration": 32,
    "start_time": "2024-06-28T17:18:37.955Z"
   },
   {
    "duration": 17,
    "start_time": "2024-06-28T17:18:38.015Z"
   },
   {
    "duration": 22,
    "start_time": "2024-06-28T17:18:38.035Z"
   },
   {
    "duration": 59,
    "start_time": "2024-06-28T17:18:38.060Z"
   },
   {
    "duration": 13,
    "start_time": "2024-06-28T17:18:38.122Z"
   },
   {
    "duration": 25,
    "start_time": "2024-06-28T17:18:38.138Z"
   },
   {
    "duration": 64,
    "start_time": "2024-06-28T17:18:38.167Z"
   },
   {
    "duration": 12,
    "start_time": "2024-06-28T17:18:38.234Z"
   },
   {
    "duration": 25,
    "start_time": "2024-06-28T17:18:38.249Z"
   },
   {
    "duration": 57,
    "start_time": "2024-06-28T17:18:38.276Z"
   },
   {
    "duration": 486,
    "start_time": "2024-06-28T17:18:38.339Z"
   },
   {
    "duration": 243,
    "start_time": "2024-06-28T17:18:38.829Z"
   },
   {
    "duration": 361,
    "start_time": "2024-06-28T17:18:39.076Z"
   },
   {
    "duration": 385,
    "start_time": "2024-06-28T17:18:39.440Z"
   },
   {
    "duration": 20,
    "start_time": "2024-06-28T17:18:39.828Z"
   },
   {
    "duration": 16,
    "start_time": "2024-06-28T17:18:39.851Z"
   },
   {
    "duration": 308,
    "start_time": "2024-06-28T17:18:39.870Z"
   },
   {
    "duration": 33,
    "start_time": "2024-06-28T17:18:40.181Z"
   },
   {
    "duration": 188,
    "start_time": "2024-06-28T17:21:16.548Z"
   },
   {
    "duration": 347,
    "start_time": "2024-06-28T17:26:02.376Z"
   },
   {
    "duration": 4,
    "start_time": "2024-06-28T17:27:56.836Z"
   },
   {
    "duration": 418,
    "start_time": "2024-06-28T17:40:41.815Z"
   },
   {
    "duration": 5046,
    "start_time": "2024-06-28T21:48:35.629Z"
   },
   {
    "duration": 73,
    "start_time": "2024-06-28T21:48:40.679Z"
   },
   {
    "duration": 7,
    "start_time": "2024-06-28T21:48:40.755Z"
   },
   {
    "duration": 31,
    "start_time": "2024-06-28T21:48:40.765Z"
   },
   {
    "duration": 44,
    "start_time": "2024-06-28T21:48:40.801Z"
   },
   {
    "duration": 23,
    "start_time": "2024-06-28T21:48:40.849Z"
   },
   {
    "duration": 55,
    "start_time": "2024-06-28T21:48:40.878Z"
   },
   {
    "duration": 13,
    "start_time": "2024-06-28T21:48:40.936Z"
   },
   {
    "duration": 25,
    "start_time": "2024-06-28T21:48:40.952Z"
   },
   {
    "duration": 70,
    "start_time": "2024-06-28T21:48:40.980Z"
   },
   {
    "duration": 12,
    "start_time": "2024-06-28T21:48:41.053Z"
   },
   {
    "duration": 26,
    "start_time": "2024-06-28T21:48:41.068Z"
   },
   {
    "duration": 21,
    "start_time": "2024-06-28T21:48:41.130Z"
   },
   {
    "duration": 476,
    "start_time": "2024-06-28T21:48:41.157Z"
   },
   {
    "duration": 410,
    "start_time": "2024-06-28T21:48:41.636Z"
   },
   {
    "duration": 223,
    "start_time": "2024-06-28T21:48:42.050Z"
   },
   {
    "duration": 391,
    "start_time": "2024-06-28T21:48:42.276Z"
   },
   {
    "duration": 511,
    "start_time": "2024-06-28T21:48:42.670Z"
   },
   {
    "duration": 0,
    "start_time": "2024-06-28T21:48:43.184Z"
   },
   {
    "duration": 0,
    "start_time": "2024-06-28T21:48:43.186Z"
   },
   {
    "duration": 7,
    "start_time": "2024-06-28T21:49:38.952Z"
   },
   {
    "duration": 27,
    "start_time": "2024-06-28T21:49:47.933Z"
   },
   {
    "duration": 5,
    "start_time": "2024-06-28T21:50:57.282Z"
   },
   {
    "duration": 5,
    "start_time": "2024-06-28T21:51:16.498Z"
   },
   {
    "duration": 5004,
    "start_time": "2024-06-29T14:42:47.513Z"
   },
   {
    "duration": 71,
    "start_time": "2024-06-29T14:42:52.521Z"
   },
   {
    "duration": 7,
    "start_time": "2024-06-29T14:42:52.595Z"
   },
   {
    "duration": 29,
    "start_time": "2024-06-29T14:42:52.612Z"
   },
   {
    "duration": 18,
    "start_time": "2024-06-29T14:42:52.645Z"
   },
   {
    "duration": 55,
    "start_time": "2024-06-29T14:42:52.666Z"
   },
   {
    "duration": 27,
    "start_time": "2024-06-29T14:42:52.724Z"
   },
   {
    "duration": 15,
    "start_time": "2024-06-29T14:42:52.754Z"
   },
   {
    "duration": 60,
    "start_time": "2024-06-29T14:42:52.771Z"
   },
   {
    "duration": 34,
    "start_time": "2024-06-29T14:42:52.834Z"
   },
   {
    "duration": 45,
    "start_time": "2024-06-29T14:42:52.871Z"
   },
   {
    "duration": 25,
    "start_time": "2024-06-29T14:42:52.919Z"
   },
   {
    "duration": 26,
    "start_time": "2024-06-29T14:42:52.948Z"
   },
   {
    "duration": 472,
    "start_time": "2024-06-29T14:42:53.020Z"
   },
   {
    "duration": 379,
    "start_time": "2024-06-29T14:42:53.495Z"
   },
   {
    "duration": 179,
    "start_time": "2024-06-29T14:42:53.877Z"
   },
   {
    "duration": 406,
    "start_time": "2024-06-29T14:42:54.059Z"
   },
   {
    "duration": 6,
    "start_time": "2024-06-29T14:42:54.468Z"
   },
   {
    "duration": 408,
    "start_time": "2024-06-29T14:42:54.477Z"
   },
   {
    "duration": 27,
    "start_time": "2024-06-29T14:43:13.676Z"
   },
   {
    "duration": 9,
    "start_time": "2024-06-29T14:43:27.529Z"
   },
   {
    "duration": 8,
    "start_time": "2024-06-29T14:43:39.797Z"
   },
   {
    "duration": 1322,
    "start_time": "2024-06-29T14:44:09.609Z"
   },
   {
    "duration": 58,
    "start_time": "2024-06-29T14:44:10.936Z"
   },
   {
    "duration": 18,
    "start_time": "2024-06-29T14:44:10.997Z"
   },
   {
    "duration": 28,
    "start_time": "2024-06-29T14:44:11.019Z"
   },
   {
    "duration": 17,
    "start_time": "2024-06-29T14:44:11.052Z"
   },
   {
    "duration": 55,
    "start_time": "2024-06-29T14:44:11.072Z"
   },
   {
    "duration": 30,
    "start_time": "2024-06-29T14:44:11.130Z"
   },
   {
    "duration": 49,
    "start_time": "2024-06-29T14:44:11.164Z"
   },
   {
    "duration": 24,
    "start_time": "2024-06-29T14:44:11.216Z"
   },
   {
    "duration": 31,
    "start_time": "2024-06-29T14:44:11.242Z"
   },
   {
    "duration": 39,
    "start_time": "2024-06-29T14:44:11.279Z"
   },
   {
    "duration": 24,
    "start_time": "2024-06-29T14:44:11.320Z"
   },
   {
    "duration": 25,
    "start_time": "2024-06-29T14:44:11.347Z"
   },
   {
    "duration": 500,
    "start_time": "2024-06-29T14:44:11.376Z"
   },
   {
    "duration": 445,
    "start_time": "2024-06-29T14:44:11.880Z"
   },
   {
    "duration": 179,
    "start_time": "2024-06-29T14:44:12.328Z"
   },
   {
    "duration": 380,
    "start_time": "2024-06-29T14:44:12.513Z"
   },
   {
    "duration": 5,
    "start_time": "2024-06-29T14:44:12.896Z"
   },
   {
    "duration": 7,
    "start_time": "2024-06-29T14:44:12.905Z"
   },
   {
    "duration": 8,
    "start_time": "2024-06-29T14:44:18.777Z"
   },
   {
    "duration": 1049,
    "start_time": "2024-06-29T14:45:36.872Z"
   },
   {
    "duration": 1210,
    "start_time": "2024-06-29T14:46:27.470Z"
   },
   {
    "duration": 61,
    "start_time": "2024-06-29T14:46:28.683Z"
   },
   {
    "duration": 6,
    "start_time": "2024-06-29T14:46:28.747Z"
   },
   {
    "duration": 54,
    "start_time": "2024-06-29T14:46:28.759Z"
   },
   {
    "duration": 18,
    "start_time": "2024-06-29T14:46:28.816Z"
   },
   {
    "duration": 22,
    "start_time": "2024-06-29T14:46:28.838Z"
   },
   {
    "duration": 64,
    "start_time": "2024-06-29T14:46:28.863Z"
   },
   {
    "duration": 14,
    "start_time": "2024-06-29T14:46:28.929Z"
   },
   {
    "duration": 25,
    "start_time": "2024-06-29T14:46:28.946Z"
   },
   {
    "duration": 62,
    "start_time": "2024-06-29T14:46:28.976Z"
   },
   {
    "duration": 11,
    "start_time": "2024-06-29T14:46:29.041Z"
   },
   {
    "duration": 57,
    "start_time": "2024-06-29T14:46:29.055Z"
   },
   {
    "duration": 21,
    "start_time": "2024-06-29T14:46:29.115Z"
   },
   {
    "duration": 483,
    "start_time": "2024-06-29T14:46:29.139Z"
   },
   {
    "duration": 422,
    "start_time": "2024-06-29T14:46:29.625Z"
   },
   {
    "duration": 175,
    "start_time": "2024-06-29T14:46:30.051Z"
   },
   {
    "duration": 392,
    "start_time": "2024-06-29T14:46:30.229Z"
   },
   {
    "duration": 5,
    "start_time": "2024-06-29T14:46:30.624Z"
   },
   {
    "duration": 1086,
    "start_time": "2024-06-29T14:46:30.632Z"
   },
   {
    "duration": 12,
    "start_time": "2024-06-29T14:47:07.101Z"
   },
   {
    "duration": 36,
    "start_time": "2024-06-29T14:48:05.712Z"
   },
   {
    "duration": 6,
    "start_time": "2024-06-29T14:48:28.391Z"
   },
   {
    "duration": 18,
    "start_time": "2024-06-29T14:49:09.780Z"
   },
   {
    "duration": 20,
    "start_time": "2024-06-29T14:49:52.542Z"
   },
   {
    "duration": 5,
    "start_time": "2024-06-29T14:52:26.212Z"
   },
   {
    "duration": 184,
    "start_time": "2024-06-29T14:53:04.240Z"
   },
   {
    "duration": 226,
    "start_time": "2024-06-29T14:53:27.533Z"
   },
   {
    "duration": 528,
    "start_time": "2024-06-29T14:57:41.701Z"
   },
   {
    "duration": 8,
    "start_time": "2024-06-29T14:59:04.939Z"
   },
   {
    "duration": 24,
    "start_time": "2024-06-29T14:59:56.834Z"
   },
   {
    "duration": 512,
    "start_time": "2024-06-29T15:00:28.805Z"
   },
   {
    "duration": 193,
    "start_time": "2024-06-29T15:02:35.085Z"
   },
   {
    "duration": 197,
    "start_time": "2024-06-29T15:03:57.655Z"
   },
   {
    "duration": 1324,
    "start_time": "2024-06-29T15:07:48.975Z"
   },
   {
    "duration": 334,
    "start_time": "2024-06-29T15:08:17.030Z"
   },
   {
    "duration": 25,
    "start_time": "2024-06-29T15:18:52.086Z"
   },
   {
    "duration": 543,
    "start_time": "2024-06-29T15:23:06.851Z"
   },
   {
    "duration": 3348,
    "start_time": "2024-06-29T15:23:33.438Z"
   },
   {
    "duration": 1405,
    "start_time": "2024-06-29T15:23:50.876Z"
   },
   {
    "duration": 304,
    "start_time": "2024-06-29T15:24:48.692Z"
   },
   {
    "duration": 17,
    "start_time": "2024-06-29T15:25:40.347Z"
   },
   {
    "duration": 302,
    "start_time": "2024-06-29T15:30:36.870Z"
   },
   {
    "duration": 475,
    "start_time": "2024-06-29T15:30:47.337Z"
   },
   {
    "duration": 472,
    "start_time": "2024-06-29T15:31:05.519Z"
   },
   {
    "duration": 1473,
    "start_time": "2024-06-29T15:33:07.679Z"
   },
   {
    "duration": 266,
    "start_time": "2024-06-29T15:33:30.048Z"
   },
   {
    "duration": 491,
    "start_time": "2024-06-29T15:33:46.194Z"
   },
   {
    "duration": 437,
    "start_time": "2024-06-29T15:37:03.845Z"
   },
   {
    "duration": 355,
    "start_time": "2024-06-29T15:50:01.391Z"
   },
   {
    "duration": 371,
    "start_time": "2024-06-29T15:50:48.948Z"
   },
   {
    "duration": 339,
    "start_time": "2024-06-29T15:54:02.101Z"
   },
   {
    "duration": 837,
    "start_time": "2024-06-29T16:02:35.981Z"
   },
   {
    "duration": 16,
    "start_time": "2024-06-29T16:02:50.971Z"
   },
   {
    "duration": 22,
    "start_time": "2024-06-29T16:04:27.138Z"
   },
   {
    "duration": 1054,
    "start_time": "2024-06-29T16:07:00.490Z"
   },
   {
    "duration": 624,
    "start_time": "2024-06-29T16:07:48.651Z"
   },
   {
    "duration": 190,
    "start_time": "2024-06-29T16:08:47.584Z"
   },
   {
    "duration": 326,
    "start_time": "2024-06-29T16:09:21.471Z"
   },
   {
    "duration": 345,
    "start_time": "2024-06-29T16:09:46.311Z"
   },
   {
    "duration": 295,
    "start_time": "2024-06-29T16:10:18.033Z"
   },
   {
    "duration": 1073,
    "start_time": "2024-06-29T16:11:02.165Z"
   },
   {
    "duration": 3,
    "start_time": "2024-06-29T16:12:50.845Z"
   },
   {
    "duration": 7,
    "start_time": "2024-06-29T16:22:02.212Z"
   },
   {
    "duration": 18,
    "start_time": "2024-06-29T16:22:15.856Z"
   },
   {
    "duration": 203,
    "start_time": "2024-06-29T16:26:12.352Z"
   },
   {
    "duration": 717,
    "start_time": "2024-06-29T16:27:08.354Z"
   },
   {
    "duration": 8,
    "start_time": "2024-06-29T16:28:32.910Z"
   },
   {
    "duration": 598,
    "start_time": "2024-06-29T16:28:41.279Z"
   },
   {
    "duration": 700,
    "start_time": "2024-06-29T16:28:53.089Z"
   },
   {
    "duration": 954,
    "start_time": "2024-06-29T16:29:06.179Z"
   },
   {
    "duration": 549,
    "start_time": "2024-06-29T16:29:39.065Z"
   },
   {
    "duration": 561,
    "start_time": "2024-06-29T16:29:58.828Z"
   },
   {
    "duration": 548,
    "start_time": "2024-06-29T16:30:14.395Z"
   },
   {
    "duration": 561,
    "start_time": "2024-06-29T16:31:09.069Z"
   },
   {
    "duration": 543,
    "start_time": "2024-06-29T16:32:10.344Z"
   },
   {
    "duration": 206,
    "start_time": "2024-06-29T16:32:12.570Z"
   },
   {
    "duration": 537,
    "start_time": "2024-06-29T16:32:36.082Z"
   },
   {
    "duration": 20,
    "start_time": "2024-06-29T16:36:31.130Z"
   },
   {
    "duration": 1296,
    "start_time": "2024-06-29T16:58:17.775Z"
   },
   {
    "duration": 60,
    "start_time": "2024-06-29T16:58:19.075Z"
   },
   {
    "duration": 7,
    "start_time": "2024-06-29T16:58:19.138Z"
   },
   {
    "duration": 30,
    "start_time": "2024-06-29T16:58:19.150Z"
   },
   {
    "duration": 45,
    "start_time": "2024-06-29T16:58:19.183Z"
   },
   {
    "duration": 684,
    "start_time": "2024-06-29T16:58:19.231Z"
   },
   {
    "duration": 0,
    "start_time": "2024-06-29T16:58:19.919Z"
   },
   {
    "duration": 0,
    "start_time": "2024-06-29T16:58:19.921Z"
   },
   {
    "duration": 0,
    "start_time": "2024-06-29T16:58:19.923Z"
   },
   {
    "duration": 0,
    "start_time": "2024-06-29T16:58:19.926Z"
   },
   {
    "duration": 0,
    "start_time": "2024-06-29T16:58:19.927Z"
   },
   {
    "duration": 0,
    "start_time": "2024-06-29T16:58:19.929Z"
   },
   {
    "duration": 0,
    "start_time": "2024-06-29T16:58:19.932Z"
   },
   {
    "duration": 0,
    "start_time": "2024-06-29T16:58:19.934Z"
   },
   {
    "duration": 0,
    "start_time": "2024-06-29T16:58:19.936Z"
   },
   {
    "duration": 0,
    "start_time": "2024-06-29T16:58:19.938Z"
   },
   {
    "duration": 0,
    "start_time": "2024-06-29T16:58:19.940Z"
   },
   {
    "duration": 0,
    "start_time": "2024-06-29T16:58:19.942Z"
   },
   {
    "duration": 0,
    "start_time": "2024-06-29T16:58:19.945Z"
   },
   {
    "duration": 0,
    "start_time": "2024-06-29T16:58:19.948Z"
   },
   {
    "duration": 0,
    "start_time": "2024-06-29T16:58:19.950Z"
   },
   {
    "duration": 0,
    "start_time": "2024-06-29T16:58:19.952Z"
   },
   {
    "duration": 0,
    "start_time": "2024-06-29T16:58:20.013Z"
   },
   {
    "duration": 0,
    "start_time": "2024-06-29T16:58:20.015Z"
   },
   {
    "duration": 17,
    "start_time": "2024-06-29T16:58:46.787Z"
   },
   {
    "duration": 18,
    "start_time": "2024-06-29T16:59:25.066Z"
   },
   {
    "duration": 26,
    "start_time": "2024-06-29T17:00:25.553Z"
   },
   {
    "duration": 21,
    "start_time": "2024-06-29T17:00:42.294Z"
   },
   {
    "duration": 1287,
    "start_time": "2024-06-29T17:01:16.876Z"
   },
   {
    "duration": 83,
    "start_time": "2024-06-29T17:01:18.167Z"
   },
   {
    "duration": 7,
    "start_time": "2024-06-29T17:01:18.253Z"
   },
   {
    "duration": 47,
    "start_time": "2024-06-29T17:01:18.266Z"
   },
   {
    "duration": 21,
    "start_time": "2024-06-29T17:01:18.317Z"
   },
   {
    "duration": 29,
    "start_time": "2024-06-29T17:01:18.341Z"
   },
   {
    "duration": 44,
    "start_time": "2024-06-29T17:01:18.373Z"
   },
   {
    "duration": 15,
    "start_time": "2024-06-29T17:01:18.420Z"
   },
   {
    "duration": 14,
    "start_time": "2024-06-29T17:01:18.438Z"
   },
   {
    "duration": 56,
    "start_time": "2024-06-29T17:01:18.460Z"
   },
   {
    "duration": 42,
    "start_time": "2024-06-29T17:01:18.519Z"
   },
   {
    "duration": 9,
    "start_time": "2024-06-29T17:01:18.564Z"
   },
   {
    "duration": 66,
    "start_time": "2024-06-29T17:01:18.578Z"
   },
   {
    "duration": 24,
    "start_time": "2024-06-29T17:01:18.647Z"
   },
   {
    "duration": 423,
    "start_time": "2024-06-29T17:01:18.674Z"
   },
   {
    "duration": 271,
    "start_time": "2024-06-29T17:01:19.112Z"
   },
   {
    "duration": 265,
    "start_time": "2024-06-29T17:01:19.387Z"
   },
   {
    "duration": 417,
    "start_time": "2024-06-29T17:01:19.656Z"
   },
   {
    "duration": 6,
    "start_time": "2024-06-29T17:01:20.076Z"
   },
   {
    "duration": 33,
    "start_time": "2024-06-29T17:01:20.089Z"
   },
   {
    "duration": 483,
    "start_time": "2024-06-29T17:01:20.125Z"
   },
   {
    "duration": 4,
    "start_time": "2024-06-29T17:01:20.614Z"
   },
   {
    "duration": 778,
    "start_time": "2024-06-29T17:01:20.622Z"
   },
   {
    "duration": 561,
    "start_time": "2024-06-29T17:01:21.411Z"
   },
   {
    "duration": 42,
    "start_time": "2024-06-29T17:01:21.976Z"
   },
   {
    "duration": 1314,
    "start_time": "2024-06-29T17:05:34.350Z"
   },
   {
    "duration": 68,
    "start_time": "2024-06-29T17:05:35.668Z"
   },
   {
    "duration": 7,
    "start_time": "2024-06-29T17:05:35.740Z"
   },
   {
    "duration": 33,
    "start_time": "2024-06-29T17:05:35.751Z"
   },
   {
    "duration": 43,
    "start_time": "2024-06-29T17:05:35.787Z"
   },
   {
    "duration": 28,
    "start_time": "2024-06-29T17:05:35.833Z"
   },
   {
    "duration": 58,
    "start_time": "2024-06-29T17:05:35.864Z"
   },
   {
    "duration": 13,
    "start_time": "2024-06-29T17:05:35.926Z"
   },
   {
    "duration": 27,
    "start_time": "2024-06-29T17:05:35.944Z"
   },
   {
    "duration": 64,
    "start_time": "2024-06-29T17:05:35.976Z"
   },
   {
    "duration": 12,
    "start_time": "2024-06-29T17:05:36.043Z"
   },
   {
    "duration": 63,
    "start_time": "2024-06-29T17:05:36.058Z"
   },
   {
    "duration": 22,
    "start_time": "2024-06-29T17:05:36.125Z"
   },
   {
    "duration": 487,
    "start_time": "2024-06-29T17:05:36.150Z"
   },
   {
    "duration": 440,
    "start_time": "2024-06-29T17:05:36.639Z"
   },
   {
    "duration": 182,
    "start_time": "2024-06-29T17:05:37.082Z"
   },
   {
    "duration": 397,
    "start_time": "2024-06-29T17:05:37.268Z"
   },
   {
    "duration": 6,
    "start_time": "2024-06-29T17:05:37.668Z"
   },
   {
    "duration": 20,
    "start_time": "2024-06-29T17:05:37.677Z"
   },
   {
    "duration": 449,
    "start_time": "2024-06-29T17:05:37.713Z"
   },
   {
    "duration": 4,
    "start_time": "2024-06-29T17:05:38.165Z"
   },
   {
    "duration": 731,
    "start_time": "2024-06-29T17:05:38.172Z"
   },
   {
    "duration": 631,
    "start_time": "2024-06-29T17:05:38.906Z"
   },
   {
    "duration": 22,
    "start_time": "2024-06-29T17:05:39.540Z"
   },
   {
    "duration": 26,
    "start_time": "2024-06-29T17:19:29.243Z"
   },
   {
    "duration": 424,
    "start_time": "2024-06-29T17:22:51.752Z"
   },
   {
    "duration": 18,
    "start_time": "2024-06-29T17:23:07.423Z"
   },
   {
    "duration": 36,
    "start_time": "2024-06-29T17:24:03.233Z"
   },
   {
    "duration": 19,
    "start_time": "2024-06-29T17:24:11.128Z"
   },
   {
    "duration": 38,
    "start_time": "2024-06-29T17:24:45.256Z"
   },
   {
    "duration": 34,
    "start_time": "2024-06-29T17:25:09.465Z"
   },
   {
    "duration": 20,
    "start_time": "2024-06-29T17:25:34.954Z"
   },
   {
    "duration": 7,
    "start_time": "2024-06-29T17:26:37.728Z"
   },
   {
    "duration": 39,
    "start_time": "2024-06-29T17:27:23.972Z"
   },
   {
    "duration": 17,
    "start_time": "2024-06-29T17:27:47.336Z"
   },
   {
    "duration": 27,
    "start_time": "2024-06-29T17:29:05.724Z"
   },
   {
    "duration": 546,
    "start_time": "2024-06-29T17:30:19.604Z"
   },
   {
    "duration": 276,
    "start_time": "2024-06-29T17:30:49.421Z"
   },
   {
    "duration": 491,
    "start_time": "2024-06-29T17:34:04.124Z"
   },
   {
    "duration": 386,
    "start_time": "2024-06-29T17:34:21.229Z"
   },
   {
    "duration": 549,
    "start_time": "2024-06-29T17:34:44.768Z"
   },
   {
    "duration": 1315,
    "start_time": "2024-06-29T17:36:08.868Z"
   },
   {
    "duration": 459,
    "start_time": "2024-06-29T17:36:20.983Z"
   },
   {
    "duration": 316,
    "start_time": "2024-06-29T17:38:33.385Z"
   },
   {
    "duration": 255,
    "start_time": "2024-06-29T17:42:17.000Z"
   },
   {
    "duration": 213,
    "start_time": "2024-06-29T17:42:26.943Z"
   },
   {
    "duration": 227,
    "start_time": "2024-06-29T17:46:30.783Z"
   },
   {
    "duration": 209,
    "start_time": "2024-06-29T17:46:41.784Z"
   },
   {
    "duration": 485,
    "start_time": "2024-06-29T17:48:47.820Z"
   },
   {
    "duration": 462,
    "start_time": "2024-06-29T17:52:44.556Z"
   },
   {
    "duration": 456,
    "start_time": "2024-06-29T17:53:42.671Z"
   },
   {
    "duration": 420,
    "start_time": "2024-06-29T17:53:59.838Z"
   },
   {
    "duration": 575,
    "start_time": "2024-06-29T18:06:01.588Z"
   },
   {
    "duration": 316,
    "start_time": "2024-06-29T18:06:46.088Z"
   },
   {
    "duration": 329,
    "start_time": "2024-06-29T18:07:40.258Z"
   },
   {
    "duration": 9,
    "start_time": "2024-06-29T18:08:25.722Z"
   },
   {
    "duration": 177,
    "start_time": "2024-06-29T18:11:10.224Z"
   },
   {
    "duration": 294,
    "start_time": "2024-06-29T18:11:21.301Z"
   },
   {
    "duration": 174,
    "start_time": "2024-06-29T18:11:28.289Z"
   },
   {
    "duration": 318,
    "start_time": "2024-06-29T18:12:58.738Z"
   },
   {
    "duration": 366,
    "start_time": "2024-06-29T18:13:31.048Z"
   },
   {
    "duration": 166,
    "start_time": "2024-06-29T18:13:46.301Z"
   },
   {
    "duration": 378,
    "start_time": "2024-06-29T18:13:48.616Z"
   },
   {
    "duration": 339,
    "start_time": "2024-07-01T16:48:50.562Z"
   },
   {
    "duration": 5109,
    "start_time": "2024-07-01T16:49:05.703Z"
   },
   {
    "duration": 75,
    "start_time": "2024-07-01T16:49:10.816Z"
   },
   {
    "duration": 7,
    "start_time": "2024-07-01T16:49:10.893Z"
   },
   {
    "duration": 40,
    "start_time": "2024-07-01T16:49:10.904Z"
   },
   {
    "duration": 29,
    "start_time": "2024-07-01T16:49:10.950Z"
   },
   {
    "duration": 51,
    "start_time": "2024-07-01T16:49:10.982Z"
   },
   {
    "duration": 32,
    "start_time": "2024-07-01T16:49:11.037Z"
   },
   {
    "duration": 49,
    "start_time": "2024-07-01T16:49:11.073Z"
   },
   {
    "duration": 34,
    "start_time": "2024-07-01T16:49:11.127Z"
   },
   {
    "duration": 69,
    "start_time": "2024-07-01T16:49:11.164Z"
   },
   {
    "duration": 13,
    "start_time": "2024-07-01T16:49:11.236Z"
   },
   {
    "duration": 38,
    "start_time": "2024-07-01T16:49:11.252Z"
   },
   {
    "duration": 29,
    "start_time": "2024-07-01T16:49:11.314Z"
   },
   {
    "duration": 511,
    "start_time": "2024-07-01T16:49:11.348Z"
   },
   {
    "duration": 381,
    "start_time": "2024-07-01T16:49:11.863Z"
   },
   {
    "duration": 1028,
    "start_time": "2024-07-01T16:49:12.247Z"
   },
   {
    "duration": 0,
    "start_time": "2024-07-01T16:49:13.279Z"
   },
   {
    "duration": 0,
    "start_time": "2024-07-01T16:49:13.280Z"
   },
   {
    "duration": 0,
    "start_time": "2024-07-01T16:49:13.283Z"
   },
   {
    "duration": 0,
    "start_time": "2024-07-01T16:49:13.286Z"
   },
   {
    "duration": 0,
    "start_time": "2024-07-01T16:49:13.288Z"
   },
   {
    "duration": 0,
    "start_time": "2024-07-01T16:49:13.313Z"
   },
   {
    "duration": 0,
    "start_time": "2024-07-01T16:49:13.315Z"
   },
   {
    "duration": 0,
    "start_time": "2024-07-01T16:49:13.317Z"
   },
   {
    "duration": 0,
    "start_time": "2024-07-01T16:49:13.319Z"
   },
   {
    "duration": 0,
    "start_time": "2024-07-01T16:49:13.323Z"
   },
   {
    "duration": 359,
    "start_time": "2024-07-01T16:49:26.749Z"
   },
   {
    "duration": 174,
    "start_time": "2024-07-01T17:01:27.940Z"
   },
   {
    "duration": 39,
    "start_time": "2024-07-01T17:07:52.027Z"
   },
   {
    "duration": 37,
    "start_time": "2024-07-01T17:08:29.760Z"
   },
   {
    "duration": 6647,
    "start_time": "2024-07-01T17:08:38.651Z"
   },
   {
    "duration": 365,
    "start_time": "2024-07-01T17:10:13.192Z"
   },
   {
    "duration": 1160,
    "start_time": "2024-07-01T17:12:53.067Z"
   },
   {
    "duration": 497,
    "start_time": "2024-07-01T17:16:05.587Z"
   },
   {
    "duration": 444,
    "start_time": "2024-07-01T17:16:41.884Z"
   },
   {
    "duration": 2455,
    "start_time": "2024-07-01T17:19:35.234Z"
   },
   {
    "duration": 2773,
    "start_time": "2024-07-01T17:20:05.325Z"
   },
   {
    "duration": 6,
    "start_time": "2024-07-01T17:22:34.031Z"
   },
   {
    "duration": 23,
    "start_time": "2024-07-01T17:22:36.334Z"
   },
   {
    "duration": 543,
    "start_time": "2024-07-01T17:22:41.516Z"
   },
   {
    "duration": 42,
    "start_time": "2024-07-01T17:39:38.963Z"
   },
   {
    "duration": 303,
    "start_time": "2024-07-01T17:40:13.270Z"
   },
   {
    "duration": 301,
    "start_time": "2024-07-01T17:52:22.106Z"
   },
   {
    "duration": 310,
    "start_time": "2024-07-01T17:52:53.544Z"
   },
   {
    "duration": 327,
    "start_time": "2024-07-01T17:56:53.479Z"
   },
   {
    "duration": 329,
    "start_time": "2024-07-01T17:57:14.119Z"
   },
   {
    "duration": 318,
    "start_time": "2024-07-01T17:57:33.233Z"
   },
   {
    "duration": 985,
    "start_time": "2024-07-01T17:58:13.981Z"
   },
   {
    "duration": 588,
    "start_time": "2024-07-01T17:58:17.348Z"
   },
   {
    "duration": 22,
    "start_time": "2024-07-01T17:58:20.695Z"
   },
   {
    "duration": 174,
    "start_time": "2024-07-01T17:58:25.472Z"
   },
   {
    "duration": 35,
    "start_time": "2024-07-01T18:15:46.477Z"
   },
   {
    "duration": 37,
    "start_time": "2024-07-01T18:16:46.422Z"
   },
   {
    "duration": 410,
    "start_time": "2024-07-01T18:16:55.666Z"
   },
   {
    "duration": 188,
    "start_time": "2024-07-01T18:20:54.160Z"
   },
   {
    "duration": 26,
    "start_time": "2024-07-01T18:21:07.751Z"
   },
   {
    "duration": 18,
    "start_time": "2024-07-01T18:21:17.159Z"
   },
   {
    "duration": 23,
    "start_time": "2024-07-01T18:21:32.961Z"
   },
   {
    "duration": 15,
    "start_time": "2024-07-01T18:21:59.676Z"
   },
   {
    "duration": 13,
    "start_time": "2024-07-01T18:22:27.180Z"
   },
   {
    "duration": 515,
    "start_time": "2024-07-01T18:22:44.648Z"
   },
   {
    "duration": 546,
    "start_time": "2024-07-01T18:23:11.805Z"
   },
   {
    "duration": 4,
    "start_time": "2024-07-01T18:33:51.400Z"
   },
   {
    "duration": 45,
    "start_time": "2024-07-01T18:36:15.472Z"
   },
   {
    "duration": 280,
    "start_time": "2024-07-01T18:36:34.500Z"
   },
   {
    "duration": 15,
    "start_time": "2024-07-01T18:45:23.164Z"
   },
   {
    "duration": 29,
    "start_time": "2024-07-01T18:45:49.915Z"
   },
   {
    "duration": 15,
    "start_time": "2024-07-01T18:46:34.655Z"
   },
   {
    "duration": 10,
    "start_time": "2024-07-01T18:47:05.947Z"
   },
   {
    "duration": 6,
    "start_time": "2024-07-01T18:47:24.685Z"
   },
   {
    "duration": 14,
    "start_time": "2024-07-01T18:48:01.829Z"
   },
   {
    "duration": 16,
    "start_time": "2024-07-01T18:49:43.386Z"
   },
   {
    "duration": 22,
    "start_time": "2024-07-01T18:50:49.674Z"
   },
   {
    "duration": 13,
    "start_time": "2024-07-01T18:51:07.541Z"
   },
   {
    "duration": 123,
    "start_time": "2024-07-01T18:57:25.046Z"
   },
   {
    "duration": 197,
    "start_time": "2024-07-01T18:57:38.690Z"
   },
   {
    "duration": 8,
    "start_time": "2024-07-01T18:59:14.043Z"
   },
   {
    "duration": 16,
    "start_time": "2024-07-01T18:59:27.207Z"
   },
   {
    "duration": 11,
    "start_time": "2024-07-01T18:59:53.731Z"
   },
   {
    "duration": 12,
    "start_time": "2024-07-01T19:00:19.271Z"
   },
   {
    "duration": 13,
    "start_time": "2024-07-01T19:02:38.616Z"
   },
   {
    "duration": 15,
    "start_time": "2024-07-01T19:02:54.823Z"
   },
   {
    "duration": 264,
    "start_time": "2024-07-01T19:03:22.708Z"
   },
   {
    "duration": 254,
    "start_time": "2024-07-01T19:04:08.892Z"
   },
   {
    "duration": 14,
    "start_time": "2024-07-01T19:08:15.253Z"
   },
   {
    "duration": 234,
    "start_time": "2024-07-01T19:14:11.325Z"
   },
   {
    "duration": 42,
    "start_time": "2024-07-01T19:14:23.806Z"
   },
   {
    "duration": 145,
    "start_time": "2024-07-01T19:16:11.448Z"
   },
   {
    "duration": 480,
    "start_time": "2024-07-01T19:16:33.696Z"
   },
   {
    "duration": 455,
    "start_time": "2024-07-01T19:19:17.023Z"
   },
   {
    "duration": 28,
    "start_time": "2024-07-01T19:19:39.135Z"
   },
   {
    "duration": 83,
    "start_time": "2024-07-01T19:21:35.137Z"
   },
   {
    "duration": 16,
    "start_time": "2024-07-01T19:21:57.022Z"
   },
   {
    "duration": 484,
    "start_time": "2024-07-01T19:22:17.765Z"
   },
   {
    "duration": 16,
    "start_time": "2024-07-01T19:22:36.980Z"
   },
   {
    "duration": 19,
    "start_time": "2024-07-01T19:23:01.812Z"
   },
   {
    "duration": 31,
    "start_time": "2024-07-01T19:23:20.263Z"
   },
   {
    "duration": 20,
    "start_time": "2024-07-01T19:23:33.931Z"
   },
   {
    "duration": 18,
    "start_time": "2024-07-01T19:23:43.590Z"
   },
   {
    "duration": 330,
    "start_time": "2024-07-01T19:23:56.087Z"
   },
   {
    "duration": 1346,
    "start_time": "2024-07-01T19:24:23.316Z"
   },
   {
    "duration": 60,
    "start_time": "2024-07-01T19:24:24.666Z"
   },
   {
    "duration": 6,
    "start_time": "2024-07-01T19:24:24.729Z"
   },
   {
    "duration": 30,
    "start_time": "2024-07-01T19:24:24.739Z"
   },
   {
    "duration": 48,
    "start_time": "2024-07-01T19:24:24.774Z"
   },
   {
    "duration": 30,
    "start_time": "2024-07-01T19:24:24.826Z"
   },
   {
    "duration": 57,
    "start_time": "2024-07-01T19:24:24.859Z"
   },
   {
    "duration": 13,
    "start_time": "2024-07-01T19:24:24.919Z"
   },
   {
    "duration": 24,
    "start_time": "2024-07-01T19:24:24.935Z"
   },
   {
    "duration": 69,
    "start_time": "2024-07-01T19:24:24.962Z"
   },
   {
    "duration": 12,
    "start_time": "2024-07-01T19:24:25.035Z"
   },
   {
    "duration": 26,
    "start_time": "2024-07-01T19:24:25.050Z"
   },
   {
    "duration": 52,
    "start_time": "2024-07-01T19:24:25.078Z"
   },
   {
    "duration": 480,
    "start_time": "2024-07-01T19:24:25.136Z"
   },
   {
    "duration": 427,
    "start_time": "2024-07-01T19:24:25.619Z"
   },
   {
    "duration": 298,
    "start_time": "2024-07-01T19:24:26.049Z"
   },
   {
    "duration": 922,
    "start_time": "2024-07-01T19:24:26.350Z"
   },
   {
    "duration": 182,
    "start_time": "2024-07-01T19:24:27.276Z"
   },
   {
    "duration": 2519,
    "start_time": "2024-07-01T19:24:27.461Z"
   },
   {
    "duration": 6,
    "start_time": "2024-07-01T19:24:29.984Z"
   },
   {
    "duration": 19,
    "start_time": "2024-07-01T19:24:30.013Z"
   },
   {
    "duration": 307,
    "start_time": "2024-07-01T19:24:30.035Z"
   },
   {
    "duration": 4,
    "start_time": "2024-07-01T19:24:30.345Z"
   },
   {
    "duration": 862,
    "start_time": "2024-07-01T19:24:30.351Z"
   },
   {
    "duration": 571,
    "start_time": "2024-07-01T19:24:31.216Z"
   },
   {
    "duration": 29,
    "start_time": "2024-07-01T19:24:31.790Z"
   },
   {
    "duration": 470,
    "start_time": "2024-07-01T19:24:31.822Z"
   },
   {
    "duration": 317,
    "start_time": "2024-07-01T19:24:32.296Z"
   },
   {
    "duration": 542,
    "start_time": "2024-07-01T19:24:32.616Z"
   },
   {
    "duration": 0,
    "start_time": "2024-07-01T19:24:33.161Z"
   },
   {
    "duration": 303,
    "start_time": "2024-07-01T19:24:46.064Z"
   },
   {
    "duration": 7,
    "start_time": "2024-07-01T19:46:54.351Z"
   },
   {
    "duration": 24,
    "start_time": "2024-07-01T19:47:29.019Z"
   },
   {
    "duration": 9,
    "start_time": "2024-07-01T19:48:09.644Z"
   },
   {
    "duration": 8,
    "start_time": "2024-07-01T19:48:16.505Z"
   },
   {
    "duration": 18,
    "start_time": "2024-07-01T19:49:58.034Z"
   },
   {
    "duration": 25,
    "start_time": "2024-07-01T19:50:18.060Z"
   },
   {
    "duration": 16,
    "start_time": "2024-07-01T19:51:05.109Z"
   },
   {
    "duration": 21,
    "start_time": "2024-07-01T19:53:18.549Z"
   },
   {
    "duration": 289,
    "start_time": "2024-07-01T19:53:57.194Z"
   },
   {
    "duration": 307,
    "start_time": "2024-07-01T19:54:43.772Z"
   },
   {
    "duration": 19,
    "start_time": "2024-07-01T20:09:29.554Z"
   },
   {
    "duration": 20,
    "start_time": "2024-07-01T20:10:38.816Z"
   },
   {
    "duration": 8,
    "start_time": "2024-07-01T20:11:11.165Z"
   },
   {
    "duration": 13,
    "start_time": "2024-07-01T20:12:11.104Z"
   },
   {
    "duration": 591,
    "start_time": "2024-07-01T20:13:03.903Z"
   },
   {
    "duration": 10,
    "start_time": "2024-07-01T20:13:20.215Z"
   },
   {
    "duration": 12,
    "start_time": "2024-07-01T20:13:42.302Z"
   },
   {
    "duration": 3,
    "start_time": "2024-07-01T20:43:53.047Z"
   },
   {
    "duration": 10,
    "start_time": "2024-07-01T20:54:58.154Z"
   },
   {
    "duration": 11,
    "start_time": "2024-07-01T20:55:10.692Z"
   },
   {
    "duration": 9,
    "start_time": "2024-07-01T20:55:53.386Z"
   },
   {
    "duration": 310,
    "start_time": "2024-07-02T02:31:22.891Z"
   },
   {
    "duration": 4972,
    "start_time": "2024-07-02T02:31:38.783Z"
   },
   {
    "duration": 71,
    "start_time": "2024-07-02T02:31:43.760Z"
   },
   {
    "duration": 7,
    "start_time": "2024-07-02T02:31:43.834Z"
   },
   {
    "duration": 59,
    "start_time": "2024-07-02T02:31:43.845Z"
   },
   {
    "duration": 18,
    "start_time": "2024-07-02T02:31:43.908Z"
   },
   {
    "duration": 28,
    "start_time": "2024-07-02T02:31:43.929Z"
   },
   {
    "duration": 49,
    "start_time": "2024-07-02T02:31:43.959Z"
   },
   {
    "duration": 1307,
    "start_time": "2024-07-02T02:31:53.973Z"
   },
   {
    "duration": 62,
    "start_time": "2024-07-02T02:31:55.284Z"
   },
   {
    "duration": 7,
    "start_time": "2024-07-02T02:31:55.349Z"
   },
   {
    "duration": 54,
    "start_time": "2024-07-02T02:31:55.362Z"
   },
   {
    "duration": 18,
    "start_time": "2024-07-02T02:31:55.419Z"
   },
   {
    "duration": 27,
    "start_time": "2024-07-02T02:31:55.440Z"
   },
   {
    "duration": 13,
    "start_time": "2024-07-02T02:31:55.500Z"
   },
   {
    "duration": 16,
    "start_time": "2024-07-02T02:31:55.516Z"
   },
   {
    "duration": 11,
    "start_time": "2024-07-02T02:31:55.535Z"
   },
   {
    "duration": 63,
    "start_time": "2024-07-02T02:31:55.551Z"
   },
   {
    "duration": 22,
    "start_time": "2024-07-02T02:31:55.616Z"
   },
   {
    "duration": 507,
    "start_time": "2024-07-02T02:31:55.641Z"
   },
   {
    "duration": 494,
    "start_time": "2024-07-02T02:31:56.151Z"
   },
   {
    "duration": 306,
    "start_time": "2024-07-02T02:31:56.649Z"
   },
   {
    "duration": 901,
    "start_time": "2024-07-02T02:31:56.958Z"
   },
   {
    "duration": 186,
    "start_time": "2024-07-02T02:31:57.862Z"
   },
   {
    "duration": 2545,
    "start_time": "2024-07-02T02:31:58.051Z"
   },
   {
    "duration": 6,
    "start_time": "2024-07-02T02:32:00.603Z"
   },
   {
    "duration": 21,
    "start_time": "2024-07-02T02:32:00.612Z"
   },
   {
    "duration": 322,
    "start_time": "2024-07-02T02:32:00.636Z"
   },
   {
    "duration": 4,
    "start_time": "2024-07-02T02:32:00.961Z"
   },
   {
    "duration": 828,
    "start_time": "2024-07-02T02:32:00.968Z"
   },
   {
    "duration": 547,
    "start_time": "2024-07-02T02:32:01.802Z"
   },
   {
    "duration": 21,
    "start_time": "2024-07-02T02:32:02.352Z"
   },
   {
    "duration": 472,
    "start_time": "2024-07-02T02:32:02.376Z"
   },
   {
    "duration": 304,
    "start_time": "2024-07-02T02:32:02.851Z"
   },
   {
    "duration": 314,
    "start_time": "2024-07-02T02:32:03.160Z"
   },
   {
    "duration": 391,
    "start_time": "2024-07-02T02:32:03.481Z"
   },
   {
    "duration": 10,
    "start_time": "2024-07-02T02:32:03.875Z"
   },
   {
    "duration": 465,
    "start_time": "2024-07-02T02:32:03.888Z"
   },
   {
    "duration": 17,
    "start_time": "2024-07-02T02:32:11.819Z"
   },
   {
    "duration": 16,
    "start_time": "2024-07-02T02:32:39.082Z"
   },
   {
    "duration": 20,
    "start_time": "2024-07-02T02:32:55.336Z"
   },
   {
    "duration": 20,
    "start_time": "2024-07-02T02:36:12.008Z"
   },
   {
    "duration": 22,
    "start_time": "2024-07-02T02:37:17.278Z"
   },
   {
    "duration": 15,
    "start_time": "2024-07-02T02:37:32.306Z"
   },
   {
    "duration": 19,
    "start_time": "2024-07-02T02:37:36.572Z"
   },
   {
    "duration": 12,
    "start_time": "2024-07-02T02:42:03.739Z"
   },
   {
    "duration": 187,
    "start_time": "2024-07-02T02:42:36.621Z"
   },
   {
    "duration": 10,
    "start_time": "2024-07-02T02:44:12.983Z"
   },
   {
    "duration": 13,
    "start_time": "2024-07-02T02:44:45.573Z"
   },
   {
    "duration": 13,
    "start_time": "2024-07-02T02:44:59.269Z"
   },
   {
    "duration": 17,
    "start_time": "2024-07-02T02:45:15.576Z"
   },
   {
    "duration": 68,
    "start_time": "2024-07-02T02:51:29.673Z"
   },
   {
    "duration": 34,
    "start_time": "2024-07-02T02:53:49.975Z"
   },
   {
    "duration": 52,
    "start_time": "2024-07-02T02:53:58.703Z"
   },
   {
    "duration": 65,
    "start_time": "2024-07-02T02:57:04.022Z"
   },
   {
    "duration": 68,
    "start_time": "2024-07-02T02:57:11.831Z"
   },
   {
    "duration": 10,
    "start_time": "2024-07-02T03:02:34.480Z"
   },
   {
    "duration": 68,
    "start_time": "2024-07-02T03:07:51.896Z"
   },
   {
    "duration": 71,
    "start_time": "2024-07-02T03:17:04.006Z"
   },
   {
    "duration": 707,
    "start_time": "2024-07-02T03:18:45.022Z"
   },
   {
    "duration": 218,
    "start_time": "2024-07-02T03:19:08.042Z"
   },
   {
    "duration": 425,
    "start_time": "2024-07-02T03:19:45.433Z"
   },
   {
    "duration": 362,
    "start_time": "2024-07-02T03:20:23.681Z"
   },
   {
    "duration": 410,
    "start_time": "2024-07-02T03:20:45.885Z"
   },
   {
    "duration": 25,
    "start_time": "2024-07-02T03:24:37.890Z"
   },
   {
    "duration": 1372,
    "start_time": "2024-07-02T03:37:27.075Z"
   },
   {
    "duration": 81,
    "start_time": "2024-07-02T03:37:28.451Z"
   },
   {
    "duration": 512,
    "start_time": "2024-07-02T03:37:28.538Z"
   },
   {
    "duration": 0,
    "start_time": "2024-07-02T03:37:29.055Z"
   },
   {
    "duration": 0,
    "start_time": "2024-07-02T03:37:29.058Z"
   },
   {
    "duration": 0,
    "start_time": "2024-07-02T03:37:29.061Z"
   },
   {
    "duration": 0,
    "start_time": "2024-07-02T03:37:29.064Z"
   },
   {
    "duration": 0,
    "start_time": "2024-07-02T03:37:29.067Z"
   },
   {
    "duration": 0,
    "start_time": "2024-07-02T03:37:29.069Z"
   },
   {
    "duration": 0,
    "start_time": "2024-07-02T03:37:29.071Z"
   },
   {
    "duration": 0,
    "start_time": "2024-07-02T03:37:29.103Z"
   },
   {
    "duration": 0,
    "start_time": "2024-07-02T03:37:29.105Z"
   },
   {
    "duration": 0,
    "start_time": "2024-07-02T03:37:29.108Z"
   },
   {
    "duration": 0,
    "start_time": "2024-07-02T03:37:29.110Z"
   },
   {
    "duration": 0,
    "start_time": "2024-07-02T03:37:29.112Z"
   },
   {
    "duration": 0,
    "start_time": "2024-07-02T03:37:29.114Z"
   },
   {
    "duration": 0,
    "start_time": "2024-07-02T03:37:29.116Z"
   },
   {
    "duration": 0,
    "start_time": "2024-07-02T03:37:29.117Z"
   },
   {
    "duration": 0,
    "start_time": "2024-07-02T03:37:29.120Z"
   },
   {
    "duration": 0,
    "start_time": "2024-07-02T03:37:29.122Z"
   },
   {
    "duration": 0,
    "start_time": "2024-07-02T03:37:29.125Z"
   },
   {
    "duration": 0,
    "start_time": "2024-07-02T03:37:29.126Z"
   },
   {
    "duration": 0,
    "start_time": "2024-07-02T03:37:29.129Z"
   },
   {
    "duration": 0,
    "start_time": "2024-07-02T03:37:29.131Z"
   },
   {
    "duration": 0,
    "start_time": "2024-07-02T03:37:29.133Z"
   },
   {
    "duration": 0,
    "start_time": "2024-07-02T03:37:29.135Z"
   },
   {
    "duration": 0,
    "start_time": "2024-07-02T03:37:29.137Z"
   },
   {
    "duration": 0,
    "start_time": "2024-07-02T03:37:29.139Z"
   },
   {
    "duration": 1243,
    "start_time": "2024-07-02T03:38:00.065Z"
   },
   {
    "duration": 50,
    "start_time": "2024-07-02T03:38:01.312Z"
   },
   {
    "duration": 8,
    "start_time": "2024-07-02T03:38:01.365Z"
   },
   {
    "duration": 24,
    "start_time": "2024-07-02T03:38:01.402Z"
   },
   {
    "duration": 17,
    "start_time": "2024-07-02T03:38:01.430Z"
   },
   {
    "duration": 61,
    "start_time": "2024-07-02T03:38:01.451Z"
   },
   {
    "duration": 528,
    "start_time": "2024-07-02T03:38:01.515Z"
   },
   {
    "duration": 0,
    "start_time": "2024-07-02T03:38:02.047Z"
   },
   {
    "duration": 0,
    "start_time": "2024-07-02T03:38:02.049Z"
   },
   {
    "duration": 0,
    "start_time": "2024-07-02T03:38:02.051Z"
   },
   {
    "duration": 0,
    "start_time": "2024-07-02T03:38:02.054Z"
   },
   {
    "duration": 0,
    "start_time": "2024-07-02T03:38:02.056Z"
   },
   {
    "duration": 0,
    "start_time": "2024-07-02T03:38:02.057Z"
   },
   {
    "duration": 0,
    "start_time": "2024-07-02T03:38:02.060Z"
   },
   {
    "duration": 0,
    "start_time": "2024-07-02T03:38:02.062Z"
   },
   {
    "duration": 0,
    "start_time": "2024-07-02T03:38:02.064Z"
   },
   {
    "duration": 0,
    "start_time": "2024-07-02T03:38:02.066Z"
   },
   {
    "duration": 0,
    "start_time": "2024-07-02T03:38:02.069Z"
   },
   {
    "duration": 0,
    "start_time": "2024-07-02T03:38:02.102Z"
   },
   {
    "duration": 0,
    "start_time": "2024-07-02T03:38:02.105Z"
   },
   {
    "duration": 0,
    "start_time": "2024-07-02T03:38:02.107Z"
   },
   {
    "duration": 0,
    "start_time": "2024-07-02T03:38:02.109Z"
   },
   {
    "duration": 0,
    "start_time": "2024-07-02T03:38:02.111Z"
   },
   {
    "duration": 0,
    "start_time": "2024-07-02T03:38:02.114Z"
   },
   {
    "duration": 0,
    "start_time": "2024-07-02T03:38:02.116Z"
   },
   {
    "duration": 0,
    "start_time": "2024-07-02T03:38:02.119Z"
   },
   {
    "duration": 0,
    "start_time": "2024-07-02T03:38:02.122Z"
   },
   {
    "duration": 0,
    "start_time": "2024-07-02T03:38:02.124Z"
   },
   {
    "duration": 1233,
    "start_time": "2024-07-02T03:38:28.420Z"
   },
   {
    "duration": 61,
    "start_time": "2024-07-02T03:38:29.657Z"
   },
   {
    "duration": 6,
    "start_time": "2024-07-02T03:38:29.721Z"
   },
   {
    "duration": 24,
    "start_time": "2024-07-02T03:38:29.731Z"
   },
   {
    "duration": 50,
    "start_time": "2024-07-02T03:38:29.759Z"
   },
   {
    "duration": 27,
    "start_time": "2024-07-02T03:38:29.812Z"
   },
   {
    "duration": 14,
    "start_time": "2024-07-02T03:38:29.842Z"
   },
   {
    "duration": 523,
    "start_time": "2024-07-02T03:38:29.859Z"
   },
   {
    "duration": 0,
    "start_time": "2024-07-02T03:38:30.387Z"
   },
   {
    "duration": 0,
    "start_time": "2024-07-02T03:38:30.390Z"
   },
   {
    "duration": 0,
    "start_time": "2024-07-02T03:38:30.392Z"
   },
   {
    "duration": 0,
    "start_time": "2024-07-02T03:38:30.404Z"
   },
   {
    "duration": 0,
    "start_time": "2024-07-02T03:38:30.407Z"
   },
   {
    "duration": 0,
    "start_time": "2024-07-02T03:38:30.410Z"
   },
   {
    "duration": 0,
    "start_time": "2024-07-02T03:38:30.412Z"
   },
   {
    "duration": 0,
    "start_time": "2024-07-02T03:38:30.414Z"
   },
   {
    "duration": 0,
    "start_time": "2024-07-02T03:38:30.417Z"
   },
   {
    "duration": 0,
    "start_time": "2024-07-02T03:38:30.419Z"
   },
   {
    "duration": 0,
    "start_time": "2024-07-02T03:38:30.421Z"
   },
   {
    "duration": 0,
    "start_time": "2024-07-02T03:38:30.424Z"
   },
   {
    "duration": 0,
    "start_time": "2024-07-02T03:38:30.426Z"
   },
   {
    "duration": 0,
    "start_time": "2024-07-02T03:38:30.429Z"
   },
   {
    "duration": 0,
    "start_time": "2024-07-02T03:38:30.431Z"
   },
   {
    "duration": 0,
    "start_time": "2024-07-02T03:38:30.433Z"
   },
   {
    "duration": 0,
    "start_time": "2024-07-02T03:38:30.436Z"
   },
   {
    "duration": 0,
    "start_time": "2024-07-02T03:38:30.438Z"
   },
   {
    "duration": 0,
    "start_time": "2024-07-02T03:38:30.441Z"
   },
   {
    "duration": 0,
    "start_time": "2024-07-02T03:38:30.443Z"
   },
   {
    "duration": 425,
    "start_time": "2024-07-02T03:38:59.191Z"
   },
   {
    "duration": 1240,
    "start_time": "2024-07-02T03:39:07.029Z"
   },
   {
    "duration": 60,
    "start_time": "2024-07-02T03:39:08.272Z"
   },
   {
    "duration": 7,
    "start_time": "2024-07-02T03:39:08.334Z"
   },
   {
    "duration": 24,
    "start_time": "2024-07-02T03:39:08.345Z"
   },
   {
    "duration": 19,
    "start_time": "2024-07-02T03:39:08.400Z"
   },
   {
    "duration": 29,
    "start_time": "2024-07-02T03:39:08.422Z"
   },
   {
    "duration": 13,
    "start_time": "2024-07-02T03:39:08.454Z"
   },
   {
    "duration": 450,
    "start_time": "2024-07-02T03:39:08.503Z"
   },
   {
    "duration": 26,
    "start_time": "2024-07-02T03:39:08.956Z"
   },
   {
    "duration": 479,
    "start_time": "2024-07-02T03:39:09.001Z"
   },
   {
    "duration": 0,
    "start_time": "2024-07-02T03:39:09.484Z"
   },
   {
    "duration": 0,
    "start_time": "2024-07-02T03:39:09.486Z"
   },
   {
    "duration": 0,
    "start_time": "2024-07-02T03:39:09.501Z"
   },
   {
    "duration": 0,
    "start_time": "2024-07-02T03:39:09.503Z"
   },
   {
    "duration": 0,
    "start_time": "2024-07-02T03:39:09.505Z"
   },
   {
    "duration": 0,
    "start_time": "2024-07-02T03:39:09.507Z"
   },
   {
    "duration": 0,
    "start_time": "2024-07-02T03:39:09.508Z"
   },
   {
    "duration": 0,
    "start_time": "2024-07-02T03:39:09.511Z"
   },
   {
    "duration": 0,
    "start_time": "2024-07-02T03:39:09.514Z"
   },
   {
    "duration": 0,
    "start_time": "2024-07-02T03:39:09.516Z"
   },
   {
    "duration": 0,
    "start_time": "2024-07-02T03:39:09.519Z"
   },
   {
    "duration": 0,
    "start_time": "2024-07-02T03:39:09.521Z"
   },
   {
    "duration": 0,
    "start_time": "2024-07-02T03:39:09.524Z"
   },
   {
    "duration": 0,
    "start_time": "2024-07-02T03:39:09.526Z"
   },
   {
    "duration": 0,
    "start_time": "2024-07-02T03:39:09.529Z"
   },
   {
    "duration": 0,
    "start_time": "2024-07-02T03:39:09.531Z"
   },
   {
    "duration": 0,
    "start_time": "2024-07-02T03:39:09.534Z"
   },
   {
    "duration": 0,
    "start_time": "2024-07-02T03:39:09.535Z"
   },
   {
    "duration": 21,
    "start_time": "2024-07-02T03:39:21.197Z"
   },
   {
    "duration": 1279,
    "start_time": "2024-07-02T03:39:31.976Z"
   },
   {
    "duration": 67,
    "start_time": "2024-07-02T03:39:33.261Z"
   },
   {
    "duration": 6,
    "start_time": "2024-07-02T03:39:33.332Z"
   },
   {
    "duration": 26,
    "start_time": "2024-07-02T03:39:33.342Z"
   },
   {
    "duration": 17,
    "start_time": "2024-07-02T03:39:33.402Z"
   },
   {
    "duration": 28,
    "start_time": "2024-07-02T03:39:33.422Z"
   },
   {
    "duration": 13,
    "start_time": "2024-07-02T03:39:33.453Z"
   },
   {
    "duration": 419,
    "start_time": "2024-07-02T03:39:33.501Z"
   },
   {
    "duration": 31,
    "start_time": "2024-07-02T03:39:33.924Z"
   },
   {
    "duration": 48,
    "start_time": "2024-07-02T03:39:33.959Z"
   },
   {
    "duration": 468,
    "start_time": "2024-07-02T03:39:34.011Z"
   },
   {
    "duration": 437,
    "start_time": "2024-07-02T03:39:34.482Z"
   },
   {
    "duration": 307,
    "start_time": "2024-07-02T03:39:34.922Z"
   },
   {
    "duration": 918,
    "start_time": "2024-07-02T03:39:35.236Z"
   },
   {
    "duration": 198,
    "start_time": "2024-07-02T03:39:36.158Z"
   },
   {
    "duration": 2542,
    "start_time": "2024-07-02T03:39:36.359Z"
   },
   {
    "duration": 6,
    "start_time": "2024-07-02T03:39:38.904Z"
   },
   {
    "duration": 21,
    "start_time": "2024-07-02T03:39:38.914Z"
   },
   {
    "duration": 318,
    "start_time": "2024-07-02T03:39:38.939Z"
   },
   {
    "duration": 832,
    "start_time": "2024-07-02T03:39:39.260Z"
   },
   {
    "duration": 541,
    "start_time": "2024-07-02T03:39:40.103Z"
   },
   {
    "duration": 26,
    "start_time": "2024-07-02T03:39:40.647Z"
   },
   {
    "duration": 483,
    "start_time": "2024-07-02T03:39:40.676Z"
   },
   {
    "duration": 285,
    "start_time": "2024-07-02T03:39:41.162Z"
   },
   {
    "duration": 334,
    "start_time": "2024-07-02T03:39:41.450Z"
   },
   {
    "duration": 395,
    "start_time": "2024-07-02T03:39:41.788Z"
   },
   {
    "duration": 17,
    "start_time": "2024-07-02T03:39:42.186Z"
   },
   {
    "duration": 438,
    "start_time": "2024-07-02T03:39:42.206Z"
   },
   {
    "duration": 253,
    "start_time": "2024-07-02T03:45:28.571Z"
   },
   {
    "duration": 13,
    "start_time": "2024-07-02T03:45:42.258Z"
   },
   {
    "duration": 17,
    "start_time": "2024-07-02T03:47:42.992Z"
   },
   {
    "duration": 501,
    "start_time": "2024-07-02T03:48:22.044Z"
   },
   {
    "duration": 307,
    "start_time": "2024-07-02T03:48:55.108Z"
   },
   {
    "duration": 409,
    "start_time": "2024-07-02T03:49:55.725Z"
   },
   {
    "duration": 316,
    "start_time": "2024-07-02T03:50:36.617Z"
   },
   {
    "duration": 313,
    "start_time": "2024-07-02T16:47:52.565Z"
   },
   {
    "duration": 4926,
    "start_time": "2024-07-02T16:48:00.892Z"
   },
   {
    "duration": 69,
    "start_time": "2024-07-02T16:48:05.823Z"
   },
   {
    "duration": 6,
    "start_time": "2024-07-02T16:48:05.895Z"
   },
   {
    "duration": 26,
    "start_time": "2024-07-02T16:48:05.908Z"
   },
   {
    "duration": 17,
    "start_time": "2024-07-02T16:48:05.937Z"
   },
   {
    "duration": 62,
    "start_time": "2024-07-02T16:48:05.957Z"
   },
   {
    "duration": 15,
    "start_time": "2024-07-02T16:48:06.023Z"
   },
   {
    "duration": 449,
    "start_time": "2024-07-02T16:48:06.041Z"
   },
   {
    "duration": 32,
    "start_time": "2024-07-02T16:48:06.494Z"
   },
   {
    "duration": 20,
    "start_time": "2024-07-02T16:48:06.532Z"
   },
   {
    "duration": 486,
    "start_time": "2024-07-02T16:48:06.556Z"
   },
   {
    "duration": 394,
    "start_time": "2024-07-02T16:48:07.045Z"
   },
   {
    "duration": 296,
    "start_time": "2024-07-02T16:48:07.442Z"
   },
   {
    "duration": 1028,
    "start_time": "2024-07-02T16:48:07.741Z"
   },
   {
    "duration": 182,
    "start_time": "2024-07-02T16:48:08.774Z"
   },
   {
    "duration": 2546,
    "start_time": "2024-07-02T16:48:08.960Z"
   },
   {
    "duration": 5,
    "start_time": "2024-07-02T16:48:11.510Z"
   },
   {
    "duration": 22,
    "start_time": "2024-07-02T16:48:11.518Z"
   },
   {
    "duration": 330,
    "start_time": "2024-07-02T16:48:11.543Z"
   },
   {
    "duration": 720,
    "start_time": "2024-07-02T16:48:11.876Z"
   },
   {
    "duration": 645,
    "start_time": "2024-07-02T16:48:12.605Z"
   },
   {
    "duration": 20,
    "start_time": "2024-07-02T16:48:13.254Z"
   },
   {
    "duration": 464,
    "start_time": "2024-07-02T16:48:13.277Z"
   },
   {
    "duration": 300,
    "start_time": "2024-07-02T16:48:13.745Z"
   },
   {
    "duration": 315,
    "start_time": "2024-07-02T16:48:14.048Z"
   },
   {
    "duration": 331,
    "start_time": "2024-07-02T16:48:14.367Z"
   },
   {
    "duration": 335,
    "start_time": "2024-07-02T16:48:14.706Z"
   },
   {
    "duration": 10,
    "start_time": "2024-07-02T16:48:15.049Z"
   },
   {
    "duration": 14,
    "start_time": "2024-07-02T16:48:15.063Z"
   },
   {
    "duration": 12,
    "start_time": "2024-07-02T16:48:39.844Z"
   },
   {
    "duration": 10,
    "start_time": "2024-07-02T16:48:51.344Z"
   },
   {
    "duration": 12,
    "start_time": "2024-07-02T16:50:26.538Z"
   },
   {
    "duration": 13,
    "start_time": "2024-07-02T16:50:43.605Z"
   },
   {
    "duration": 13,
    "start_time": "2024-07-02T16:50:59.005Z"
   },
   {
    "duration": 10,
    "start_time": "2024-07-02T16:51:12.486Z"
   },
   {
    "duration": 24,
    "start_time": "2024-07-02T16:51:29.568Z"
   },
   {
    "duration": 11,
    "start_time": "2024-07-02T16:51:59.065Z"
   },
   {
    "duration": 10,
    "start_time": "2024-07-02T16:58:05.869Z"
   },
   {
    "duration": 25,
    "start_time": "2024-07-02T17:06:45.058Z"
   },
   {
    "duration": 13,
    "start_time": "2024-07-02T17:07:38.032Z"
   },
   {
    "duration": 14,
    "start_time": "2024-07-02T17:07:47.524Z"
   },
   {
    "duration": 12,
    "start_time": "2024-07-02T17:07:56.058Z"
   },
   {
    "duration": 10,
    "start_time": "2024-07-02T17:08:58.121Z"
   },
   {
    "duration": 12,
    "start_time": "2024-07-02T17:09:22.952Z"
   },
   {
    "duration": 624,
    "start_time": "2024-07-02T17:35:22.703Z"
   },
   {
    "duration": 8,
    "start_time": "2024-07-02T17:39:15.417Z"
   },
   {
    "duration": 12,
    "start_time": "2024-07-02T17:39:29.977Z"
   },
   {
    "duration": 699,
    "start_time": "2024-07-02T17:39:54.210Z"
   },
   {
    "duration": 19,
    "start_time": "2024-07-02T17:40:20.371Z"
   },
   {
    "duration": 20,
    "start_time": "2024-07-02T17:41:12.410Z"
   },
   {
    "duration": 11,
    "start_time": "2024-07-02T17:41:17.572Z"
   },
   {
    "duration": 86,
    "start_time": "2024-07-02T17:41:34.913Z"
   },
   {
    "duration": 477,
    "start_time": "2024-07-02T17:42:34.719Z"
   },
   {
    "duration": 466,
    "start_time": "2024-07-02T17:43:06.811Z"
   },
   {
    "duration": 1011,
    "start_time": "2024-07-02T17:43:50.384Z"
   },
   {
    "duration": 1032,
    "start_time": "2024-07-02T17:44:01.974Z"
   },
   {
    "duration": 400,
    "start_time": "2024-07-02T17:45:07.406Z"
   },
   {
    "duration": 1001,
    "start_time": "2024-07-02T17:45:14.663Z"
   },
   {
    "duration": 986,
    "start_time": "2024-07-02T17:45:45.652Z"
   },
   {
    "duration": 875,
    "start_time": "2024-07-02T17:45:53.088Z"
   },
   {
    "duration": 966,
    "start_time": "2024-07-02T17:45:58.828Z"
   },
   {
    "duration": 964,
    "start_time": "2024-07-02T17:47:10.945Z"
   },
   {
    "duration": 996,
    "start_time": "2024-07-02T17:47:56.175Z"
   },
   {
    "duration": 981,
    "start_time": "2024-07-02T17:48:37.927Z"
   },
   {
    "duration": 21,
    "start_time": "2024-07-02T17:49:08.772Z"
   },
   {
    "duration": 26,
    "start_time": "2024-07-02T17:50:05.931Z"
   },
   {
    "duration": 1018,
    "start_time": "2024-07-02T17:50:12.781Z"
   },
   {
    "duration": 1326,
    "start_time": "2024-07-02T18:09:44.228Z"
   },
   {
    "duration": 72,
    "start_time": "2024-07-02T18:09:45.557Z"
   },
   {
    "duration": 10,
    "start_time": "2024-07-02T18:09:45.635Z"
   },
   {
    "duration": 31,
    "start_time": "2024-07-02T18:09:45.648Z"
   },
   {
    "duration": 21,
    "start_time": "2024-07-02T18:09:45.705Z"
   },
   {
    "duration": 29,
    "start_time": "2024-07-02T18:09:45.729Z"
   },
   {
    "duration": 14,
    "start_time": "2024-07-02T18:09:45.760Z"
   },
   {
    "duration": 443,
    "start_time": "2024-07-02T18:09:45.808Z"
   },
   {
    "duration": 31,
    "start_time": "2024-07-02T18:09:46.254Z"
   },
   {
    "duration": 26,
    "start_time": "2024-07-02T18:09:46.306Z"
   },
   {
    "duration": 517,
    "start_time": "2024-07-02T18:09:46.336Z"
   },
   {
    "duration": 436,
    "start_time": "2024-07-02T18:09:46.857Z"
   },
   {
    "duration": 371,
    "start_time": "2024-07-02T18:09:47.295Z"
   },
   {
    "duration": 982,
    "start_time": "2024-07-02T18:09:47.674Z"
   },
   {
    "duration": 196,
    "start_time": "2024-07-02T18:09:48.660Z"
   },
   {
    "duration": 2573,
    "start_time": "2024-07-02T18:09:48.859Z"
   },
   {
    "duration": 6,
    "start_time": "2024-07-02T18:09:51.435Z"
   },
   {
    "duration": 21,
    "start_time": "2024-07-02T18:09:51.444Z"
   },
   {
    "duration": 335,
    "start_time": "2024-07-02T18:09:51.473Z"
   },
   {
    "duration": 852,
    "start_time": "2024-07-02T18:09:51.812Z"
   },
   {
    "duration": 571,
    "start_time": "2024-07-02T18:09:52.668Z"
   },
   {
    "duration": 21,
    "start_time": "2024-07-02T18:09:53.242Z"
   },
   {
    "duration": 1069,
    "start_time": "2024-07-02T18:09:53.266Z"
   },
   {
    "duration": 481,
    "start_time": "2024-07-02T18:09:54.338Z"
   },
   {
    "duration": 372,
    "start_time": "2024-07-02T18:09:54.822Z"
   },
   {
    "duration": 356,
    "start_time": "2024-07-02T18:09:55.198Z"
   },
   {
    "duration": 340,
    "start_time": "2024-07-02T18:09:55.559Z"
   },
   {
    "duration": 331,
    "start_time": "2024-07-02T18:09:55.902Z"
   },
   {
    "duration": 12,
    "start_time": "2024-07-02T18:09:56.236Z"
   },
   {
    "duration": 13,
    "start_time": "2024-07-02T18:09:56.252Z"
   },
   {
    "duration": 166,
    "start_time": "2024-07-02T18:28:33.495Z"
   },
   {
    "duration": 490,
    "start_time": "2024-07-02T18:29:18.310Z"
   },
   {
    "duration": 488,
    "start_time": "2024-07-02T18:29:37.238Z"
   },
   {
    "duration": 583,
    "start_time": "2024-07-02T18:30:40.815Z"
   },
   {
    "duration": 508,
    "start_time": "2024-07-02T18:32:25.620Z"
   },
   {
    "duration": 407,
    "start_time": "2024-07-02T18:32:41.758Z"
   },
   {
    "duration": 422,
    "start_time": "2024-07-02T18:32:57.180Z"
   },
   {
    "duration": 447,
    "start_time": "2024-07-02T18:34:51.918Z"
   },
   {
    "duration": 440,
    "start_time": "2024-07-02T18:35:22.279Z"
   },
   {
    "duration": 502,
    "start_time": "2024-07-02T18:36:30.751Z"
   },
   {
    "duration": 442,
    "start_time": "2024-07-02T18:36:36.751Z"
   },
   {
    "duration": 470,
    "start_time": "2024-07-02T18:36:47.975Z"
   },
   {
    "duration": 524,
    "start_time": "2024-07-02T18:37:14.365Z"
   },
   {
    "duration": 483,
    "start_time": "2024-07-02T18:37:49.877Z"
   },
   {
    "duration": 658,
    "start_time": "2024-07-02T18:38:23.344Z"
   },
   {
    "duration": 277,
    "start_time": "2024-07-02T18:38:44.539Z"
   },
   {
    "duration": 338,
    "start_time": "2024-07-02T18:39:51.780Z"
   },
   {
    "duration": 292,
    "start_time": "2024-07-02T18:41:18.542Z"
   },
   {
    "duration": 729,
    "start_time": "2024-07-02T18:41:33.927Z"
   },
   {
    "duration": 10,
    "start_time": "2024-07-02T18:42:12.474Z"
   },
   {
    "duration": 87,
    "start_time": "2024-07-02T18:42:19.335Z"
   },
   {
    "duration": 49,
    "start_time": "2024-07-02T18:42:33.147Z"
   },
   {
    "duration": 302,
    "start_time": "2024-07-02T18:42:50.153Z"
   },
   {
    "duration": 288,
    "start_time": "2024-07-02T18:44:43.276Z"
   },
   {
    "duration": 1286,
    "start_time": "2024-07-02T18:46:24.101Z"
   },
   {
    "duration": 284,
    "start_time": "2024-07-02T18:46:33.993Z"
   },
   {
    "duration": 997,
    "start_time": "2024-07-02T18:46:37.032Z"
   },
   {
    "duration": 876,
    "start_time": "2024-07-02T18:46:56.849Z"
   },
   {
    "duration": 142,
    "start_time": "2024-07-02T18:48:37.557Z"
   },
   {
    "duration": 812,
    "start_time": "2024-07-02T18:50:22.183Z"
   },
   {
    "duration": 160,
    "start_time": "2024-07-02T18:51:06.158Z"
   },
   {
    "duration": 37,
    "start_time": "2024-07-02T18:54:27.293Z"
   },
   {
    "duration": 167,
    "start_time": "2024-07-02T18:55:34.955Z"
   },
   {
    "duration": 25,
    "start_time": "2024-07-02T18:56:27.717Z"
   },
   {
    "duration": 100,
    "start_time": "2024-07-02T18:56:49.138Z"
   },
   {
    "duration": 18,
    "start_time": "2024-07-02T18:57:27.629Z"
   },
   {
    "duration": 27,
    "start_time": "2024-07-02T18:58:12.372Z"
   },
   {
    "duration": 8,
    "start_time": "2024-07-02T18:58:17.957Z"
   },
   {
    "duration": 200,
    "start_time": "2024-07-02T18:58:35.248Z"
   },
   {
    "duration": 2448,
    "start_time": "2024-07-02T19:00:55.230Z"
   },
   {
    "duration": 2592,
    "start_time": "2024-07-02T19:01:04.926Z"
   },
   {
    "duration": 271,
    "start_time": "2024-07-02T19:03:54.237Z"
   },
   {
    "duration": 574,
    "start_time": "2024-07-02T19:04:03.340Z"
   },
   {
    "duration": 589,
    "start_time": "2024-07-02T19:05:45.720Z"
   },
   {
    "duration": 437,
    "start_time": "2024-07-02T19:07:44.694Z"
   },
   {
    "duration": 303,
    "start_time": "2024-07-02T19:08:14.891Z"
   },
   {
    "duration": 304,
    "start_time": "2024-07-02T19:09:41.250Z"
   },
   {
    "duration": 317,
    "start_time": "2024-07-02T19:11:06.776Z"
   },
   {
    "duration": 408,
    "start_time": "2024-07-02T19:12:03.074Z"
   },
   {
    "duration": 4900,
    "start_time": "2024-07-03T19:58:42.243Z"
   },
   {
    "duration": 71,
    "start_time": "2024-07-03T19:58:47.146Z"
   },
   {
    "duration": 6,
    "start_time": "2024-07-03T19:58:47.220Z"
   },
   {
    "duration": 26,
    "start_time": "2024-07-03T19:58:47.230Z"
   },
   {
    "duration": 20,
    "start_time": "2024-07-03T19:58:47.258Z"
   },
   {
    "duration": 60,
    "start_time": "2024-07-03T19:58:47.281Z"
   },
   {
    "duration": 14,
    "start_time": "2024-07-03T19:58:47.344Z"
   },
   {
    "duration": 434,
    "start_time": "2024-07-03T19:58:47.361Z"
   },
   {
    "duration": 31,
    "start_time": "2024-07-03T19:58:47.799Z"
   },
   {
    "duration": 20,
    "start_time": "2024-07-03T19:58:47.835Z"
   },
   {
    "duration": 542,
    "start_time": "2024-07-03T19:58:47.858Z"
   },
   {
    "duration": 469,
    "start_time": "2024-07-03T19:58:48.403Z"
   },
   {
    "duration": 300,
    "start_time": "2024-07-03T19:58:54.886Z"
   },
   {
    "duration": 681,
    "start_time": "2024-07-03T19:59:26.050Z"
   },
   {
    "duration": 504,
    "start_time": "2024-07-03T20:06:03.714Z"
   },
   {
    "duration": 510,
    "start_time": "2024-07-03T20:06:34.194Z"
   },
   {
    "duration": 542,
    "start_time": "2024-07-03T20:06:59.177Z"
   },
   {
    "duration": 254,
    "start_time": "2024-07-03T20:07:28.518Z"
   },
   {
    "duration": 390,
    "start_time": "2024-07-03T20:07:56.443Z"
   },
   {
    "duration": 350,
    "start_time": "2024-07-03T20:08:35.274Z"
   },
   {
    "duration": 340,
    "start_time": "2024-07-03T20:08:53.314Z"
   },
   {
    "duration": 421,
    "start_time": "2024-07-03T20:09:02.858Z"
   },
   {
    "duration": 226,
    "start_time": "2024-07-03T20:09:39.659Z"
   },
   {
    "duration": 232,
    "start_time": "2024-07-03T20:09:49.959Z"
   },
   {
    "duration": 296,
    "start_time": "2024-07-03T20:11:51.972Z"
   },
   {
    "duration": 226,
    "start_time": "2024-07-03T20:12:04.200Z"
   },
   {
    "duration": 212,
    "start_time": "2024-07-03T20:12:29.737Z"
   },
   {
    "duration": 232,
    "start_time": "2024-07-03T20:12:53.999Z"
   },
   {
    "duration": 217,
    "start_time": "2024-07-03T20:13:32.508Z"
   },
   {
    "duration": 284,
    "start_time": "2024-07-03T20:14:41.161Z"
   },
   {
    "duration": 210,
    "start_time": "2024-07-03T20:14:55.085Z"
   },
   {
    "duration": 284,
    "start_time": "2024-07-03T20:17:12.339Z"
   },
   {
    "duration": 305,
    "start_time": "2024-07-03T20:17:23.305Z"
   },
   {
    "duration": 308,
    "start_time": "2024-07-03T20:17:38.609Z"
   },
   {
    "duration": 259,
    "start_time": "2024-07-03T20:18:45.222Z"
   },
   {
    "duration": 203,
    "start_time": "2024-07-03T20:20:35.100Z"
   },
   {
    "duration": 219,
    "start_time": "2024-07-03T20:20:58.915Z"
   },
   {
    "duration": 779,
    "start_time": "2024-07-03T20:21:08.013Z"
   },
   {
    "duration": 309,
    "start_time": "2024-07-03T20:27:27.184Z"
   },
   {
    "duration": 620,
    "start_time": "2024-07-03T20:32:57.710Z"
   },
   {
    "duration": 457,
    "start_time": "2024-07-03T20:33:13.795Z"
   },
   {
    "duration": 481,
    "start_time": "2024-07-03T20:36:07.828Z"
   },
   {
    "duration": 236,
    "start_time": "2024-07-03T20:36:19.645Z"
   },
   {
    "duration": 695,
    "start_time": "2024-07-03T20:36:43.582Z"
   },
   {
    "duration": 267,
    "start_time": "2024-07-03T20:36:49.587Z"
   },
   {
    "duration": 286,
    "start_time": "2024-07-03T20:37:20.132Z"
   },
   {
    "duration": 265,
    "start_time": "2024-07-03T20:37:26.229Z"
   },
   {
    "duration": 423,
    "start_time": "2024-07-03T20:38:01.870Z"
   },
   {
    "duration": 285,
    "start_time": "2024-07-03T20:38:54.878Z"
   },
   {
    "duration": 194,
    "start_time": "2024-07-03T20:39:14.283Z"
   },
   {
    "duration": 125,
    "start_time": "2024-07-03T20:44:59.392Z"
   },
   {
    "duration": 94,
    "start_time": "2024-07-03T20:45:49.930Z"
   },
   {
    "duration": 96,
    "start_time": "2024-07-03T20:46:36.020Z"
   },
   {
    "duration": 352,
    "start_time": "2024-07-03T20:47:08.927Z"
   },
   {
    "duration": 289,
    "start_time": "2024-07-03T20:47:19.246Z"
   },
   {
    "duration": 94,
    "start_time": "2024-07-03T20:47:26.722Z"
   },
   {
    "duration": 96,
    "start_time": "2024-07-03T20:48:49.305Z"
   },
   {
    "duration": 263,
    "start_time": "2024-07-03T20:49:12.310Z"
   },
   {
    "duration": 277,
    "start_time": "2024-07-03T20:49:23.922Z"
   },
   {
    "duration": 244,
    "start_time": "2024-07-03T20:49:37.251Z"
   },
   {
    "duration": 243,
    "start_time": "2024-07-03T20:49:45.122Z"
   },
   {
    "duration": 796,
    "start_time": "2024-07-03T20:50:45.034Z"
   },
   {
    "duration": 96,
    "start_time": "2024-07-03T20:51:04.037Z"
   },
   {
    "duration": 250,
    "start_time": "2024-07-03T20:51:13.180Z"
   },
   {
    "duration": 232,
    "start_time": "2024-07-03T20:52:43.559Z"
   },
   {
    "duration": 247,
    "start_time": "2024-07-03T20:55:09.536Z"
   },
   {
    "duration": 276,
    "start_time": "2024-07-03T20:55:17.996Z"
   },
   {
    "duration": 289,
    "start_time": "2024-07-03T20:55:21.987Z"
   },
   {
    "duration": 351,
    "start_time": "2024-07-03T20:55:27.537Z"
   },
   {
    "duration": 370,
    "start_time": "2024-07-03T20:55:33.468Z"
   },
   {
    "duration": 48,
    "start_time": "2024-07-03T20:58:04.964Z"
   },
   {
    "duration": 280,
    "start_time": "2024-07-03T20:58:20.042Z"
   },
   {
    "duration": 239,
    "start_time": "2024-07-03T21:10:09.476Z"
   },
   {
    "duration": 302,
    "start_time": "2024-07-03T21:10:20.634Z"
   },
   {
    "duration": 248,
    "start_time": "2024-07-03T21:11:48.085Z"
   },
   {
    "duration": 241,
    "start_time": "2024-07-03T21:11:54.184Z"
   },
   {
    "duration": 380,
    "start_time": "2024-07-03T21:12:02.879Z"
   },
   {
    "duration": 247,
    "start_time": "2024-07-03T21:13:53.299Z"
   },
   {
    "duration": 333,
    "start_time": "2024-07-04T15:23:21.368Z"
   },
   {
    "duration": 0,
    "start_time": "2024-07-04T15:23:21.707Z"
   },
   {
    "duration": 0,
    "start_time": "2024-07-04T15:23:21.709Z"
   },
   {
    "duration": 0,
    "start_time": "2024-07-04T15:23:21.711Z"
   },
   {
    "duration": 0,
    "start_time": "2024-07-04T15:23:21.713Z"
   },
   {
    "duration": 0,
    "start_time": "2024-07-04T15:23:21.717Z"
   },
   {
    "duration": 0,
    "start_time": "2024-07-04T15:23:21.719Z"
   },
   {
    "duration": 0,
    "start_time": "2024-07-04T15:23:21.720Z"
   },
   {
    "duration": 0,
    "start_time": "2024-07-04T15:23:21.723Z"
   },
   {
    "duration": 0,
    "start_time": "2024-07-04T15:23:21.724Z"
   },
   {
    "duration": 0,
    "start_time": "2024-07-04T15:23:21.726Z"
   },
   {
    "duration": 0,
    "start_time": "2024-07-04T15:23:21.730Z"
   },
   {
    "duration": 0,
    "start_time": "2024-07-04T15:23:21.731Z"
   },
   {
    "duration": 0,
    "start_time": "2024-07-04T15:23:21.733Z"
   },
   {
    "duration": 0,
    "start_time": "2024-07-04T15:23:21.736Z"
   },
   {
    "duration": 0,
    "start_time": "2024-07-04T15:23:21.738Z"
   },
   {
    "duration": 0,
    "start_time": "2024-07-04T15:23:21.740Z"
   },
   {
    "duration": 0,
    "start_time": "2024-07-04T15:23:21.742Z"
   },
   {
    "duration": 0,
    "start_time": "2024-07-04T15:23:21.751Z"
   },
   {
    "duration": 0,
    "start_time": "2024-07-04T15:23:21.800Z"
   },
   {
    "duration": 0,
    "start_time": "2024-07-04T15:23:21.805Z"
   },
   {
    "duration": 0,
    "start_time": "2024-07-04T15:23:21.806Z"
   },
   {
    "duration": 0,
    "start_time": "2024-07-04T15:23:21.808Z"
   },
   {
    "duration": 0,
    "start_time": "2024-07-04T15:23:21.811Z"
   },
   {
    "duration": 0,
    "start_time": "2024-07-04T15:23:21.813Z"
   },
   {
    "duration": 0,
    "start_time": "2024-07-04T15:23:21.815Z"
   },
   {
    "duration": 0,
    "start_time": "2024-07-04T15:23:21.817Z"
   },
   {
    "duration": 5172,
    "start_time": "2024-07-04T15:23:50.155Z"
   },
   {
    "duration": 69,
    "start_time": "2024-07-04T15:23:55.330Z"
   },
   {
    "duration": 6,
    "start_time": "2024-07-04T15:23:55.402Z"
   },
   {
    "duration": 33,
    "start_time": "2024-07-04T15:23:55.411Z"
   },
   {
    "duration": 22,
    "start_time": "2024-07-04T15:23:58.472Z"
   },
   {
    "duration": 7,
    "start_time": "2024-07-04T15:24:20.258Z"
   },
   {
    "duration": 8,
    "start_time": "2024-07-04T15:24:35.639Z"
   },
   {
    "duration": 16,
    "start_time": "2024-07-04T15:24:42.197Z"
   },
   {
    "duration": 27,
    "start_time": "2024-07-04T15:31:38.602Z"
   },
   {
    "duration": 84,
    "start_time": "2024-07-04T15:33:20.724Z"
   },
   {
    "duration": 85,
    "start_time": "2024-07-04T15:33:53.284Z"
   },
   {
    "duration": 101,
    "start_time": "2024-07-04T15:34:25.905Z"
   },
   {
    "duration": 88,
    "start_time": "2024-07-04T15:34:35.095Z"
   },
   {
    "duration": 82,
    "start_time": "2024-07-04T15:35:37.159Z"
   },
   {
    "duration": 211,
    "start_time": "2024-07-04T15:35:58.105Z"
   },
   {
    "duration": 85,
    "start_time": "2024-07-04T15:36:05.682Z"
   },
   {
    "duration": 82,
    "start_time": "2024-07-04T15:38:17.359Z"
   },
   {
    "duration": 690,
    "start_time": "2024-07-04T15:45:08.923Z"
   },
   {
    "duration": 371,
    "start_time": "2024-07-04T15:45:21.876Z"
   },
   {
    "duration": 377,
    "start_time": "2024-07-04T15:50:07.969Z"
   },
   {
    "duration": 44,
    "start_time": "2024-07-04T15:52:33.873Z"
   },
   {
    "duration": 1238,
    "start_time": "2024-07-04T15:56:50.053Z"
   },
   {
    "duration": 55,
    "start_time": "2024-07-04T15:56:51.295Z"
   },
   {
    "duration": 7,
    "start_time": "2024-07-04T15:56:51.353Z"
   },
   {
    "duration": 49,
    "start_time": "2024-07-04T15:56:51.363Z"
   },
   {
    "duration": 403,
    "start_time": "2024-07-04T15:56:51.417Z"
   },
   {
    "duration": 16,
    "start_time": "2024-07-04T15:56:51.823Z"
   },
   {
    "duration": 26,
    "start_time": "2024-07-04T15:56:51.843Z"
   },
   {
    "duration": 39,
    "start_time": "2024-07-04T15:56:51.872Z"
   },
   {
    "duration": 455,
    "start_time": "2024-07-04T15:56:51.914Z"
   },
   {
    "duration": 36,
    "start_time": "2024-07-04T15:56:52.372Z"
   },
   {
    "duration": 21,
    "start_time": "2024-07-04T15:56:52.411Z"
   },
   {
    "duration": 540,
    "start_time": "2024-07-04T15:56:52.435Z"
   },
   {
    "duration": 537,
    "start_time": "2024-07-04T15:56:52.978Z"
   },
   {
    "duration": 435,
    "start_time": "2024-07-04T15:56:53.521Z"
   },
   {
    "duration": 0,
    "start_time": "2024-07-04T15:56:53.959Z"
   },
   {
    "duration": 0,
    "start_time": "2024-07-04T15:56:53.961Z"
   },
   {
    "duration": 0,
    "start_time": "2024-07-04T15:56:53.963Z"
   },
   {
    "duration": 0,
    "start_time": "2024-07-04T15:56:53.965Z"
   },
   {
    "duration": 0,
    "start_time": "2024-07-04T15:56:53.967Z"
   },
   {
    "duration": 0,
    "start_time": "2024-07-04T15:56:53.971Z"
   },
   {
    "duration": 0,
    "start_time": "2024-07-04T15:56:53.973Z"
   },
   {
    "duration": 0,
    "start_time": "2024-07-04T15:56:54.002Z"
   },
   {
    "duration": 0,
    "start_time": "2024-07-04T15:56:54.005Z"
   },
   {
    "duration": 0,
    "start_time": "2024-07-04T15:56:54.007Z"
   },
   {
    "duration": 0,
    "start_time": "2024-07-04T15:56:54.009Z"
   },
   {
    "duration": 0,
    "start_time": "2024-07-04T15:56:54.010Z"
   },
   {
    "duration": 0,
    "start_time": "2024-07-04T15:56:54.013Z"
   },
   {
    "duration": 0,
    "start_time": "2024-07-04T15:56:54.015Z"
   },
   {
    "duration": 0,
    "start_time": "2024-07-04T15:56:54.017Z"
   },
   {
    "duration": 0,
    "start_time": "2024-07-04T15:56:54.019Z"
   },
   {
    "duration": 0,
    "start_time": "2024-07-04T15:56:54.021Z"
   },
   {
    "duration": 243,
    "start_time": "2024-07-04T15:57:46.596Z"
   },
   {
    "duration": 234,
    "start_time": "2024-07-04T15:59:01.953Z"
   },
   {
    "duration": 1249,
    "start_time": "2024-07-04T15:59:11.117Z"
   },
   {
    "duration": 60,
    "start_time": "2024-07-04T15:59:12.369Z"
   },
   {
    "duration": 6,
    "start_time": "2024-07-04T15:59:12.432Z"
   },
   {
    "duration": 25,
    "start_time": "2024-07-04T15:59:12.441Z"
   },
   {
    "duration": 422,
    "start_time": "2024-07-04T15:59:12.471Z"
   },
   {
    "duration": 19,
    "start_time": "2024-07-04T15:59:12.901Z"
   },
   {
    "duration": 27,
    "start_time": "2024-07-04T15:59:12.923Z"
   },
   {
    "duration": 13,
    "start_time": "2024-07-04T15:59:12.953Z"
   },
   {
    "duration": 436,
    "start_time": "2024-07-04T15:59:13.002Z"
   },
   {
    "duration": 24,
    "start_time": "2024-07-04T15:59:13.441Z"
   },
   {
    "duration": 45,
    "start_time": "2024-07-04T15:59:13.467Z"
   },
   {
    "duration": 541,
    "start_time": "2024-07-04T15:59:13.514Z"
   },
   {
    "duration": 545,
    "start_time": "2024-07-04T15:59:14.058Z"
   },
   {
    "duration": 252,
    "start_time": "2024-07-04T15:59:14.611Z"
   },
   {
    "duration": 272,
    "start_time": "2024-07-04T15:59:14.866Z"
   },
   {
    "duration": 178,
    "start_time": "2024-07-04T15:59:15.141Z"
   },
   {
    "duration": 2644,
    "start_time": "2024-07-04T15:59:15.322Z"
   },
   {
    "duration": 5,
    "start_time": "2024-07-04T15:59:17.969Z"
   },
   {
    "duration": 40,
    "start_time": "2024-07-04T15:59:17.978Z"
   },
   {
    "duration": 310,
    "start_time": "2024-07-04T15:59:18.021Z"
   },
   {
    "duration": 827,
    "start_time": "2024-07-04T15:59:18.334Z"
   },
   {
    "duration": 544,
    "start_time": "2024-07-04T15:59:19.164Z"
   },
   {
    "duration": 20,
    "start_time": "2024-07-04T15:59:19.711Z"
   },
   {
    "duration": 1046,
    "start_time": "2024-07-04T15:59:19.736Z"
   },
   {
    "duration": 388,
    "start_time": "2024-07-04T15:59:20.785Z"
   },
   {
    "duration": 276,
    "start_time": "2024-07-04T15:59:21.176Z"
   },
   {
    "duration": 319,
    "start_time": "2024-07-04T15:59:21.455Z"
   },
   {
    "duration": 406,
    "start_time": "2024-07-04T15:59:21.778Z"
   },
   {
    "duration": 429,
    "start_time": "2024-07-04T15:59:22.188Z"
   },
   {
    "duration": 15,
    "start_time": "2024-07-04T15:59:22.620Z"
   },
   {
    "duration": 12,
    "start_time": "2024-07-04T15:59:22.638Z"
   }
  ],
  "kernelspec": {
   "display_name": "Python 3 (ipykernel)",
   "language": "python",
   "name": "python3"
  },
  "language_info": {
   "codemirror_mode": {
    "name": "ipython",
    "version": 3
   },
   "file_extension": ".py",
   "mimetype": "text/x-python",
   "name": "python",
   "nbconvert_exporter": "python",
   "pygments_lexer": "ipython3",
   "version": "3.12.4"
  },
  "toc": {
   "base_numbering": 1,
   "nav_menu": {},
   "number_sections": true,
   "sideBar": true,
   "skip_h1_title": true,
   "title_cell": "Table of Contents",
   "title_sidebar": "Contents",
   "toc_cell": false,
   "toc_position": {},
   "toc_section_display": true,
   "toc_window_display": false
  }
 },
 "nbformat": 4,
 "nbformat_minor": 2
}
